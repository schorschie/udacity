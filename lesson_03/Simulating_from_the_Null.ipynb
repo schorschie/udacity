{
 "cells": [
  {
   "cell_type": "code",
   "execution_count": 2,
   "metadata": {
    "scrolled": true
   },
   "outputs": [
    {
     "data": {
      "text/html": [
       "<div>\n",
       "<style scoped>\n",
       "    .dataframe tbody tr th:only-of-type {\n",
       "        vertical-align: middle;\n",
       "    }\n",
       "\n",
       "    .dataframe tbody tr th {\n",
       "        vertical-align: top;\n",
       "    }\n",
       "\n",
       "    .dataframe thead th {\n",
       "        text-align: right;\n",
       "    }\n",
       "</style>\n",
       "<table border=\"1\" class=\"dataframe\">\n",
       "  <thead>\n",
       "    <tr style=\"text-align: right;\">\n",
       "      <th></th>\n",
       "      <th>user_id</th>\n",
       "      <th>age</th>\n",
       "      <th>drinks_coffee</th>\n",
       "      <th>height</th>\n",
       "    </tr>\n",
       "  </thead>\n",
       "  <tbody>\n",
       "    <tr>\n",
       "      <td>2402</td>\n",
       "      <td>2874</td>\n",
       "      <td>&lt;21</td>\n",
       "      <td>True</td>\n",
       "      <td>64.357154</td>\n",
       "    </tr>\n",
       "    <tr>\n",
       "      <td>2864</td>\n",
       "      <td>3670</td>\n",
       "      <td>&gt;=21</td>\n",
       "      <td>True</td>\n",
       "      <td>66.859636</td>\n",
       "    </tr>\n",
       "    <tr>\n",
       "      <td>2167</td>\n",
       "      <td>7441</td>\n",
       "      <td>&lt;21</td>\n",
       "      <td>False</td>\n",
       "      <td>66.659561</td>\n",
       "    </tr>\n",
       "    <tr>\n",
       "      <td>507</td>\n",
       "      <td>2781</td>\n",
       "      <td>&gt;=21</td>\n",
       "      <td>True</td>\n",
       "      <td>70.166241</td>\n",
       "    </tr>\n",
       "    <tr>\n",
       "      <td>1817</td>\n",
       "      <td>2875</td>\n",
       "      <td>&gt;=21</td>\n",
       "      <td>True</td>\n",
       "      <td>71.369120</td>\n",
       "    </tr>\n",
       "  </tbody>\n",
       "</table>\n",
       "</div>"
      ],
      "text/plain": [
       "      user_id   age  drinks_coffee     height\n",
       "2402     2874   <21           True  64.357154\n",
       "2864     3670  >=21           True  66.859636\n",
       "2167     7441   <21          False  66.659561\n",
       "507      2781  >=21           True  70.166241\n",
       "1817     2875  >=21           True  71.369120"
      ]
     },
     "execution_count": 2,
     "metadata": {},
     "output_type": "execute_result"
    }
   ],
   "source": [
    "import pandas as pd\n",
    "import numpy as np\n",
    "import matplotlib.pyplot as plt\n",
    "\n",
    "%matplotlib inline\n",
    "\n",
    "np.random.seed(42)\n",
    "\n",
    "full_data = pd.read_csv('coffee_dataset.csv')\n",
    "sample_data = full_data.sample(200)\n",
    "\n",
    "sample_data.head()"
   ]
  },
  {
   "cell_type": "code",
   "execution_count": 3,
   "metadata": {},
   "outputs": [
    {
     "data": {
      "text/plain": [
       "68.11962990858618"
      ]
     },
     "execution_count": 3,
     "metadata": {},
     "output_type": "execute_result"
    }
   ],
   "source": [
    "mu_C = sample_data.query(\"drinks_coffee == True\")['height'].mean()\n",
    "mu_C"
   ]
  },
  {
   "cell_type": "code",
   "execution_count": 4,
   "metadata": {},
   "outputs": [
    {
     "data": {
      "text/plain": [
       "66.78492279927877"
      ]
     },
     "execution_count": 4,
     "metadata": {},
     "output_type": "execute_result"
    }
   ],
   "source": [
    "mu_nC = sample_data.query(\"drinks_coffee == False\")['height'].mean()\n",
    "mu_nC"
   ]
  },
  {
   "cell_type": "markdown",
   "metadata": {},
   "source": [
    "`1.` If you were interested in studying whether the average height for coffee drinkers is the same as for non-coffee drinkers, what would the null and alternative hypotheses be?  Write them in the cell below, and use your answer to answer the first quiz question below."
   ]
  },
  {
   "cell_type": "markdown",
   "metadata": {},
   "source": [
    "$$H_0: \\mu_C = \\mu_{\\overline{C}} \\\\\n",
    "H_1: \\mu_C \\neq \\mu_{\\overline{C}}$$"
   ]
  },
  {
   "cell_type": "markdown",
   "metadata": {},
   "source": [
    "`2.` If you were interested in studying whether the average height for coffee drinkers is less than non-coffee drinkers, what would the null and alternative hypotheses be?  Write them in the cell below, and use your answer to answer the second quiz question below."
   ]
  },
  {
   "cell_type": "markdown",
   "metadata": {},
   "source": [
    "$$H_0: \\mu_C \\geq \\mu_{\\overline{C}} \\\\\n",
    "H_1: \\mu_C < \\mu_{\\overline{C}}$$"
   ]
  },
  {
   "cell_type": "markdown",
   "metadata": {},
   "source": [
    "`3.` For 10,000 iterations: bootstrap the sample data, calculate the mean height for coffee drinkers and non-coffee drinkers, and calculate the difference in means for each sample.  You will want to have three arrays at the end of the iterations - one for each mean and one for the difference in means.  Use the results of your sampling distribution, to answer the third quiz question below."
   ]
  },
  {
   "cell_type": "code",
   "execution_count": 5,
   "metadata": {},
   "outputs": [
    {
     "data": {
      "text/plain": [
       "array([1.97329648, 2.03770736, 1.65413988, ..., 0.75580117, 0.60960309,\n",
       "       1.79640607])"
      ]
     },
     "execution_count": 5,
     "metadata": {},
     "output_type": "execute_result"
    }
   ],
   "source": [
    "heigth_coffee = []\n",
    "heigth_non_coffee = []\n",
    "\n",
    "index = sample_data.index\n",
    "for _ in range(10000):\n",
    "    bootstrapped_index = np.random.choice(index, size=200)\n",
    "    heigth_coffee.append(sample_data.loc[bootstrapped_index].query(\"drinks_coffee == True\")['height'].mean())\n",
    "    heigth_non_coffee.append(sample_data.loc[bootstrapped_index].query(\"drinks_coffee == False\")['height'].mean())\n",
    "\n",
    "heigth_diff_coffee = np.array(heigth_coffee) - np.array(heigth_non_coffee)\n",
    "heigth_diff_coffee"
   ]
  },
  {
   "cell_type": "code",
   "execution_count": 7,
   "metadata": {},
   "outputs": [
    {
     "data": {
      "text/plain": [
       "0.40512631277475264"
      ]
     },
     "execution_count": 7,
     "metadata": {},
     "output_type": "execute_result"
    }
   ],
   "source": [
    "np.std(heigth_non_coffee)"
   ]
  },
  {
   "cell_type": "code",
   "execution_count": 8,
   "metadata": {},
   "outputs": [
    {
     "data": {
      "text/plain": [
       "0.24073763373473"
      ]
     },
     "execution_count": 8,
     "metadata": {},
     "output_type": "execute_result"
    }
   ],
   "source": [
    "np.std(heigth_coffee)"
   ]
  },
  {
   "cell_type": "code",
   "execution_count": 9,
   "metadata": {},
   "outputs": [
    {
     "data": {
      "text/plain": [
       "0.4698091074387146"
      ]
     },
     "execution_count": 9,
     "metadata": {},
     "output_type": "execute_result"
    }
   ],
   "source": [
    "np.std(heigth_diff_coffee)"
   ]
  },
  {
   "cell_type": "code",
   "execution_count": 14,
   "metadata": {},
   "outputs": [
    {
     "data": {
      "image/png": "[encoded data removed]",
      "text/plain": [
       "<Figure size 1080x360 with 2 Axes>"
      ]
     },
     "metadata": {
      "needs_background": "light"
     },
     "output_type": "display_data"
    }
   ],
   "source": [
    "_, ax = plt.subplots(1, 2, figsize=(15,5))\n",
    "\n",
    "ax[0].hist(heigth_coffee, 30, alpha=.6);\n",
    "ax[0].hist(heigth_non_coffee, 30, alpha=.6);\n",
    "ax[1].hist(heigth_diff_coffee, 30);"
   ]
  },
  {
   "cell_type": "markdown",
   "metadata": {},
   "source": [
    "`4.` Now, use your observed sampling distribution for the difference in means and [the docs](https://docs.scipy.org/doc/numpy-1.13.0/reference/generated/numpy.random.normal.html) to simulate what you would expect the sampling distribution to be if the null hypothesis is true. You can do this be recentering your distribution at zero. Also, calculate the observed sample mean difference in `sample_data`. Use your solutions to answer the last questions in the quiz below."
   ]
  },
  {
   "cell_type": "code",
   "execution_count": 10,
   "metadata": {},
   "outputs": [],
   "source": [
    "\n",
    "means = []\n",
    "for _ in range(10000):\n",
    "    bootstrap = sample_data.sample(200, replace=True)\n",
    "    means.append(bootstrap.height.mean())\n",
    "std = np.std(means)\n"
   ]
  },
  {
   "cell_type": "code",
   "execution_count": 11,
   "metadata": {},
   "outputs": [
    {
     "data": {
      "image/png": "[encoded data removed]",
      "text/plain": [
       "<Figure size 432x288 with 1 Axes>"
      ]
     },
     "metadata": {
      "needs_background": "light"
     },
     "output_type": "display_data"
    }
   ],
   "source": [
    "# Sample a bootstrap of values, which would be the last possible null hypothosis.\n",
    "null_vals = np.random.normal(mu_nC, std, 10000)\n",
    "\n",
    "plt.hist(null_vals, 30);\n",
    "m = sample_data.height.mean()\n",
    "plt.plot([m, m], [0, 1200]);"
   ]
  },
  {
   "cell_type": "markdown",
   "metadata": {},
   "source": [
    "Die gelbe Linie ist die durchschnittliche Größe aller und die blaue Verteilung ist die Größe der nicht Kaffee-Trinker.\n",
    "\n",
    "* Somit ist die Wahrscheinlichkeit, dass die echte Verteilung aus den nicht Kaffee-Trinkern entstehen könnte sehr klein, weil sehr weit außen."
   ]
  }
 ],
 "metadata": {
  "kernelspec": {
   "display_name": "Python 3",
   "language": "python",
   "name": "python3"
  },
  "language_info": {
   "codemirror_mode": {
    "name": "ipython",
    "version": 3
   },
   "file_extension": ".py",
   "mimetype": "text/x-python",
   "name": "python",
   "nbconvert_exporter": "python",
   "pygments_lexer": "ipython3",
   "version": "3.7.4"
  }
 },
 "nbformat": 4,
 "nbformat_minor": 2
}

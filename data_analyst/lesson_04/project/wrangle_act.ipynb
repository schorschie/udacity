{
 "cells": [
  {
   "cell_type": "markdown",
   "metadata": {
    "slideshow": {
     "slide_type": "slide"
    }
   },
   "source": [
    "# \"We rate dogs\" data wrangling project\n",
    "\n",
    "1. The WeRateDogs Twitter archive. I am giving this file to you, so imagine it as a file on hand. Download this file manually by clicking the following link: [```twitter_archive_enhanced.csv```](https://d17h27t6h515a5.cloudfront.net/topher/2017/August/59a4e958_twitter-archive-enhanced/twitter-archive-enhanced.csv)\n",
    "\n",
    "1. The tweet image predictions, i.e., what breed of dog (or other object, animal, etc.) is present in each tweet according to a neural network. This file (```image_predictions.tsv```) is hosted on Udacity's servers and should be downloaded programmatically using the Requests library and the following URL: https://d17h27t6h515a5.cloudfront.net/topher/2017/August/599fd2ad_image-predictions/image-predictions.tsv\n",
    "\n",
    "1. Each tweet's *retweet count* and *favorite (\"like\") count* at minimum, and any additional data you find interesting. Using the tweet IDs in the WeRateDogs Twitter archive, query the Twitter API for each tweet's JSON data using Python's [Tweepy](http://www.tweepy.org/) library and store each tweet's entire set of JSON data in a file called ```tweet_json.txt``` file. Each tweet's JSON data should be written to its own line. Then read this .txt file line by line into a pandas DataFrame with (at minimum) tweet ID, retweet count, and favorite count.\n",
    "\n",
    "Note: do not include your Twitter API keys, secrets, and tokens in your project submission.\n"
   ]
  },
  {
   "cell_type": "markdown",
   "metadata": {
    "slideshow": {
     "slide_type": "subslide"
    }
   },
   "source": [
    "## Assessing Data for this Project\n",
    "\n",
    "After gathering each of the above pieces of data, assess them visually and programmatically for quality and tidiness issues. Detect and document at least **eight (8) quality issues** and **two (2) tidiness issues** in your ```wrangle_act.ipynb``` Jupyter Notebook. To meet specifications, the issues that satisfy the Project Motivation (see the Key Points header on the previous page) must be assessed.\n",
    "\n",
    "## Cleaning Data for this Project\n",
    "\n",
    "Clean each of the issues you documented while assessing. Perform this cleaning in ```wrangle_act.ipynb``` as well. The result should be a high quality and tidy master pandas DataFrame (or DataFrames, if appropriate). Again, the issues that satisfy the Project Motivation must be cleaned.\n",
    "\n",
    "## Storing, Analyzing, and Visualizing Data for this Project\n",
    "\n",
    "Store the clean DataFrame(s) in a CSV file with the main one named ```twitter_archive_master.csv```. If additional files exist because multiple tables are required for tidiness, name these files appropriately. Additionally, you may store the cleaned data in a SQLite database (which is to be submitted as well if you do).\n",
    "\n",
    "Analyze and visualize your wrangled data in your ```wrangle_act.ipynb``` Jupyter Notebook. **At least three (3) insights and one (1) visualization** must be produced.\n",
    "\n",
    "## Reporting for this Project\n",
    "\n",
    "Create **a 300-600 word written report** called ```mwrangle_report.pdf``` or ```wrangle_report.html``` that briefly describes your wrangling efforts. This is to be framed as an internal document.\n",
    "\n",
    "Create a **250-word-minimum written report** called ```act_report.pdf``` or ```act_report.html``` that communicates the insights and displays the visualization(s) produced from your wrangled data. This is to be framed as an external document, like a blog post or magazine article, for example.\n",
    "\n",
    "Both of these documents can be created in separate Jupyter Notebooks using the [Markdown functionality](http://jupyter-notebook.readthedocs.io/en/stable/examples/Notebook/Working%20With%20Markdown%20Cells.html) of Jupyter Notebooks, then downloading those notebooks as PDF files or HTML files (see image below). You might prefer to use a word processor like Google Docs or Microsoft Word, however.\n"
   ]
  },
  {
   "cell_type": "code",
   "execution_count": 1,
   "metadata": {
    "slideshow": {
     "slide_type": "skip"
    }
   },
   "outputs": [],
   "source": [
    "import os\n",
    "import tweepy\n",
    "import requests\n",
    "import pandas as pd\n",
    "import numpy as np\n",
    "import matplotlib.pyplot as plt"
   ]
  },
  {
   "cell_type": "markdown",
   "metadata": {
    "slideshow": {
     "slide_type": "slide"
    }
   },
   "source": [
    "## Gather Data\n",
    "\n",
    "> #### From Template:  \n",
    "> * Depending on the source of your data, and what format it's in, the steps in gathering data vary.  \n",
    "> * High-level gathering process: obtaining data (downloading a file from the internet, scraping a web page,  \n",
    ">   querying an API, etc.) and importing that data into your programming environment (e.g., Jupyter Notebook).  \n",
    "\n",
    "\n",
    "Data for this projects originates from 3 sources:\n",
    "1. A `twitter-archive-enhanced.csv` file, provided by Udacity\n",
    "1. A `image-predictions.tsv` file, also provided by udacity, but downloaded with python `requests` function.\n",
    "1. A `tweet_coverage.csv` file, created for this project with a twitter API."
   ]
  },
  {
   "cell_type": "code",
   "execution_count": 2,
   "metadata": {
    "slideshow": {
     "slide_type": "skip"
    }
   },
   "outputs": [],
   "source": [
    "def get_image_predictions():\n",
    "    \"\"\"Load image-predictions from disk if present, else load it from udacity.\n",
    "    \n",
    "    WARNING: This only works from within the udacity project workspace!\n",
    "    \n",
    "    \"\"\"\n",
    "    \n",
    "    if  not os.path.exists('image-predictions.tsv'):\n",
    "        r = requests.get(\"https://d17h27t6h515a5.cloudfront.net/topher/2017/August/599fd2ad_image-predictions/image-predictions.tsv\",\n",
    "                         stream=True)\n",
    "        tsv = r.raw.read()\n",
    "        with open('image-predictions.tsv', 'wb') as f:\n",
    "            f.write(tsv)\n",
    "            \n",
    "    df_image_predictions = pd.read_csv('image-predictions.tsv', sep='\\t')\n",
    "    \n",
    "    return df_image_predictions"
   ]
  },
  {
   "cell_type": "code",
   "execution_count": 3,
   "metadata": {
    "slideshow": {
     "slide_type": "skip"
    }
   },
   "outputs": [],
   "source": [
    "def get_tweet_coverate():\n",
    "    \"\"\"Load tweet_coverage from disk if present, else scrape it from twitter.\"\"\"\n",
    "    \n",
    "    if  os.path.exists('tweet_coverage.csv'):\n",
    "        df_tweet_coverage = pd.read_csv('tweet_coverage.csv')\n",
    "    else:\n",
    "        consumer_key = os.environ.get(\"TWITTER_API\")\n",
    "        consumer_secret = os.environ.get(\"TWITTER_API_SECRET\")\n",
    "        access_token = os.environ.get(\"TWITTER_ACCESS_TOKEN\")\n",
    "        access_secret = os.environ.get(\"TWITTER_ACCESS_TOKEN_SECRET\")\n",
    "\n",
    "        auth = tweepy.OAuthHandler(consumer_key, consumer_secret)\n",
    "        auth.set_access_token(access_token, access_secret)\n",
    "\n",
    "        api = tweepy.API(auth)\n",
    "        retweet_count = []\n",
    "        favorite_count = []\n",
    "        favorited = []\n",
    "        retweeted = []\n",
    "\n",
    "        for index, row in df_twitter_archive.iterrows():\n",
    "            try:\n",
    "                tweet_status = api.get_status(row.tweet_id, tweet_mode='extended')._json\n",
    "                retweet_count.append(tweet_status['retweet_count'])\n",
    "                favorite_count.append(tweet_status['favorite_count'])\n",
    "                favorited.append(tweet_status['favorited'])\n",
    "                retweeted.append(tweet_status['retweeted'])\n",
    "            except:\n",
    "                retweet_count.append(np.nan)\n",
    "                favorite_count.append(np.nan)\n",
    "                favorited.append(np.nan)\n",
    "                retweeted.append(np.nan)\n",
    "\n",
    "            if index % 100 == 0:\n",
    "                print('Index is %d' % (index))\n",
    "        print('ready')\n",
    "        df_tweet_coverage = pd.DataFrame(data = list(zip(df_image_predictions['tweet_id'].values, retweet_count,\n",
    "                                                         favorite_count, favorited, retweeted)),\n",
    "                                         columns=['tweet_id', 'retweet_count', \n",
    "                                                  'favorite_count', 'favorited', 'retweeted'])\n",
    "        df_tweet_coverage.to_csv('tweet_coverage.csv', index=False)        \n",
    "        \n",
    "    return df_tweet_coverage"
   ]
  },
  {
   "cell_type": "code",
   "execution_count": 4,
   "metadata": {
    "slideshow": {
     "slide_type": "fragment"
    }
   },
   "outputs": [],
   "source": [
    "df_twitter_archive = pd.read_csv('twitter-archive-enhanced.csv')\n",
    "df_image_predictions = get_image_predictions()\n",
    "df_tweet_coverage = get_tweet_coverate()"
   ]
  },
  {
   "cell_type": "markdown",
   "metadata": {
    "slideshow": {
     "slide_type": "slide"
    }
   },
   "source": [
    "## Asses Data\n",
    "\n",
    "> #### From Template:\n",
    "> * Assess data for:\n",
    ">   * Quality: issues with content. Low quality data is also known as dirty data.\n",
    ">   * Tidiness: issues with structure that prevent easy analysis. Untidy data is also known as messy data.\n",
    ">     Tidy data requirements:\n",
    ">       1. Each variable forms a column.\n",
    ">       1. Each observation forms a row.\n",
    ">       1. Each type of observational unit forms a table.\n",
    "> \n",
    "> * Types of assessment:\n",
    ">   * Visual assessment: scrolling through the data in your preferred software application (Google Sheets, Excel,\n",
    ">     a text editor, etc.).\n",
    ">   * Programmatic assessment: using code to view specific portions and summaries of the data (pandas' `head`, `tail`,\n",
    ">     and `info` methods, for example).\n",
    "\n"
   ]
  },
  {
   "cell_type": "code",
   "execution_count": 5,
   "metadata": {
    "slideshow": {
     "slide_type": "skip"
    }
   },
   "outputs": [
    {
     "data": {
      "text/html": [
       "<div>\n",
       "<style scoped>\n",
       "    .dataframe tbody tr th:only-of-type {\n",
       "        vertical-align: middle;\n",
       "    }\n",
       "\n",
       "    .dataframe tbody tr th {\n",
       "        vertical-align: top;\n",
       "    }\n",
       "\n",
       "    .dataframe thead th {\n",
       "        text-align: right;\n",
       "    }\n",
       "</style>\n",
       "<table border=\"1\" class=\"dataframe\">\n",
       "  <thead>\n",
       "    <tr style=\"text-align: right;\">\n",
       "      <th></th>\n",
       "      <th>tweet_id</th>\n",
       "      <th>in_reply_to_status_id</th>\n",
       "      <th>in_reply_to_user_id</th>\n",
       "      <th>timestamp</th>\n",
       "      <th>source</th>\n",
       "      <th>text</th>\n",
       "      <th>retweeted_status_id</th>\n",
       "      <th>retweeted_status_user_id</th>\n",
       "      <th>retweeted_status_timestamp</th>\n",
       "      <th>expanded_urls</th>\n",
       "      <th>rating_numerator</th>\n",
       "      <th>rating_denominator</th>\n",
       "      <th>name</th>\n",
       "      <th>doggo</th>\n",
       "      <th>floofer</th>\n",
       "      <th>pupper</th>\n",
       "      <th>puppo</th>\n",
       "    </tr>\n",
       "  </thead>\n",
       "  <tbody>\n",
       "    <tr>\n",
       "      <th>0</th>\n",
       "      <td>892420643555336193</td>\n",
       "      <td>NaN</td>\n",
       "      <td>NaN</td>\n",
       "      <td>2017-08-01 16:23:56 +0000</td>\n",
       "      <td>&lt;a href=\"http://twitter.com/download/iphone\" r...</td>\n",
       "      <td>This is Phineas. He's a mystical boy. Only eve...</td>\n",
       "      <td>NaN</td>\n",
       "      <td>NaN</td>\n",
       "      <td>NaN</td>\n",
       "      <td>https://twitter.com/dog_rates/status/892420643...</td>\n",
       "      <td>13</td>\n",
       "      <td>10</td>\n",
       "      <td>Phineas</td>\n",
       "      <td>None</td>\n",
       "      <td>None</td>\n",
       "      <td>None</td>\n",
       "      <td>None</td>\n",
       "    </tr>\n",
       "    <tr>\n",
       "      <th>1</th>\n",
       "      <td>892177421306343426</td>\n",
       "      <td>NaN</td>\n",
       "      <td>NaN</td>\n",
       "      <td>2017-08-01 00:17:27 +0000</td>\n",
       "      <td>&lt;a href=\"http://twitter.com/download/iphone\" r...</td>\n",
       "      <td>This is Tilly. She's just checking pup on you....</td>\n",
       "      <td>NaN</td>\n",
       "      <td>NaN</td>\n",
       "      <td>NaN</td>\n",
       "      <td>https://twitter.com/dog_rates/status/892177421...</td>\n",
       "      <td>13</td>\n",
       "      <td>10</td>\n",
       "      <td>Tilly</td>\n",
       "      <td>None</td>\n",
       "      <td>None</td>\n",
       "      <td>None</td>\n",
       "      <td>None</td>\n",
       "    </tr>\n",
       "    <tr>\n",
       "      <th>2</th>\n",
       "      <td>891815181378084864</td>\n",
       "      <td>NaN</td>\n",
       "      <td>NaN</td>\n",
       "      <td>2017-07-31 00:18:03 +0000</td>\n",
       "      <td>&lt;a href=\"http://twitter.com/download/iphone\" r...</td>\n",
       "      <td>This is Archie. He is a rare Norwegian Pouncin...</td>\n",
       "      <td>NaN</td>\n",
       "      <td>NaN</td>\n",
       "      <td>NaN</td>\n",
       "      <td>https://twitter.com/dog_rates/status/891815181...</td>\n",
       "      <td>12</td>\n",
       "      <td>10</td>\n",
       "      <td>Archie</td>\n",
       "      <td>None</td>\n",
       "      <td>None</td>\n",
       "      <td>None</td>\n",
       "      <td>None</td>\n",
       "    </tr>\n",
       "    <tr>\n",
       "      <th>3</th>\n",
       "      <td>891689557279858688</td>\n",
       "      <td>NaN</td>\n",
       "      <td>NaN</td>\n",
       "      <td>2017-07-30 15:58:51 +0000</td>\n",
       "      <td>&lt;a href=\"http://twitter.com/download/iphone\" r...</td>\n",
       "      <td>This is Darla. She commenced a snooze mid meal...</td>\n",
       "      <td>NaN</td>\n",
       "      <td>NaN</td>\n",
       "      <td>NaN</td>\n",
       "      <td>https://twitter.com/dog_rates/status/891689557...</td>\n",
       "      <td>13</td>\n",
       "      <td>10</td>\n",
       "      <td>Darla</td>\n",
       "      <td>None</td>\n",
       "      <td>None</td>\n",
       "      <td>None</td>\n",
       "      <td>None</td>\n",
       "    </tr>\n",
       "    <tr>\n",
       "      <th>4</th>\n",
       "      <td>891327558926688256</td>\n",
       "      <td>NaN</td>\n",
       "      <td>NaN</td>\n",
       "      <td>2017-07-29 16:00:24 +0000</td>\n",
       "      <td>&lt;a href=\"http://twitter.com/download/iphone\" r...</td>\n",
       "      <td>This is Franklin. He would like you to stop ca...</td>\n",
       "      <td>NaN</td>\n",
       "      <td>NaN</td>\n",
       "      <td>NaN</td>\n",
       "      <td>https://twitter.com/dog_rates/status/891327558...</td>\n",
       "      <td>12</td>\n",
       "      <td>10</td>\n",
       "      <td>Franklin</td>\n",
       "      <td>None</td>\n",
       "      <td>None</td>\n",
       "      <td>None</td>\n",
       "      <td>None</td>\n",
       "    </tr>\n",
       "    <tr>\n",
       "      <th>5</th>\n",
       "      <td>891087950875897856</td>\n",
       "      <td>NaN</td>\n",
       "      <td>NaN</td>\n",
       "      <td>2017-07-29 00:08:17 +0000</td>\n",
       "      <td>&lt;a href=\"http://twitter.com/download/iphone\" r...</td>\n",
       "      <td>Here we have a majestic great white breaching ...</td>\n",
       "      <td>NaN</td>\n",
       "      <td>NaN</td>\n",
       "      <td>NaN</td>\n",
       "      <td>https://twitter.com/dog_rates/status/891087950...</td>\n",
       "      <td>13</td>\n",
       "      <td>10</td>\n",
       "      <td>None</td>\n",
       "      <td>None</td>\n",
       "      <td>None</td>\n",
       "      <td>None</td>\n",
       "      <td>None</td>\n",
       "    </tr>\n",
       "  </tbody>\n",
       "</table>\n",
       "</div>"
      ],
      "text/plain": [
       "             tweet_id  in_reply_to_status_id  in_reply_to_user_id  \\\n",
       "0  892420643555336193                    NaN                  NaN   \n",
       "1  892177421306343426                    NaN                  NaN   \n",
       "2  891815181378084864                    NaN                  NaN   \n",
       "3  891689557279858688                    NaN                  NaN   \n",
       "4  891327558926688256                    NaN                  NaN   \n",
       "5  891087950875897856                    NaN                  NaN   \n",
       "\n",
       "                   timestamp  \\\n",
       "0  2017-08-01 16:23:56 +0000   \n",
       "1  2017-08-01 00:17:27 +0000   \n",
       "2  2017-07-31 00:18:03 +0000   \n",
       "3  2017-07-30 15:58:51 +0000   \n",
       "4  2017-07-29 16:00:24 +0000   \n",
       "5  2017-07-29 00:08:17 +0000   \n",
       "\n",
       "                                              source  \\\n",
       "0  <a href=\"http://twitter.com/download/iphone\" r...   \n",
       "1  <a href=\"http://twitter.com/download/iphone\" r...   \n",
       "2  <a href=\"http://twitter.com/download/iphone\" r...   \n",
       "3  <a href=\"http://twitter.com/download/iphone\" r...   \n",
       "4  <a href=\"http://twitter.com/download/iphone\" r...   \n",
       "5  <a href=\"http://twitter.com/download/iphone\" r...   \n",
       "\n",
       "                                                text  retweeted_status_id  \\\n",
       "0  This is Phineas. He's a mystical boy. Only eve...                  NaN   \n",
       "1  This is Tilly. She's just checking pup on you....                  NaN   \n",
       "2  This is Archie. He is a rare Norwegian Pouncin...                  NaN   \n",
       "3  This is Darla. She commenced a snooze mid meal...                  NaN   \n",
       "4  This is Franklin. He would like you to stop ca...                  NaN   \n",
       "5  Here we have a majestic great white breaching ...                  NaN   \n",
       "\n",
       "   retweeted_status_user_id retweeted_status_timestamp  \\\n",
       "0                       NaN                        NaN   \n",
       "1                       NaN                        NaN   \n",
       "2                       NaN                        NaN   \n",
       "3                       NaN                        NaN   \n",
       "4                       NaN                        NaN   \n",
       "5                       NaN                        NaN   \n",
       "\n",
       "                                       expanded_urls  rating_numerator  \\\n",
       "0  https://twitter.com/dog_rates/status/892420643...                13   \n",
       "1  https://twitter.com/dog_rates/status/892177421...                13   \n",
       "2  https://twitter.com/dog_rates/status/891815181...                12   \n",
       "3  https://twitter.com/dog_rates/status/891689557...                13   \n",
       "4  https://twitter.com/dog_rates/status/891327558...                12   \n",
       "5  https://twitter.com/dog_rates/status/891087950...                13   \n",
       "\n",
       "   rating_denominator      name doggo floofer pupper puppo  \n",
       "0                  10   Phineas  None    None   None  None  \n",
       "1                  10     Tilly  None    None   None  None  \n",
       "2                  10    Archie  None    None   None  None  \n",
       "3                  10     Darla  None    None   None  None  \n",
       "4                  10  Franklin  None    None   None  None  \n",
       "5                  10      None  None    None   None  None  "
      ]
     },
     "execution_count": 5,
     "metadata": {},
     "output_type": "execute_result"
    }
   ],
   "source": [
    "df_twitter_archive.head(6)\n",
    "#df_twitter_archive.sample(10)\n",
    "#df_twitter_archive.expanded_urls[6]\n",
    "#df_twitter_archive.info()\n",
    "#df_twitter_archive[df_twitter_archive.expanded_urls.isna()]\n",
    "#df_twitter_archive.doggo[0]\n",
    "#df_twitter_archive.loc[0, 'doggo'] = None\n",
    "#df_twitter_archive.name.astype('category')\n",
    "#df_twitter_archive['name']\n",
    "#df_twitter_archive.loc[22, 'text']\n",
    "#df_twitter_archive.puppo.unique()\n",
    "#df_twitter_archive.loc[8, 'expanded_urls']"
   ]
  },
  {
   "cell_type": "code",
   "execution_count": 6,
   "metadata": {
    "slideshow": {
     "slide_type": "skip"
    }
   },
   "outputs": [
    {
     "data": {
      "text/plain": [
       "tweet_id                                 666104133288665088\n",
       "jpg_url     https://pbs.twimg.com/media/CT56LSZWoAAlJj2.jpg\n",
       "img_num                                                   1\n",
       "p1                                                      hen\n",
       "p1_conf                                            0.965932\n",
       "p1_dog                                                False\n",
       "p2                                                     cock\n",
       "p2_conf                                           0.0339194\n",
       "p2_dog                                                False\n",
       "p3                                                partridge\n",
       "p3_conf                                         5.20658e-05\n",
       "p3_dog                                                False\n",
       "Name: 17, dtype: object"
      ]
     },
     "execution_count": 6,
     "metadata": {},
     "output_type": "execute_result"
    }
   ],
   "source": [
    "df_image_predictions.head(7)\n",
    "#df_image_predictions.sample(10)\n",
    "#df_image_predictions.info()\n",
    "#df_image_predictions.p1.unique()\n",
    "df_image_predictions.loc[17]"
   ]
  },
  {
   "cell_type": "code",
   "execution_count": 7,
   "metadata": {
    "slideshow": {
     "slide_type": "skip"
    }
   },
   "outputs": [
    {
     "name": "stdout",
     "output_type": "stream",
     "text": [
      "<class 'pandas.core.frame.DataFrame'>\n",
      "RangeIndex: 2075 entries, 0 to 2074\n",
      "Data columns (total 5 columns):\n",
      "tweet_id          2075 non-null int64\n",
      "retweet_count     879 non-null float64\n",
      "favorite_count    879 non-null float64\n",
      "favorited         879 non-null object\n",
      "retweeted         879 non-null object\n",
      "dtypes: float64(2), int64(1), object(2)\n",
      "memory usage: 81.1+ KB\n"
     ]
    }
   ],
   "source": [
    "df_tweet_coverage.head()\n",
    "df_tweet_coverage.info()"
   ]
  },
  {
   "cell_type": "markdown",
   "metadata": {
    "slideshow": {
     "slide_type": "slide"
    }
   },
   "source": [
    "### Issues found in the files present:\n",
    "\n",
    "#### Quality\n",
    "\n",
    "1. In `df_twitter_archive` the **None** values in the columns `doggo`, `floofer`, `pupper` and `puppo` are strings.\n",
    "1. In `df_twitter_archive` the name column always containts the word after \"This is ...\", which is not always the dogs name.\n",
    "1. In `df_twitter_archive` the `retweeted_status_id` is float.\n",
    "1. In `df_twitter_archive` the `retweeted_status_user_id` is float.\n",
    "1. In `df_twitter_archive` the `timestamp`  column is of type object.\n",
    "1. In `df_image_predictions` not all predicted dog breeds are actually dog breeds.\n",
    "1. In `df_image_predictions` tweed id 762316489655476224 actaully is a dog, not a parrot (african grey).\n",
    "1. In `df_tweet_coverage` retweet_count and facorite_count are float.\n",
    "1. In `df_tweet_coverage` favorited and retweeted are objects.\n",
    "\n",
    "\n",
    "#### Tidiness\n",
    "\n",
    "1. In `df_twitter_archive` the columns doggo, floofer, pupper and puppo always contain \"None\" or the column name.\n",
    "1. In `df_twitter_archive` the overall rating is not present, only nominator and denominator.\n",
    "1. Data is spread arount three data frames (tables)."
   ]
  },
  {
   "cell_type": "markdown",
   "metadata": {
    "slideshow": {
     "slide_type": "slide"
    }
   },
   "source": [
    "## Clean Data\n",
    "\n",
    "> #### From Template:\n",
    "> * Types of cleaning:\n",
    ">   * Manual (not recommended unless the issues are single occurrences)\n",
    ">   * Programmatic\n",
    "> * The programmatic data cleaning process:\n",
    ">   1. Define: convert our assessments into defined cleaning tasks. These definitions also serve as an instruction\n",
    ">      list so others (or yourself in the future) can look at your work and reproduce it.\n",
    ">   1. Code: convert those definitions to code and run that code.\n",
    ">   1. Test: test your dataset, visually or with code, to make sure your cleaning operations worked.\n",
    "> * Always make copies of the original pieces of data before cleaning!\n",
    "\n",
    "### Define\n",
    "\n",
    "#### Quality\n",
    "\n",
    "1. In `df_twitter_archive` the **None** values in the columns `doggo`, `floofer`, `pupper` and `puppo` are strings.\n",
    "   \n",
    "   **Solution:** Change the column type to Boolean, this will also enhance the tidiness. Since according to\n",
    "   [Dogtionary](https://video.udacity-data.com/topher/2017/October/59e04ceb_dogtionary-combined/dogtionary-combined.png)\n",
    "   dogs can be \"doggo\" and \"pupper\" at the same time, the columns will not be merged to one categoracal column.\n",
    "   \n",
    "1. In `df_twitter_archive` the name column always containts the word after \"This is ...\", which is not always the dogs name.\n",
    "\n",
    "   **Solution:** This can only be dealt with manually. Since the dog's name column containts faulty data I will erase it.\n",
    "   \n",
    "1. In `df_twitter_archive` the `retweeted_status_id` is float.\n",
    "\n",
    "   **Solution:** Convert `retweeted_status_id`  column to int64 and set NaN to 0.\n",
    " \n",
    "1. In `df_twitter_archive` the `retweeted_status_user_id` is float.\n",
    "\n",
    "   **Solution:** Convert `retweeted_status_user_id` column to int64 and set NaN to 0.\n",
    "   \n",
    "1. In `df_twitter_archive` the `timestamp` column is of type object.\n",
    "\n",
    "   **Solution:** Convert `timestamp`  column to datetime.\n",
    "   \n",
    "1. In `df_image_predictions` not all predicted dog breeds are actually dog breeds.\n",
    "\n",
    "   **Solution:** Erase all rows, that do not contain pictures of dogs (p123_dog == False), with a confidence `p123_conf` of more than 90%.\n",
    "   \n",
    "1. In `df_tweet_coverage` retweet_count and favorite_count are float.\n",
    "\n",
    "   **Solution:** convert retweet_count and favorite_count to `int64`.\n",
    "   \n",
    "1. In `df_tweet_coverage` favorited and retweeted are objects.\n",
    "\n",
    "   **Solution:** cast favorited and retweeted to `Bool`. \n",
    "\n",
    "\n",
    "#### Tidiness\n",
    "\n",
    "1. In `df_twitter_archive` the columns doggo, floofer, pupper and puppo always contain \"None\" or the column name.\n",
    "\n",
    "   **Solution:** Already taken care of in Quality section (cast to `Boolean`).\n",
    "1. In `df_twitter_archive` the overall rating is not present, only numerator and denominator.\n",
    "\n",
    "   **Solution:** Calcuate an overall rating and normalize it to a value between 0 and 1. If the denominator is 0, use 10.\n",
    "   Drop the numerator and denominator columns afterwards.\n",
    "\n",
    "1. Data is spread arount three data frames (tables).\n",
    "\n",
    "   **Solution:** Outer join all data frames with common tweet_id, reassess afterwards.\n"
   ]
  },
  {
   "cell_type": "markdown",
   "metadata": {
    "slideshow": {
     "slide_type": "skip"
    }
   },
   "source": [
    "### Code"
   ]
  },
  {
   "cell_type": "code",
   "execution_count": 8,
   "metadata": {
    "slideshow": {
     "slide_type": "skip"
    }
   },
   "outputs": [],
   "source": [
    "df_twitter_archive_clean = df_twitter_archive.copy()\n",
    "df_image_predictions_clean = df_image_predictions.copy()\n",
    "df_tweet_coverage_clean = df_tweet_coverage.copy()"
   ]
  },
  {
   "cell_type": "code",
   "execution_count": 9,
   "metadata": {
    "slideshow": {
     "slide_type": "skip"
    }
   },
   "outputs": [],
   "source": [
    "# In df_twitter_archive the None values in the columns doggo, floofer, pupper and puppo are strings.\n",
    "df_twitter_archive_clean[['doggo', 'floofer', 'pupper', 'puppo']] =\\\n",
    "    df_twitter_archive[['doggo', 'floofer', 'pupper', 'puppo']] != 'None'"
   ]
  },
  {
   "cell_type": "code",
   "execution_count": 10,
   "metadata": {
    "slideshow": {
     "slide_type": "skip"
    }
   },
   "outputs": [],
   "source": [
    "# In df_twitter_archive the name column always containts the word after \"This is ...\", which is not always the dogs name.\n",
    "df_twitter_archive_clean.drop(columns=['name'], inplace=True)"
   ]
  },
  {
   "cell_type": "code",
   "execution_count": 11,
   "metadata": {
    "slideshow": {
     "slide_type": "skip"
    }
   },
   "outputs": [],
   "source": [
    "# In df_twitter_archive the retweeted_status_id is float.\n",
    "df_twitter_archive_clean.loc[df_twitter_archive_clean.retweeted_status_id.isna(), 'retweeted_status_id'] = 0.0\n",
    "df_twitter_archive_clean.retweeted_status_id = df_twitter_archive_clean.retweeted_status_id.astype('int64')"
   ]
  },
  {
   "cell_type": "code",
   "execution_count": 12,
   "metadata": {
    "slideshow": {
     "slide_type": "skip"
    }
   },
   "outputs": [],
   "source": [
    "# In df_twitter_archive the retweeted_status_user_id is float.\n",
    "df_twitter_archive_clean.loc[df_twitter_archive_clean.retweeted_status_user_id.isna(), 'retweeted_status_user_id'] = 0.0\n",
    "df_twitter_archive_clean.retweeted_status_user_id = df_twitter_archive_clean.retweeted_status_user_id.astype('int64')"
   ]
  },
  {
   "cell_type": "code",
   "execution_count": 13,
   "metadata": {
    "slideshow": {
     "slide_type": "skip"
    }
   },
   "outputs": [],
   "source": [
    "# In df_twitter_archive the timestamp column is of type object.\n",
    "df_twitter_archive_clean.timestamp = pd.to_datetime(df_twitter_archive_clean.timestamp)"
   ]
  },
  {
   "cell_type": "code",
   "execution_count": 14,
   "metadata": {
    "slideshow": {
     "slide_type": "skip"
    }
   },
   "outputs": [],
   "source": [
    "# In df_image_predictions not all predicted dog breeds are actually dog breeds\n",
    "none_dog_index = ((df_image_predictions_clean.p1_dog == False) & \n",
    "                  (df_image_predictions_clean.p2_dog == False) & \n",
    "                  (df_image_predictions_clean.p3_dog == False))\n",
    "highest_confidence = df_image_predictions_clean[['p1_conf', 'p2_conf', 'p3_conf']].max(axis=1)\n",
    "not_a_dog = none_dog_index & highest_confidence > 0.5\n",
    "\n",
    "df_image_predictions_clean.drop(df_image_predictions_clean[not_a_dog].index,\n",
    "                                inplace=True)"
   ]
  },
  {
   "cell_type": "code",
   "execution_count": 15,
   "metadata": {
    "slideshow": {
     "slide_type": "skip"
    }
   },
   "outputs": [],
   "source": [
    "# In df_tweet_coverage retweet_count and favorite_count are float.\n",
    "df_tweet_coverage.loc[df_tweet_coverage.retweet_count.isna(), 'retweet_count'] = 0.0\n",
    "df_tweet_coverage.retweet_count = df_tweet_coverage.retweet_count.astype('int64')"
   ]
  },
  {
   "cell_type": "code",
   "execution_count": 16,
   "metadata": {
    "slideshow": {
     "slide_type": "skip"
    }
   },
   "outputs": [],
   "source": [
    "# In df_tweet_coverage retweet_count and favorite_count are float.\n",
    "df_tweet_coverage.loc[df_tweet_coverage.favorite_count.isna(), 'favorite_count'] = 0.0\n",
    "df_tweet_coverage.favorite_count = df_tweet_coverage.favorite_count.astype('int64')"
   ]
  },
  {
   "cell_type": "code",
   "execution_count": 17,
   "metadata": {
    "slideshow": {
     "slide_type": "skip"
    }
   },
   "outputs": [],
   "source": [
    "# In df_tweet_coverage favorited and retweeted are objects.\n",
    "df_tweet_coverage.favorited = df_tweet_coverage.favorited.astype('bool')"
   ]
  },
  {
   "cell_type": "code",
   "execution_count": 18,
   "metadata": {
    "slideshow": {
     "slide_type": "skip"
    }
   },
   "outputs": [],
   "source": [
    "# In df_tweet_coverage favorited and retweeted are objects.\n",
    "df_tweet_coverage.retweeted = df_tweet_coverage.retweeted.astype('bool')"
   ]
  },
  {
   "cell_type": "code",
   "execution_count": 19,
   "metadata": {
    "slideshow": {
     "slide_type": "skip"
    }
   },
   "outputs": [],
   "source": [
    "# Data is spread arount three data frames (tables).\n",
    "twitter_archive_master = df_twitter_archive_clean.merge(df_image_predictions_clean, \n",
    "                                                        on='tweet_id',\n",
    "                                                        how='inner')\n",
    "twitter_archive_master = twitter_archive_master.merge(df_tweet_coverage_clean,\n",
    "                                                      on='tweet_id',\n",
    "                                                      how='inner')"
   ]
  },
  {
   "cell_type": "code",
   "execution_count": 20,
   "metadata": {
    "slideshow": {
     "slide_type": "skip"
    }
   },
   "outputs": [],
   "source": [
    "# In df_twitter_archive the overall rating is not present, only rating_numerator and rating_denominator.\n",
    "twitter_archive_master.loc[twitter_archive_master.rating_denominator == 0, 'rating_denominator'] = 10\n",
    "m = max(twitter_archive_master.rating_numerator / twitter_archive_master.rating_denominator)\n",
    "\n",
    "twitter_archive_master['rating'] = np.round((twitter_archive_master.rating_numerator / twitter_archive_master.rating_denominator) / m,\n",
    "                                              decimals=3)\n",
    "twitter_archive_master.drop(columns=['rating_numerator', 'rating_denominator'], inplace=True)"
   ]
  },
  {
   "cell_type": "markdown",
   "metadata": {
    "slideshow": {
     "slide_type": "skip"
    }
   },
   "source": [
    "### Test"
   ]
  },
  {
   "cell_type": "code",
   "execution_count": 21,
   "metadata": {
    "slideshow": {
     "slide_type": "skip"
    }
   },
   "outputs": [
    {
     "data": {
      "text/html": [
       "<div>\n",
       "<style scoped>\n",
       "    .dataframe tbody tr th:only-of-type {\n",
       "        vertical-align: middle;\n",
       "    }\n",
       "\n",
       "    .dataframe tbody tr th {\n",
       "        vertical-align: top;\n",
       "    }\n",
       "\n",
       "    .dataframe thead th {\n",
       "        text-align: right;\n",
       "    }\n",
       "</style>\n",
       "<table border=\"1\" class=\"dataframe\">\n",
       "  <thead>\n",
       "    <tr style=\"text-align: right;\">\n",
       "      <th></th>\n",
       "      <th>tweet_id</th>\n",
       "      <th>in_reply_to_status_id</th>\n",
       "      <th>in_reply_to_user_id</th>\n",
       "      <th>timestamp</th>\n",
       "      <th>source</th>\n",
       "      <th>text</th>\n",
       "      <th>retweeted_status_id</th>\n",
       "      <th>retweeted_status_user_id</th>\n",
       "      <th>retweeted_status_timestamp</th>\n",
       "      <th>expanded_urls</th>\n",
       "      <th>rating_numerator</th>\n",
       "      <th>rating_denominator</th>\n",
       "      <th>doggo</th>\n",
       "      <th>floofer</th>\n",
       "      <th>pupper</th>\n",
       "      <th>puppo</th>\n",
       "    </tr>\n",
       "  </thead>\n",
       "  <tbody>\n",
       "    <tr>\n",
       "      <th>2179</th>\n",
       "      <td>669006782128353280</td>\n",
       "      <td>NaN</td>\n",
       "      <td>NaN</td>\n",
       "      <td>2015-11-24 04:17:01</td>\n",
       "      <td>&lt;a href=\"http://twitter.com/download/iphone\" r...</td>\n",
       "      <td>This is Tucker. He is 100% ready for the sport...</td>\n",
       "      <td>0</td>\n",
       "      <td>0</td>\n",
       "      <td>NaN</td>\n",
       "      <td>https://twitter.com/dog_rates/status/669006782...</td>\n",
       "      <td>12</td>\n",
       "      <td>10</td>\n",
       "      <td>False</td>\n",
       "      <td>False</td>\n",
       "      <td>False</td>\n",
       "      <td>False</td>\n",
       "    </tr>\n",
       "    <tr>\n",
       "      <th>2259</th>\n",
       "      <td>667550904950915073</td>\n",
       "      <td>NaN</td>\n",
       "      <td>NaN</td>\n",
       "      <td>2015-11-20 03:51:52</td>\n",
       "      <td>&lt;a href=\"http://twitter.com\" rel=\"nofollow\"&gt;Tw...</td>\n",
       "      <td>RT @dogratingrating: Exceptional talent. Origi...</td>\n",
       "      <td>667548695664070656</td>\n",
       "      <td>4296831739</td>\n",
       "      <td>2015-11-20 03:43:06 +0000</td>\n",
       "      <td>https://twitter.com/dogratingrating/status/667...</td>\n",
       "      <td>12</td>\n",
       "      <td>10</td>\n",
       "      <td>False</td>\n",
       "      <td>False</td>\n",
       "      <td>False</td>\n",
       "      <td>False</td>\n",
       "    </tr>\n",
       "    <tr>\n",
       "      <th>483</th>\n",
       "      <td>814986499976527872</td>\n",
       "      <td>NaN</td>\n",
       "      <td>NaN</td>\n",
       "      <td>2016-12-31 00:08:17</td>\n",
       "      <td>&lt;a href=\"http://twitter.com/download/iphone\" r...</td>\n",
       "      <td>This is Cooper. Someone attacked him with a sh...</td>\n",
       "      <td>0</td>\n",
       "      <td>0</td>\n",
       "      <td>NaN</td>\n",
       "      <td>https://twitter.com/dog_rates/status/814986499...</td>\n",
       "      <td>11</td>\n",
       "      <td>10</td>\n",
       "      <td>False</td>\n",
       "      <td>False</td>\n",
       "      <td>True</td>\n",
       "      <td>False</td>\n",
       "    </tr>\n",
       "    <tr>\n",
       "      <th>1949</th>\n",
       "      <td>673689733134946305</td>\n",
       "      <td>NaN</td>\n",
       "      <td>NaN</td>\n",
       "      <td>2015-12-07 02:25:23</td>\n",
       "      <td>&lt;a href=\"http://twitter.com/download/iphone\" r...</td>\n",
       "      <td>When you're having a blast and remember tomorr...</td>\n",
       "      <td>0</td>\n",
       "      <td>0</td>\n",
       "      <td>NaN</td>\n",
       "      <td>https://twitter.com/dog_rates/status/673689733...</td>\n",
       "      <td>11</td>\n",
       "      <td>10</td>\n",
       "      <td>False</td>\n",
       "      <td>False</td>\n",
       "      <td>False</td>\n",
       "      <td>False</td>\n",
       "    </tr>\n",
       "    <tr>\n",
       "      <th>503</th>\n",
       "      <td>813066809284972545</td>\n",
       "      <td>NaN</td>\n",
       "      <td>NaN</td>\n",
       "      <td>2016-12-25 17:00:08</td>\n",
       "      <td>&lt;a href=\"http://twitter.com/download/iphone\" r...</td>\n",
       "      <td>This is Tyr. He is disgusted by holiday traffi...</td>\n",
       "      <td>0</td>\n",
       "      <td>0</td>\n",
       "      <td>NaN</td>\n",
       "      <td>https://twitter.com/dog_rates/status/813066809...</td>\n",
       "      <td>12</td>\n",
       "      <td>10</td>\n",
       "      <td>False</td>\n",
       "      <td>False</td>\n",
       "      <td>False</td>\n",
       "      <td>False</td>\n",
       "    </tr>\n",
       "  </tbody>\n",
       "</table>\n",
       "</div>"
      ],
      "text/plain": [
       "                tweet_id  in_reply_to_status_id  in_reply_to_user_id  \\\n",
       "2179  669006782128353280                    NaN                  NaN   \n",
       "2259  667550904950915073                    NaN                  NaN   \n",
       "483   814986499976527872                    NaN                  NaN   \n",
       "1949  673689733134946305                    NaN                  NaN   \n",
       "503   813066809284972545                    NaN                  NaN   \n",
       "\n",
       "               timestamp                                             source  \\\n",
       "2179 2015-11-24 04:17:01  <a href=\"http://twitter.com/download/iphone\" r...   \n",
       "2259 2015-11-20 03:51:52  <a href=\"http://twitter.com\" rel=\"nofollow\">Tw...   \n",
       "483  2016-12-31 00:08:17  <a href=\"http://twitter.com/download/iphone\" r...   \n",
       "1949 2015-12-07 02:25:23  <a href=\"http://twitter.com/download/iphone\" r...   \n",
       "503  2016-12-25 17:00:08  <a href=\"http://twitter.com/download/iphone\" r...   \n",
       "\n",
       "                                                   text  retweeted_status_id  \\\n",
       "2179  This is Tucker. He is 100% ready for the sport...                    0   \n",
       "2259  RT @dogratingrating: Exceptional talent. Origi...   667548695664070656   \n",
       "483   This is Cooper. Someone attacked him with a sh...                    0   \n",
       "1949  When you're having a blast and remember tomorr...                    0   \n",
       "503   This is Tyr. He is disgusted by holiday traffi...                    0   \n",
       "\n",
       "      retweeted_status_user_id retweeted_status_timestamp  \\\n",
       "2179                         0                        NaN   \n",
       "2259                4296831739  2015-11-20 03:43:06 +0000   \n",
       "483                          0                        NaN   \n",
       "1949                         0                        NaN   \n",
       "503                          0                        NaN   \n",
       "\n",
       "                                          expanded_urls  rating_numerator  \\\n",
       "2179  https://twitter.com/dog_rates/status/669006782...                12   \n",
       "2259  https://twitter.com/dogratingrating/status/667...                12   \n",
       "483   https://twitter.com/dog_rates/status/814986499...                11   \n",
       "1949  https://twitter.com/dog_rates/status/673689733...                11   \n",
       "503   https://twitter.com/dog_rates/status/813066809...                12   \n",
       "\n",
       "      rating_denominator  doggo  floofer  pupper  puppo  \n",
       "2179                  10  False    False   False  False  \n",
       "2259                  10  False    False   False  False  \n",
       "483                   10  False    False    True  False  \n",
       "1949                  10  False    False   False  False  \n",
       "503                   10  False    False   False  False  "
      ]
     },
     "execution_count": 21,
     "metadata": {},
     "output_type": "execute_result"
    }
   ],
   "source": [
    "# In df_twitter_archive the None values in the columns doggo, floofer, pupper and puppo are strings.\n",
    "df_twitter_archive_clean.sample(5)"
   ]
  },
  {
   "cell_type": "code",
   "execution_count": 22,
   "metadata": {
    "slideshow": {
     "slide_type": "skip"
    }
   },
   "outputs": [],
   "source": [
    "# In df_twitter_archive the name column always containts the word after \"This is ...\", which is not always the dogs name.\n",
    "assert not any(df_twitter_archive_clean.columns == 'Name')"
   ]
  },
  {
   "cell_type": "code",
   "execution_count": 23,
   "metadata": {
    "slideshow": {
     "slide_type": "skip"
    }
   },
   "outputs": [
    {
     "data": {
      "text/plain": [
       "dtype('int64')"
      ]
     },
     "execution_count": 23,
     "metadata": {},
     "output_type": "execute_result"
    }
   ],
   "source": [
    "# In df_twitter_archive the retweeted_status_id is float.\n",
    "df_twitter_archive_clean.retweeted_status_id.dtype         "
   ]
  },
  {
   "cell_type": "code",
   "execution_count": 24,
   "metadata": {
    "slideshow": {
     "slide_type": "skip"
    }
   },
   "outputs": [
    {
     "data": {
      "text/plain": [
       "dtype('int64')"
      ]
     },
     "execution_count": 24,
     "metadata": {},
     "output_type": "execute_result"
    }
   ],
   "source": [
    "# In df_twitter_archive the retweeted_status_user_id is float.\n",
    "df_twitter_archive_clean.retweeted_status_user_id.dtype"
   ]
  },
  {
   "cell_type": "code",
   "execution_count": 25,
   "metadata": {
    "slideshow": {
     "slide_type": "skip"
    }
   },
   "outputs": [
    {
     "name": "stdout",
     "output_type": "stream",
     "text": [
      "<class 'pandas.core.frame.DataFrame'>\n",
      "RangeIndex: 2356 entries, 0 to 2355\n",
      "Data columns (total 16 columns):\n",
      "tweet_id                      2356 non-null int64\n",
      "in_reply_to_status_id         78 non-null float64\n",
      "in_reply_to_user_id           78 non-null float64\n",
      "timestamp                     2356 non-null datetime64[ns]\n",
      "source                        2356 non-null object\n",
      "text                          2356 non-null object\n",
      "retweeted_status_id           2356 non-null int64\n",
      "retweeted_status_user_id      2356 non-null int64\n",
      "retweeted_status_timestamp    181 non-null object\n",
      "expanded_urls                 2297 non-null object\n",
      "rating_numerator              2356 non-null int64\n",
      "rating_denominator            2356 non-null int64\n",
      "doggo                         2356 non-null bool\n",
      "floofer                       2356 non-null bool\n",
      "pupper                        2356 non-null bool\n",
      "puppo                         2356 non-null bool\n",
      "dtypes: bool(4), datetime64[ns](1), float64(2), int64(5), object(4)\n",
      "memory usage: 230.2+ KB\n"
     ]
    }
   ],
   "source": [
    "# In df_twitter_archive the timestamp column is of type object.\n",
    "df_twitter_archive_clean.info()"
   ]
  },
  {
   "cell_type": "code",
   "execution_count": 26,
   "metadata": {
    "slideshow": {
     "slide_type": "skip"
    }
   },
   "outputs": [
    {
     "data": {
      "text/html": [
       "<div>\n",
       "<style scoped>\n",
       "    .dataframe tbody tr th:only-of-type {\n",
       "        vertical-align: middle;\n",
       "    }\n",
       "\n",
       "    .dataframe tbody tr th {\n",
       "        vertical-align: top;\n",
       "    }\n",
       "\n",
       "    .dataframe thead th {\n",
       "        text-align: right;\n",
       "    }\n",
       "</style>\n",
       "<table border=\"1\" class=\"dataframe\">\n",
       "  <thead>\n",
       "    <tr style=\"text-align: right;\">\n",
       "      <th></th>\n",
       "      <th>tweet_id</th>\n",
       "      <th>jpg_url</th>\n",
       "      <th>img_num</th>\n",
       "      <th>p1</th>\n",
       "      <th>p1_conf</th>\n",
       "      <th>p1_dog</th>\n",
       "      <th>p2</th>\n",
       "      <th>p2_conf</th>\n",
       "      <th>p2_dog</th>\n",
       "      <th>p3</th>\n",
       "      <th>p3_conf</th>\n",
       "      <th>p3_dog</th>\n",
       "    </tr>\n",
       "  </thead>\n",
       "  <tbody>\n",
       "    <tr>\n",
       "      <th>1468</th>\n",
       "      <td>778990705243029504</td>\n",
       "      <td>https://pbs.twimg.com/media/Cs-H5uhWcAAiNY9.jpg</td>\n",
       "      <td>2</td>\n",
       "      <td>cocker_spaniel</td>\n",
       "      <td>0.715351</td>\n",
       "      <td>True</td>\n",
       "      <td>Labrador_retriever</td>\n",
       "      <td>0.207056</td>\n",
       "      <td>True</td>\n",
       "      <td>Chihuahua</td>\n",
       "      <td>0.028519</td>\n",
       "      <td>True</td>\n",
       "    </tr>\n",
       "    <tr>\n",
       "      <th>978</th>\n",
       "      <td>707059547140169728</td>\n",
       "      <td>https://pbs.twimg.com/media/Cc_64zVWEAAeXs7.jpg</td>\n",
       "      <td>1</td>\n",
       "      <td>Samoyed</td>\n",
       "      <td>0.897312</td>\n",
       "      <td>True</td>\n",
       "      <td>Great_Pyrenees</td>\n",
       "      <td>0.039180</td>\n",
       "      <td>True</td>\n",
       "      <td>kuvasz</td>\n",
       "      <td>0.019516</td>\n",
       "      <td>True</td>\n",
       "    </tr>\n",
       "    <tr>\n",
       "      <th>32</th>\n",
       "      <td>666428276349472768</td>\n",
       "      <td>https://pbs.twimg.com/media/CT-g-0DUwAEQdSn.jpg</td>\n",
       "      <td>1</td>\n",
       "      <td>Pembroke</td>\n",
       "      <td>0.371361</td>\n",
       "      <td>True</td>\n",
       "      <td>chow</td>\n",
       "      <td>0.249394</td>\n",
       "      <td>True</td>\n",
       "      <td>Pomeranian</td>\n",
       "      <td>0.241878</td>\n",
       "      <td>True</td>\n",
       "    </tr>\n",
       "    <tr>\n",
       "      <th>1285</th>\n",
       "      <td>750719632563142656</td>\n",
       "      <td>https://pbs.twimg.com/media/CmsXg9AWgAAs6Ui.jpg</td>\n",
       "      <td>1</td>\n",
       "      <td>Pembroke</td>\n",
       "      <td>0.972587</td>\n",
       "      <td>True</td>\n",
       "      <td>Cardigan</td>\n",
       "      <td>0.014772</td>\n",
       "      <td>True</td>\n",
       "      <td>basenji</td>\n",
       "      <td>0.005798</td>\n",
       "      <td>True</td>\n",
       "    </tr>\n",
       "    <tr>\n",
       "      <th>966</th>\n",
       "      <td>706291001778950144</td>\n",
       "      <td>https://pbs.twimg.com/media/Cc0_2tXXEAA2iTY.jpg</td>\n",
       "      <td>1</td>\n",
       "      <td>Border_terrier</td>\n",
       "      <td>0.587101</td>\n",
       "      <td>True</td>\n",
       "      <td>bull_mastiff</td>\n",
       "      <td>0.164087</td>\n",
       "      <td>True</td>\n",
       "      <td>Staffordshire_bullterrier</td>\n",
       "      <td>0.105011</td>\n",
       "      <td>True</td>\n",
       "    </tr>\n",
       "  </tbody>\n",
       "</table>\n",
       "</div>"
      ],
      "text/plain": [
       "                tweet_id                                          jpg_url  \\\n",
       "1468  778990705243029504  https://pbs.twimg.com/media/Cs-H5uhWcAAiNY9.jpg   \n",
       "978   707059547140169728  https://pbs.twimg.com/media/Cc_64zVWEAAeXs7.jpg   \n",
       "32    666428276349472768  https://pbs.twimg.com/media/CT-g-0DUwAEQdSn.jpg   \n",
       "1285  750719632563142656  https://pbs.twimg.com/media/CmsXg9AWgAAs6Ui.jpg   \n",
       "966   706291001778950144  https://pbs.twimg.com/media/Cc0_2tXXEAA2iTY.jpg   \n",
       "\n",
       "      img_num              p1   p1_conf  p1_dog                  p2   p2_conf  \\\n",
       "1468        2  cocker_spaniel  0.715351    True  Labrador_retriever  0.207056   \n",
       "978         1         Samoyed  0.897312    True      Great_Pyrenees  0.039180   \n",
       "32          1        Pembroke  0.371361    True                chow  0.249394   \n",
       "1285        1        Pembroke  0.972587    True            Cardigan  0.014772   \n",
       "966         1  Border_terrier  0.587101    True        bull_mastiff  0.164087   \n",
       "\n",
       "      p2_dog                         p3   p3_conf  p3_dog  \n",
       "1468    True                  Chihuahua  0.028519    True  \n",
       "978     True                     kuvasz  0.019516    True  \n",
       "32      True                 Pomeranian  0.241878    True  \n",
       "1285    True                    basenji  0.005798    True  \n",
       "966     True  Staffordshire_bullterrier  0.105011    True  "
      ]
     },
     "execution_count": 26,
     "metadata": {},
     "output_type": "execute_result"
    }
   ],
   "source": [
    "# In `df_image_predictions` not all predicted dog breeds are actually dog breeds.\n",
    "df_image_predictions_clean.sample(5)"
   ]
  },
  {
   "cell_type": "code",
   "execution_count": 27,
   "metadata": {
    "slideshow": {
     "slide_type": "skip"
    }
   },
   "outputs": [
    {
     "name": "stdout",
     "output_type": "stream",
     "text": [
      "<class 'pandas.core.frame.DataFrame'>\n",
      "RangeIndex: 2075 entries, 0 to 2074\n",
      "Data columns (total 5 columns):\n",
      "tweet_id          2075 non-null int64\n",
      "retweet_count     2075 non-null int64\n",
      "favorite_count    2075 non-null int64\n",
      "favorited         2075 non-null bool\n",
      "retweeted         2075 non-null bool\n",
      "dtypes: bool(2), int64(3)\n",
      "memory usage: 52.8 KB\n"
     ]
    }
   ],
   "source": [
    "# In df_tweet_coverage retweet_count and favorite_count are float.\n",
    "# In df_tweet_coverage favorited and retweeted are objects.\n",
    "df_tweet_coverage.info()"
   ]
  },
  {
   "cell_type": "code",
   "execution_count": 28,
   "metadata": {
    "slideshow": {
     "slide_type": "skip"
    }
   },
   "outputs": [
    {
     "data": {
      "text/plain": [
       "count    1751.000000\n",
       "mean        0.145720\n",
       "std         0.033018\n",
       "min         0.000000\n",
       "25%         0.133000\n",
       "50%         0.147000\n",
       "75%         0.160000\n",
       "max         1.000000\n",
       "Name: rating, dtype: float64"
      ]
     },
     "execution_count": 28,
     "metadata": {},
     "output_type": "execute_result"
    }
   ],
   "source": [
    "# In df_twitter_archive the overall rating is not present, only rating_numerator and rating_denominator.\n",
    "twitter_archive_master.rating.describe()"
   ]
  },
  {
   "cell_type": "code",
   "execution_count": 29,
   "metadata": {
    "scrolled": true,
    "slideshow": {
     "slide_type": "skip"
    }
   },
   "outputs": [
    {
     "data": {
      "text/html": [
       "<div>\n",
       "<style scoped>\n",
       "    .dataframe tbody tr th:only-of-type {\n",
       "        vertical-align: middle;\n",
       "    }\n",
       "\n",
       "    .dataframe tbody tr th {\n",
       "        vertical-align: top;\n",
       "    }\n",
       "\n",
       "    .dataframe thead th {\n",
       "        text-align: right;\n",
       "    }\n",
       "</style>\n",
       "<table border=\"1\" class=\"dataframe\">\n",
       "  <thead>\n",
       "    <tr style=\"text-align: right;\">\n",
       "      <th></th>\n",
       "      <th>tweet_id</th>\n",
       "      <th>in_reply_to_status_id</th>\n",
       "      <th>in_reply_to_user_id</th>\n",
       "      <th>timestamp</th>\n",
       "      <th>source</th>\n",
       "      <th>text</th>\n",
       "      <th>retweeted_status_id</th>\n",
       "      <th>retweeted_status_user_id</th>\n",
       "      <th>retweeted_status_timestamp</th>\n",
       "      <th>expanded_urls</th>\n",
       "      <th>...</th>\n",
       "      <th>p2_conf</th>\n",
       "      <th>p2_dog</th>\n",
       "      <th>p3</th>\n",
       "      <th>p3_conf</th>\n",
       "      <th>p3_dog</th>\n",
       "      <th>retweet_count</th>\n",
       "      <th>favorite_count</th>\n",
       "      <th>favorited</th>\n",
       "      <th>retweeted</th>\n",
       "      <th>rating</th>\n",
       "    </tr>\n",
       "  </thead>\n",
       "  <tbody>\n",
       "    <tr>\n",
       "      <th>0</th>\n",
       "      <td>892177421306343426</td>\n",
       "      <td>NaN</td>\n",
       "      <td>NaN</td>\n",
       "      <td>2017-08-01 00:17:27</td>\n",
       "      <td>&lt;a href=\"http://twitter.com/download/iphone\" r...</td>\n",
       "      <td>This is Tilly. She's just checking pup on you....</td>\n",
       "      <td>0</td>\n",
       "      <td>0</td>\n",
       "      <td>NaN</td>\n",
       "      <td>https://twitter.com/dog_rates/status/892177421...</td>\n",
       "      <td>...</td>\n",
       "      <td>0.090647</td>\n",
       "      <td>True</td>\n",
       "      <td>papillon</td>\n",
       "      <td>0.068957</td>\n",
       "      <td>True</td>\n",
       "      <td>NaN</td>\n",
       "      <td>NaN</td>\n",
       "      <td>NaN</td>\n",
       "      <td>NaN</td>\n",
       "      <td>0.173</td>\n",
       "    </tr>\n",
       "    <tr>\n",
       "      <th>1</th>\n",
       "      <td>891815181378084864</td>\n",
       "      <td>NaN</td>\n",
       "      <td>NaN</td>\n",
       "      <td>2017-07-31 00:18:03</td>\n",
       "      <td>&lt;a href=\"http://twitter.com/download/iphone\" r...</td>\n",
       "      <td>This is Archie. He is a rare Norwegian Pouncin...</td>\n",
       "      <td>0</td>\n",
       "      <td>0</td>\n",
       "      <td>NaN</td>\n",
       "      <td>https://twitter.com/dog_rates/status/891815181...</td>\n",
       "      <td>...</td>\n",
       "      <td>0.078253</td>\n",
       "      <td>True</td>\n",
       "      <td>kelpie</td>\n",
       "      <td>0.031379</td>\n",
       "      <td>True</td>\n",
       "      <td>NaN</td>\n",
       "      <td>NaN</td>\n",
       "      <td>NaN</td>\n",
       "      <td>NaN</td>\n",
       "      <td>0.160</td>\n",
       "    </tr>\n",
       "    <tr>\n",
       "      <th>2</th>\n",
       "      <td>891689557279858688</td>\n",
       "      <td>NaN</td>\n",
       "      <td>NaN</td>\n",
       "      <td>2017-07-30 15:58:51</td>\n",
       "      <td>&lt;a href=\"http://twitter.com/download/iphone\" r...</td>\n",
       "      <td>This is Darla. She commenced a snooze mid meal...</td>\n",
       "      <td>0</td>\n",
       "      <td>0</td>\n",
       "      <td>NaN</td>\n",
       "      <td>https://twitter.com/dog_rates/status/891689557...</td>\n",
       "      <td>...</td>\n",
       "      <td>0.168086</td>\n",
       "      <td>True</td>\n",
       "      <td>spatula</td>\n",
       "      <td>0.040836</td>\n",
       "      <td>False</td>\n",
       "      <td>NaN</td>\n",
       "      <td>NaN</td>\n",
       "      <td>NaN</td>\n",
       "      <td>NaN</td>\n",
       "      <td>0.173</td>\n",
       "    </tr>\n",
       "    <tr>\n",
       "      <th>3</th>\n",
       "      <td>891327558926688256</td>\n",
       "      <td>NaN</td>\n",
       "      <td>NaN</td>\n",
       "      <td>2017-07-29 16:00:24</td>\n",
       "      <td>&lt;a href=\"http://twitter.com/download/iphone\" r...</td>\n",
       "      <td>This is Franklin. He would like you to stop ca...</td>\n",
       "      <td>0</td>\n",
       "      <td>0</td>\n",
       "      <td>NaN</td>\n",
       "      <td>https://twitter.com/dog_rates/status/891327558...</td>\n",
       "      <td>...</td>\n",
       "      <td>0.225770</td>\n",
       "      <td>True</td>\n",
       "      <td>German_short-haired_pointer</td>\n",
       "      <td>0.175219</td>\n",
       "      <td>True</td>\n",
       "      <td>NaN</td>\n",
       "      <td>NaN</td>\n",
       "      <td>NaN</td>\n",
       "      <td>NaN</td>\n",
       "      <td>0.160</td>\n",
       "    </tr>\n",
       "    <tr>\n",
       "      <th>4</th>\n",
       "      <td>891087950875897856</td>\n",
       "      <td>NaN</td>\n",
       "      <td>NaN</td>\n",
       "      <td>2017-07-29 00:08:17</td>\n",
       "      <td>&lt;a href=\"http://twitter.com/download/iphone\" r...</td>\n",
       "      <td>Here we have a majestic great white breaching ...</td>\n",
       "      <td>0</td>\n",
       "      <td>0</td>\n",
       "      <td>NaN</td>\n",
       "      <td>https://twitter.com/dog_rates/status/891087950...</td>\n",
       "      <td>...</td>\n",
       "      <td>0.116317</td>\n",
       "      <td>True</td>\n",
       "      <td>Indian_elephant</td>\n",
       "      <td>0.076902</td>\n",
       "      <td>False</td>\n",
       "      <td>NaN</td>\n",
       "      <td>NaN</td>\n",
       "      <td>NaN</td>\n",
       "      <td>NaN</td>\n",
       "      <td>0.173</td>\n",
       "    </tr>\n",
       "  </tbody>\n",
       "</table>\n",
       "<p>5 rows × 30 columns</p>\n",
       "</div>"
      ],
      "text/plain": [
       "             tweet_id  in_reply_to_status_id  in_reply_to_user_id  \\\n",
       "0  892177421306343426                    NaN                  NaN   \n",
       "1  891815181378084864                    NaN                  NaN   \n",
       "2  891689557279858688                    NaN                  NaN   \n",
       "3  891327558926688256                    NaN                  NaN   \n",
       "4  891087950875897856                    NaN                  NaN   \n",
       "\n",
       "            timestamp                                             source  \\\n",
       "0 2017-08-01 00:17:27  <a href=\"http://twitter.com/download/iphone\" r...   \n",
       "1 2017-07-31 00:18:03  <a href=\"http://twitter.com/download/iphone\" r...   \n",
       "2 2017-07-30 15:58:51  <a href=\"http://twitter.com/download/iphone\" r...   \n",
       "3 2017-07-29 16:00:24  <a href=\"http://twitter.com/download/iphone\" r...   \n",
       "4 2017-07-29 00:08:17  <a href=\"http://twitter.com/download/iphone\" r...   \n",
       "\n",
       "                                                text  retweeted_status_id  \\\n",
       "0  This is Tilly. She's just checking pup on you....                    0   \n",
       "1  This is Archie. He is a rare Norwegian Pouncin...                    0   \n",
       "2  This is Darla. She commenced a snooze mid meal...                    0   \n",
       "3  This is Franklin. He would like you to stop ca...                    0   \n",
       "4  Here we have a majestic great white breaching ...                    0   \n",
       "\n",
       "   retweeted_status_user_id retweeted_status_timestamp  \\\n",
       "0                         0                        NaN   \n",
       "1                         0                        NaN   \n",
       "2                         0                        NaN   \n",
       "3                         0                        NaN   \n",
       "4                         0                        NaN   \n",
       "\n",
       "                                       expanded_urls  ...     p2_conf  p2_dog  \\\n",
       "0  https://twitter.com/dog_rates/status/892177421...  ...    0.090647    True   \n",
       "1  https://twitter.com/dog_rates/status/891815181...  ...    0.078253    True   \n",
       "2  https://twitter.com/dog_rates/status/891689557...  ...    0.168086    True   \n",
       "3  https://twitter.com/dog_rates/status/891327558...  ...    0.225770    True   \n",
       "4  https://twitter.com/dog_rates/status/891087950...  ...    0.116317    True   \n",
       "\n",
       "                            p3   p3_conf p3_dog  retweet_count favorite_count  \\\n",
       "0                     papillon  0.068957   True            NaN            NaN   \n",
       "1                       kelpie  0.031379   True            NaN            NaN   \n",
       "2                      spatula  0.040836  False            NaN            NaN   \n",
       "3  German_short-haired_pointer  0.175219   True            NaN            NaN   \n",
       "4              Indian_elephant  0.076902  False            NaN            NaN   \n",
       "\n",
       "   favorited  retweeted rating  \n",
       "0        NaN        NaN  0.173  \n",
       "1        NaN        NaN  0.160  \n",
       "2        NaN        NaN  0.173  \n",
       "3        NaN        NaN  0.160  \n",
       "4        NaN        NaN  0.173  \n",
       "\n",
       "[5 rows x 30 columns]"
      ]
     },
     "execution_count": 29,
     "metadata": {},
     "output_type": "execute_result"
    }
   ],
   "source": [
    "# Data is spread arount three data frames (tables).\n",
    "twitter_archive_master.head()"
   ]
  },
  {
   "cell_type": "code",
   "execution_count": 30,
   "metadata": {
    "slideshow": {
     "slide_type": "skip"
    }
   },
   "outputs": [
    {
     "data": {
      "text/plain": [
       "(1751, 30)"
      ]
     },
     "execution_count": 30,
     "metadata": {},
     "output_type": "execute_result"
    }
   ],
   "source": [
    "twitter_archive_master.shape"
   ]
  },
  {
   "cell_type": "code",
   "execution_count": 31,
   "metadata": {
    "slideshow": {
     "slide_type": "skip"
    }
   },
   "outputs": [
    {
     "data": {
      "text/plain": [
       "Index(['tweet_id', 'in_reply_to_status_id', 'in_reply_to_user_id', 'timestamp',\n",
       "       'source', 'text', 'retweeted_status_id', 'retweeted_status_user_id',\n",
       "       'retweeted_status_timestamp', 'expanded_urls', 'doggo', 'floofer',\n",
       "       'pupper', 'puppo', 'jpg_url', 'img_num', 'p1', 'p1_conf', 'p1_dog',\n",
       "       'p2', 'p2_conf', 'p2_dog', 'p3', 'p3_conf', 'p3_dog', 'retweet_count',\n",
       "       'favorite_count', 'favorited', 'retweeted', 'rating'],\n",
       "      dtype='object')"
      ]
     },
     "execution_count": 31,
     "metadata": {},
     "output_type": "execute_result"
    }
   ],
   "source": [
    "twitter_archive_master.columns"
   ]
  },
  {
   "cell_type": "markdown",
   "metadata": {
    "slideshow": {
     "slide_type": "skip"
    }
   },
   "source": [
    "\n",
    "## Reassess and Iterate\n",
    "\n",
    "* After cleaning, always reassess and iterate on any of the data wrangling steps if necessary.\n",
    "\n",
    "\n",
    "Are there any overlaps in puppo doggo, crappo etc?"
   ]
  },
  {
   "cell_type": "code",
   "execution_count": 32,
   "metadata": {
    "slideshow": {
     "slide_type": "skip"
    }
   },
   "outputs": [
    {
     "data": {
      "text/plain": [
       "270"
      ]
     },
     "execution_count": 32,
     "metadata": {},
     "output_type": "execute_result"
    }
   ],
   "source": [
    "sum(twitter_archive_master[['doggo', 'floofer', 'pupper', 'puppo']].any(axis=1))\n"
   ]
  },
  {
   "cell_type": "markdown",
   "metadata": {},
   "source": [
    "No, so it is reasonable to merge the columns:"
   ]
  },
  {
   "cell_type": "code",
   "execution_count": 33,
   "metadata": {},
   "outputs": [
    {
     "data": {
      "text/html": [
       "<div>\n",
       "<style scoped>\n",
       "    .dataframe tbody tr th:only-of-type {\n",
       "        vertical-align: middle;\n",
       "    }\n",
       "\n",
       "    .dataframe tbody tr th {\n",
       "        vertical-align: top;\n",
       "    }\n",
       "\n",
       "    .dataframe thead th {\n",
       "        text-align: right;\n",
       "    }\n",
       "</style>\n",
       "<table border=\"1\" class=\"dataframe\">\n",
       "  <thead>\n",
       "    <tr style=\"text-align: right;\">\n",
       "      <th></th>\n",
       "      <th>Dogtionary</th>\n",
       "      <th>doggo</th>\n",
       "      <th>floofer</th>\n",
       "      <th>pupper</th>\n",
       "      <th>puppo</th>\n",
       "    </tr>\n",
       "  </thead>\n",
       "  <tbody>\n",
       "    <tr>\n",
       "      <th>506</th>\n",
       "      <td>NaN</td>\n",
       "      <td>False</td>\n",
       "      <td>False</td>\n",
       "      <td>False</td>\n",
       "      <td>False</td>\n",
       "    </tr>\n",
       "    <tr>\n",
       "      <th>577</th>\n",
       "      <td>NaN</td>\n",
       "      <td>False</td>\n",
       "      <td>False</td>\n",
       "      <td>False</td>\n",
       "      <td>False</td>\n",
       "    </tr>\n",
       "    <tr>\n",
       "      <th>496</th>\n",
       "      <td>NaN</td>\n",
       "      <td>False</td>\n",
       "      <td>False</td>\n",
       "      <td>False</td>\n",
       "      <td>False</td>\n",
       "    </tr>\n",
       "    <tr>\n",
       "      <th>545</th>\n",
       "      <td>NaN</td>\n",
       "      <td>False</td>\n",
       "      <td>False</td>\n",
       "      <td>False</td>\n",
       "      <td>False</td>\n",
       "    </tr>\n",
       "    <tr>\n",
       "      <th>58</th>\n",
       "      <td>Puppo</td>\n",
       "      <td>False</td>\n",
       "      <td>False</td>\n",
       "      <td>False</td>\n",
       "      <td>True</td>\n",
       "    </tr>\n",
       "    <tr>\n",
       "      <th>1518</th>\n",
       "      <td>NaN</td>\n",
       "      <td>False</td>\n",
       "      <td>False</td>\n",
       "      <td>False</td>\n",
       "      <td>False</td>\n",
       "    </tr>\n",
       "    <tr>\n",
       "      <th>1703</th>\n",
       "      <td>NaN</td>\n",
       "      <td>False</td>\n",
       "      <td>False</td>\n",
       "      <td>False</td>\n",
       "      <td>False</td>\n",
       "    </tr>\n",
       "    <tr>\n",
       "      <th>1377</th>\n",
       "      <td>NaN</td>\n",
       "      <td>False</td>\n",
       "      <td>False</td>\n",
       "      <td>False</td>\n",
       "      <td>False</td>\n",
       "    </tr>\n",
       "    <tr>\n",
       "      <th>240</th>\n",
       "      <td>NaN</td>\n",
       "      <td>False</td>\n",
       "      <td>False</td>\n",
       "      <td>False</td>\n",
       "      <td>False</td>\n",
       "    </tr>\n",
       "    <tr>\n",
       "      <th>956</th>\n",
       "      <td>NaN</td>\n",
       "      <td>False</td>\n",
       "      <td>False</td>\n",
       "      <td>False</td>\n",
       "      <td>False</td>\n",
       "    </tr>\n",
       "  </tbody>\n",
       "</table>\n",
       "</div>"
      ],
      "text/plain": [
       "     Dogtionary  doggo  floofer  pupper  puppo\n",
       "506         NaN  False    False   False  False\n",
       "577         NaN  False    False   False  False\n",
       "496         NaN  False    False   False  False\n",
       "545         NaN  False    False   False  False\n",
       "58        Puppo  False    False   False   True\n",
       "1518        NaN  False    False   False  False\n",
       "1703        NaN  False    False   False  False\n",
       "1377        NaN  False    False   False  False\n",
       "240         NaN  False    False   False  False\n",
       "956         NaN  False    False   False  False"
      ]
     },
     "execution_count": 33,
     "metadata": {},
     "output_type": "execute_result"
    }
   ],
   "source": [
    "twitter_archive_master['Dogtionary'] = np.nan\n",
    "twitter_archive_master.loc[twitter_archive_master['doggo'], ['Dogtionary']] = 'Doggo' \n",
    "twitter_archive_master.loc[twitter_archive_master['floofer'], ['Dogtionary']] = 'Floofer' \n",
    "twitter_archive_master.loc[twitter_archive_master['pupper'], ['Dogtionary']] = 'Pupper' \n",
    "twitter_archive_master.loc[twitter_archive_master['puppo'], ['Dogtionary']] = 'Puppo' \n",
    "\n",
    "\n",
    "\n",
    "twitter_archive_master[['Dogtionary', 'doggo', 'floofer', 'pupper', 'puppo']].sample(10)"
   ]
  },
  {
   "cell_type": "code",
   "execution_count": 34,
   "metadata": {},
   "outputs": [
    {
     "data": {
      "text/html": [
       "<div>\n",
       "<style scoped>\n",
       "    .dataframe tbody tr th:only-of-type {\n",
       "        vertical-align: middle;\n",
       "    }\n",
       "\n",
       "    .dataframe tbody tr th {\n",
       "        vertical-align: top;\n",
       "    }\n",
       "\n",
       "    .dataframe thead th {\n",
       "        text-align: right;\n",
       "    }\n",
       "</style>\n",
       "<table border=\"1\" class=\"dataframe\">\n",
       "  <thead>\n",
       "    <tr style=\"text-align: right;\">\n",
       "      <th></th>\n",
       "      <th>tweet_id</th>\n",
       "      <th>in_reply_to_status_id</th>\n",
       "      <th>in_reply_to_user_id</th>\n",
       "      <th>timestamp</th>\n",
       "      <th>source</th>\n",
       "      <th>text</th>\n",
       "      <th>retweeted_status_id</th>\n",
       "      <th>retweeted_status_user_id</th>\n",
       "      <th>retweeted_status_timestamp</th>\n",
       "      <th>expanded_urls</th>\n",
       "      <th>...</th>\n",
       "      <th>p2_dog</th>\n",
       "      <th>p3</th>\n",
       "      <th>p3_conf</th>\n",
       "      <th>p3_dog</th>\n",
       "      <th>retweet_count</th>\n",
       "      <th>favorite_count</th>\n",
       "      <th>favorited</th>\n",
       "      <th>retweeted</th>\n",
       "      <th>rating</th>\n",
       "      <th>Dogtionary</th>\n",
       "    </tr>\n",
       "  </thead>\n",
       "  <tbody>\n",
       "    <tr>\n",
       "      <th>1343</th>\n",
       "      <td>676811746707918848</td>\n",
       "      <td>NaN</td>\n",
       "      <td>NaN</td>\n",
       "      <td>2015-12-15 17:11:09</td>\n",
       "      <td>&lt;a href=\"http://twitter.com/download/iphone\" r...</td>\n",
       "      <td>Say hello to Penny &amp;amp; Gizmo. They are pract...</td>\n",
       "      <td>0</td>\n",
       "      <td>0</td>\n",
       "      <td>NaN</td>\n",
       "      <td>https://twitter.com/dog_rates/status/676811746...</td>\n",
       "      <td>...</td>\n",
       "      <td>True</td>\n",
       "      <td>cocker_spaniel</td>\n",
       "      <td>0.060331</td>\n",
       "      <td>True</td>\n",
       "      <td>21420.0</td>\n",
       "      <td>43565.0</td>\n",
       "      <td>False</td>\n",
       "      <td>False</td>\n",
       "      <td>0.120</td>\n",
       "      <td>NaN</td>\n",
       "    </tr>\n",
       "    <tr>\n",
       "      <th>98</th>\n",
       "      <td>868552278524837888</td>\n",
       "      <td>NaN</td>\n",
       "      <td>NaN</td>\n",
       "      <td>2017-05-27 19:39:34</td>\n",
       "      <td>&lt;a href=\"http://twitter.com/download/iphone\" r...</td>\n",
       "      <td>Say hello to Cooper. His expression is the sam...</td>\n",
       "      <td>0</td>\n",
       "      <td>0</td>\n",
       "      <td>NaN</td>\n",
       "      <td>https://www.gofundme.com/3ti3nps,https://twitt...</td>\n",
       "      <td>...</td>\n",
       "      <td>True</td>\n",
       "      <td>American_Staffordshire_terrier</td>\n",
       "      <td>0.094991</td>\n",
       "      <td>True</td>\n",
       "      <td>NaN</td>\n",
       "      <td>NaN</td>\n",
       "      <td>NaN</td>\n",
       "      <td>NaN</td>\n",
       "      <td>0.160</td>\n",
       "      <td>NaN</td>\n",
       "    </tr>\n",
       "    <tr>\n",
       "      <th>1601</th>\n",
       "      <td>669375718304980992</td>\n",
       "      <td>NaN</td>\n",
       "      <td>NaN</td>\n",
       "      <td>2015-11-25 04:43:02</td>\n",
       "      <td>&lt;a href=\"http://twitter.com/download/iphone\" r...</td>\n",
       "      <td>This is Billl. He's trying to be a ghost but h...</td>\n",
       "      <td>0</td>\n",
       "      <td>0</td>\n",
       "      <td>NaN</td>\n",
       "      <td>https://twitter.com/dog_rates/status/669375718...</td>\n",
       "      <td>...</td>\n",
       "      <td>True</td>\n",
       "      <td>Lakeland_terrier</td>\n",
       "      <td>0.097846</td>\n",
       "      <td>True</td>\n",
       "      <td>941.0</td>\n",
       "      <td>4791.0</td>\n",
       "      <td>False</td>\n",
       "      <td>False</td>\n",
       "      <td>0.080</td>\n",
       "      <td>NaN</td>\n",
       "    </tr>\n",
       "    <tr>\n",
       "      <th>47</th>\n",
       "      <td>881666595344535552</td>\n",
       "      <td>NaN</td>\n",
       "      <td>NaN</td>\n",
       "      <td>2017-07-03 00:11:11</td>\n",
       "      <td>&lt;a href=\"http://twitter.com/download/iphone\" r...</td>\n",
       "      <td>This is Gary. He couldn't miss this puppertuni...</td>\n",
       "      <td>0</td>\n",
       "      <td>0</td>\n",
       "      <td>NaN</td>\n",
       "      <td>https://twitter.com/dog_rates/status/881666595...</td>\n",
       "      <td>...</td>\n",
       "      <td>True</td>\n",
       "      <td>golden_retriever</td>\n",
       "      <td>0.160739</td>\n",
       "      <td>True</td>\n",
       "      <td>NaN</td>\n",
       "      <td>NaN</td>\n",
       "      <td>NaN</td>\n",
       "      <td>NaN</td>\n",
       "      <td>0.173</td>\n",
       "      <td>NaN</td>\n",
       "    </tr>\n",
       "    <tr>\n",
       "      <th>1157</th>\n",
       "      <td>688547210804498433</td>\n",
       "      <td>NaN</td>\n",
       "      <td>NaN</td>\n",
       "      <td>2016-01-17 02:23:42</td>\n",
       "      <td>&lt;a href=\"http://twitter.com/download/iphone\" r...</td>\n",
       "      <td>This is Frönq. He got caught stealing a waffle...</td>\n",
       "      <td>0</td>\n",
       "      <td>0</td>\n",
       "      <td>NaN</td>\n",
       "      <td>https://twitter.com/dog_rates/status/688547210...</td>\n",
       "      <td>...</td>\n",
       "      <td>True</td>\n",
       "      <td>Border_collie</td>\n",
       "      <td>0.053840</td>\n",
       "      <td>True</td>\n",
       "      <td>1027.0</td>\n",
       "      <td>4719.0</td>\n",
       "      <td>False</td>\n",
       "      <td>False</td>\n",
       "      <td>0.120</td>\n",
       "      <td>NaN</td>\n",
       "    </tr>\n",
       "    <tr>\n",
       "      <th>199</th>\n",
       "      <td>839549326359670784</td>\n",
       "      <td>NaN</td>\n",
       "      <td>NaN</td>\n",
       "      <td>2017-03-08 18:52:12</td>\n",
       "      <td>&lt;a href=\"http://twitter.com/download/iphone\" r...</td>\n",
       "      <td>Meet Winston. He knows he's a little too big f...</td>\n",
       "      <td>0</td>\n",
       "      <td>0</td>\n",
       "      <td>NaN</td>\n",
       "      <td>https://twitter.com/dog_rates/status/839549326...</td>\n",
       "      <td>...</td>\n",
       "      <td>True</td>\n",
       "      <td>Pembroke</td>\n",
       "      <td>0.049901</td>\n",
       "      <td>True</td>\n",
       "      <td>NaN</td>\n",
       "      <td>NaN</td>\n",
       "      <td>NaN</td>\n",
       "      <td>NaN</td>\n",
       "      <td>0.160</td>\n",
       "      <td>NaN</td>\n",
       "    </tr>\n",
       "    <tr>\n",
       "      <th>399</th>\n",
       "      <td>804738756058218496</td>\n",
       "      <td>NaN</td>\n",
       "      <td>NaN</td>\n",
       "      <td>2016-12-02 17:27:25</td>\n",
       "      <td>&lt;a href=\"http://twitter.com/download/iphone\" r...</td>\n",
       "      <td>This is Django. He accidentally opened the fro...</td>\n",
       "      <td>0</td>\n",
       "      <td>0</td>\n",
       "      <td>NaN</td>\n",
       "      <td>https://twitter.com/dog_rates/status/804738756...</td>\n",
       "      <td>...</td>\n",
       "      <td>True</td>\n",
       "      <td>Leonberg</td>\n",
       "      <td>0.008297</td>\n",
       "      <td>True</td>\n",
       "      <td>NaN</td>\n",
       "      <td>NaN</td>\n",
       "      <td>NaN</td>\n",
       "      <td>NaN</td>\n",
       "      <td>0.160</td>\n",
       "      <td>NaN</td>\n",
       "    </tr>\n",
       "    <tr>\n",
       "      <th>938</th>\n",
       "      <td>709225125749587968</td>\n",
       "      <td>NaN</td>\n",
       "      <td>NaN</td>\n",
       "      <td>2016-03-14 03:50:21</td>\n",
       "      <td>&lt;a href=\"http://twitter.com/download/iphone\" r...</td>\n",
       "      <td>This is Walker. He's a Butternut Khalifa. Appe...</td>\n",
       "      <td>0</td>\n",
       "      <td>0</td>\n",
       "      <td>NaN</td>\n",
       "      <td>https://twitter.com/dog_rates/status/709225125...</td>\n",
       "      <td>...</td>\n",
       "      <td>True</td>\n",
       "      <td>golden_retriever</td>\n",
       "      <td>0.145578</td>\n",
       "      <td>True</td>\n",
       "      <td>NaN</td>\n",
       "      <td>NaN</td>\n",
       "      <td>NaN</td>\n",
       "      <td>NaN</td>\n",
       "      <td>0.147</td>\n",
       "      <td>NaN</td>\n",
       "    </tr>\n",
       "    <tr>\n",
       "      <th>1126</th>\n",
       "      <td>690735892932222976</td>\n",
       "      <td>NaN</td>\n",
       "      <td>NaN</td>\n",
       "      <td>2016-01-23 03:20:44</td>\n",
       "      <td>&lt;a href=\"http://twitter.com/download/iphone\" r...</td>\n",
       "      <td>Say hello to Peaches. She's a Dingleberry Zand...</td>\n",
       "      <td>0</td>\n",
       "      <td>0</td>\n",
       "      <td>NaN</td>\n",
       "      <td>https://twitter.com/dog_rates/status/690735892...</td>\n",
       "      <td>...</td>\n",
       "      <td>True</td>\n",
       "      <td>kuvasz</td>\n",
       "      <td>0.002795</td>\n",
       "      <td>True</td>\n",
       "      <td>6275.0</td>\n",
       "      <td>22448.0</td>\n",
       "      <td>False</td>\n",
       "      <td>False</td>\n",
       "      <td>0.173</td>\n",
       "      <td>NaN</td>\n",
       "    </tr>\n",
       "    <tr>\n",
       "      <th>354</th>\n",
       "      <td>813157409116065792</td>\n",
       "      <td>NaN</td>\n",
       "      <td>NaN</td>\n",
       "      <td>2016-12-25 23:00:08</td>\n",
       "      <td>&lt;a href=\"http://twitter.com/download/iphone\" r...</td>\n",
       "      <td>This is Layla. It is her first Christmas. She ...</td>\n",
       "      <td>0</td>\n",
       "      <td>0</td>\n",
       "      <td>NaN</td>\n",
       "      <td>https://twitter.com/dog_rates/status/813157409...</td>\n",
       "      <td>...</td>\n",
       "      <td>True</td>\n",
       "      <td>Cardigan</td>\n",
       "      <td>0.041916</td>\n",
       "      <td>True</td>\n",
       "      <td>NaN</td>\n",
       "      <td>NaN</td>\n",
       "      <td>NaN</td>\n",
       "      <td>NaN</td>\n",
       "      <td>0.160</td>\n",
       "      <td>NaN</td>\n",
       "    </tr>\n",
       "  </tbody>\n",
       "</table>\n",
       "<p>10 rows × 27 columns</p>\n",
       "</div>"
      ],
      "text/plain": [
       "                tweet_id  in_reply_to_status_id  in_reply_to_user_id  \\\n",
       "1343  676811746707918848                    NaN                  NaN   \n",
       "98    868552278524837888                    NaN                  NaN   \n",
       "1601  669375718304980992                    NaN                  NaN   \n",
       "47    881666595344535552                    NaN                  NaN   \n",
       "1157  688547210804498433                    NaN                  NaN   \n",
       "199   839549326359670784                    NaN                  NaN   \n",
       "399   804738756058218496                    NaN                  NaN   \n",
       "938   709225125749587968                    NaN                  NaN   \n",
       "1126  690735892932222976                    NaN                  NaN   \n",
       "354   813157409116065792                    NaN                  NaN   \n",
       "\n",
       "               timestamp                                             source  \\\n",
       "1343 2015-12-15 17:11:09  <a href=\"http://twitter.com/download/iphone\" r...   \n",
       "98   2017-05-27 19:39:34  <a href=\"http://twitter.com/download/iphone\" r...   \n",
       "1601 2015-11-25 04:43:02  <a href=\"http://twitter.com/download/iphone\" r...   \n",
       "47   2017-07-03 00:11:11  <a href=\"http://twitter.com/download/iphone\" r...   \n",
       "1157 2016-01-17 02:23:42  <a href=\"http://twitter.com/download/iphone\" r...   \n",
       "199  2017-03-08 18:52:12  <a href=\"http://twitter.com/download/iphone\" r...   \n",
       "399  2016-12-02 17:27:25  <a href=\"http://twitter.com/download/iphone\" r...   \n",
       "938  2016-03-14 03:50:21  <a href=\"http://twitter.com/download/iphone\" r...   \n",
       "1126 2016-01-23 03:20:44  <a href=\"http://twitter.com/download/iphone\" r...   \n",
       "354  2016-12-25 23:00:08  <a href=\"http://twitter.com/download/iphone\" r...   \n",
       "\n",
       "                                                   text  retweeted_status_id  \\\n",
       "1343  Say hello to Penny &amp; Gizmo. They are pract...                    0   \n",
       "98    Say hello to Cooper. His expression is the sam...                    0   \n",
       "1601  This is Billl. He's trying to be a ghost but h...                    0   \n",
       "47    This is Gary. He couldn't miss this puppertuni...                    0   \n",
       "1157  This is Frönq. He got caught stealing a waffle...                    0   \n",
       "199   Meet Winston. He knows he's a little too big f...                    0   \n",
       "399   This is Django. He accidentally opened the fro...                    0   \n",
       "938   This is Walker. He's a Butternut Khalifa. Appe...                    0   \n",
       "1126  Say hello to Peaches. She's a Dingleberry Zand...                    0   \n",
       "354   This is Layla. It is her first Christmas. She ...                    0   \n",
       "\n",
       "      retweeted_status_user_id retweeted_status_timestamp  \\\n",
       "1343                         0                        NaN   \n",
       "98                           0                        NaN   \n",
       "1601                         0                        NaN   \n",
       "47                           0                        NaN   \n",
       "1157                         0                        NaN   \n",
       "199                          0                        NaN   \n",
       "399                          0                        NaN   \n",
       "938                          0                        NaN   \n",
       "1126                         0                        NaN   \n",
       "354                          0                        NaN   \n",
       "\n",
       "                                          expanded_urls     ...     p2_dog  \\\n",
       "1343  https://twitter.com/dog_rates/status/676811746...     ...       True   \n",
       "98    https://www.gofundme.com/3ti3nps,https://twitt...     ...       True   \n",
       "1601  https://twitter.com/dog_rates/status/669375718...     ...       True   \n",
       "47    https://twitter.com/dog_rates/status/881666595...     ...       True   \n",
       "1157  https://twitter.com/dog_rates/status/688547210...     ...       True   \n",
       "199   https://twitter.com/dog_rates/status/839549326...     ...       True   \n",
       "399   https://twitter.com/dog_rates/status/804738756...     ...       True   \n",
       "938   https://twitter.com/dog_rates/status/709225125...     ...       True   \n",
       "1126  https://twitter.com/dog_rates/status/690735892...     ...       True   \n",
       "354   https://twitter.com/dog_rates/status/813157409...     ...       True   \n",
       "\n",
       "                                  p3   p3_conf  p3_dog  retweet_count  \\\n",
       "1343                  cocker_spaniel  0.060331    True        21420.0   \n",
       "98    American_Staffordshire_terrier  0.094991    True            NaN   \n",
       "1601                Lakeland_terrier  0.097846    True          941.0   \n",
       "47                  golden_retriever  0.160739    True            NaN   \n",
       "1157                   Border_collie  0.053840    True         1027.0   \n",
       "199                         Pembroke  0.049901    True            NaN   \n",
       "399                         Leonberg  0.008297    True            NaN   \n",
       "938                 golden_retriever  0.145578    True            NaN   \n",
       "1126                          kuvasz  0.002795    True         6275.0   \n",
       "354                         Cardigan  0.041916    True            NaN   \n",
       "\n",
       "     favorite_count  favorited  retweeted rating  Dogtionary  \n",
       "1343        43565.0      False      False  0.120         NaN  \n",
       "98              NaN        NaN        NaN  0.160         NaN  \n",
       "1601         4791.0      False      False  0.080         NaN  \n",
       "47              NaN        NaN        NaN  0.173         NaN  \n",
       "1157         4719.0      False      False  0.120         NaN  \n",
       "199             NaN        NaN        NaN  0.160         NaN  \n",
       "399             NaN        NaN        NaN  0.160         NaN  \n",
       "938             NaN        NaN        NaN  0.147         NaN  \n",
       "1126        22448.0      False      False  0.173         NaN  \n",
       "354             NaN        NaN        NaN  0.160         NaN  \n",
       "\n",
       "[10 rows x 27 columns]"
      ]
     },
     "execution_count": 34,
     "metadata": {},
     "output_type": "execute_result"
    }
   ],
   "source": [
    "twitter_archive_master.drop(columns=['doggo', 'floofer', 'pupper', 'puppo'], inplace=True)\n",
    "twitter_archive_master.sample(10)"
   ]
  },
  {
   "cell_type": "code",
   "execution_count": 35,
   "metadata": {
    "scrolled": true
   },
   "outputs": [
    {
     "name": "stdout",
     "output_type": "stream",
     "text": [
      "<class 'pandas.core.frame.DataFrame'>\n",
      "Int64Index: 1751 entries, 0 to 1750\n",
      "Data columns (total 27 columns):\n",
      "tweet_id                      1751 non-null int64\n",
      "in_reply_to_status_id         20 non-null float64\n",
      "in_reply_to_user_id           20 non-null float64\n",
      "timestamp                     1751 non-null datetime64[ns]\n",
      "source                        1751 non-null object\n",
      "text                          1751 non-null object\n",
      "retweeted_status_id           1751 non-null int64\n",
      "retweeted_status_user_id      1751 non-null int64\n",
      "retweeted_status_timestamp    65 non-null object\n",
      "expanded_urls                 1751 non-null object\n",
      "jpg_url                       1751 non-null object\n",
      "img_num                       1751 non-null int64\n",
      "p1                            1751 non-null object\n",
      "p1_conf                       1751 non-null float64\n",
      "p1_dog                        1751 non-null bool\n",
      "p2                            1751 non-null object\n",
      "p2_conf                       1751 non-null float64\n",
      "p2_dog                        1751 non-null bool\n",
      "p3                            1751 non-null object\n",
      "p3_conf                       1751 non-null float64\n",
      "p3_dog                        1751 non-null bool\n",
      "retweet_count                 701 non-null float64\n",
      "favorite_count                701 non-null float64\n",
      "favorited                     701 non-null object\n",
      "retweeted                     701 non-null object\n",
      "rating                        1751 non-null float64\n",
      "Dogtionary                    1751 non-null category\n",
      "dtypes: bool(3), category(1), datetime64[ns](1), float64(8), int64(4), object(10)\n",
      "memory usage: 335.3+ KB\n"
     ]
    }
   ],
   "source": [
    "twitter_archive_master.loc[twitter_archive_master['Dogtionary'].isna(), ['Dogtionary']] = 'Just a dog'\n",
    "twitter_archive_master['Dogtionary'] = twitter_archive_master['Dogtionary'].astype('category')\n",
    "twitter_archive_master.info()"
   ]
  },
  {
   "cell_type": "markdown",
   "metadata": {
    "slideshow": {
     "slide_type": "skip"
    }
   },
   "source": [
    "## Store (Optional)\n",
    "\n",
    "* Store data, in a file or database for example, if you need to use it in the future.\n",
    "\n"
   ]
  },
  {
   "cell_type": "code",
   "execution_count": 36,
   "metadata": {
    "slideshow": {
     "slide_type": "skip"
    }
   },
   "outputs": [],
   "source": [
    "twitter_archive_master.to_csv('twitter_archive_master.csv', index=False)\n",
    "twitter_archive_master.dtypes.to_frame('dtypes').to_csv('twitter_archive_master_dtypes.csv')"
   ]
  },
  {
   "cell_type": "markdown",
   "metadata": {
    "slideshow": {
     "slide_type": "slide"
    }
   },
   "source": [
    "## Report"
   ]
  },
  {
   "cell_type": "markdown",
   "metadata": {
    "slideshow": {
     "slide_type": "fragment"
    }
   },
   "source": [
    "At first, load the master twitter archive from disk:"
   ]
  },
  {
   "cell_type": "code",
   "execution_count": 37,
   "metadata": {
    "slideshow": {
     "slide_type": "fragment"
    }
   },
   "outputs": [
    {
     "name": "stdout",
     "output_type": "stream",
     "text": [
      "<class 'pandas.core.frame.DataFrame'>\n",
      "RangeIndex: 1751 entries, 0 to 1750\n",
      "Data columns (total 3 columns):\n",
      "timestamp         1751 non-null datetime64[ns]\n",
      "retweet_count     701 non-null float64\n",
      "favorite_count    701 non-null float64\n",
      "dtypes: datetime64[ns](1), float64(2)\n",
      "memory usage: 41.1 KB\n"
     ]
    }
   ],
   "source": [
    "dtypes = pd.read_csv('twitter_archive_master_dtypes.csv', index_col=0)\n",
    "dtypes = dtypes['dtypes'].to_dict()\n",
    "twitter_archive_master = pd.read_csv('twitter_archive_master.csv')\n",
    "\n",
    "for col, dtype in dtypes.items():\n",
    "    twitter_archive_master[col] = twitter_archive_master[col].astype(dtype)\n",
    "twitter_archive_master[['timestamp', 'retweet_count', 'favorite_count']].info()\n"
   ]
  },
  {
   "cell_type": "code",
   "execution_count": 38,
   "metadata": {
    "scrolled": true
   },
   "outputs": [
    {
     "data": {
      "image/png": "[encoded data removed]",
      "text/plain": [
       "<Figure size 432x288 with 1 Axes>"
      ]
     },
     "metadata": {
      "needs_background": "light"
     },
     "output_type": "display_data"
    }
   ],
   "source": [
    "twitter_archive_master['timestamp'].hist();\n",
    "plt.xticks(rotation=45);\n",
    "plt.savefig('timestamp_histogram.png')"
   ]
  },
  {
   "cell_type": "code",
   "execution_count": 39,
   "metadata": {},
   "outputs": [
    {
     "data": {
      "image/png": "[encoded data removed]",
      "text/plain": [
       "<Figure size 432x288 with 1 Axes>"
      ]
     },
     "metadata": {},
     "output_type": "display_data"
    }
   ],
   "source": [
    "twitter_archive_master['Dogtionary'].value_counts().plot(kind='pie');\n",
    "plt.savefig('dogpie.png')"
   ]
  },
  {
   "cell_type": "code",
   "execution_count": 40,
   "metadata": {},
   "outputs": [
    {
     "data": {
      "image/png": "[encoded data removed]",
      "text/plain": [
       "<Figure size 432x288 with 1 Axes>"
      ]
     },
     "metadata": {
      "needs_background": "light"
     },
     "output_type": "display_data"
    }
   ],
   "source": [
    "twitter_archive_master = twitter_archive_master.sort_values('timestamp')\n",
    "twitter_archive_master['cumulated_favs'] = twitter_archive_master.favorite_count.cumsum()\n",
    "twitter_archive_master.plot(x='timestamp', y='cumulated_favs');\n",
    "plt.grid(True)\n",
    "plt.savefig('cumulated_favs.png')"
   ]
  },
  {
   "cell_type": "code",
   "execution_count": 41,
   "metadata": {
    "scrolled": true
   },
   "outputs": [
    {
     "data": {
      "image/png": "[encoded data removed]",
      "text/plain": [
       "<Figure size 432x288 with 1 Axes>"
      ]
     },
     "metadata": {
      "needs_background": "light"
     },
     "output_type": "display_data"
    }
   ],
   "source": [
    "twitter_archive_master['cumulated_retweets'] = twitter_archive_master.retweet_count.cumsum()\n",
    "twitter_archive_master.plot(x='timestamp', y='cumulated_retweets');\n",
    "plt.grid(True)\n",
    "plt.savefig('cumulated_retweets.png')"
   ]
  },
  {
   "cell_type": "code",
   "execution_count": 42,
   "metadata": {},
   "outputs": [
    {
     "data": {
      "image/png": "[encoded data removed]",
      "text/plain": [
       "<Figure size 432x288 with 1 Axes>"
      ]
     },
     "metadata": {
      "needs_background": "light"
     },
     "output_type": "display_data"
    }
   ],
   "source": [
    "twitter_archive_master.plot(x='timestamp', y='rating');\n",
    "plt.savefig('cutness_inflation.png')"
   ]
  },
  {
   "cell_type": "code",
   "execution_count": 43,
   "metadata": {},
   "outputs": [
    {
     "data": {
      "image/png": "[encoded data removed]",
      "text/plain": [
       "<Figure size 432x288 with 1 Axes>"
      ]
     },
     "metadata": {
      "needs_background": "light"
     },
     "output_type": "display_data"
    }
   ],
   "source": [
    "twitter_archive_master.plot(kind='hist', y='rating', bins=100);\n",
    "plt.savefig('normalized_grades.png')"
   ]
  },
  {
   "cell_type": "code",
   "execution_count": 44,
   "metadata": {
    "scrolled": true
   },
   "outputs": [
    {
     "data": {
      "text/plain": [
       "count    1751.000000\n",
       "mean        0.145720\n",
       "std         0.033018\n",
       "min         0.000000\n",
       "25%         0.133000\n",
       "50%         0.147000\n",
       "75%         0.160000\n",
       "max         1.000000\n",
       "Name: rating, dtype: float64"
      ]
     },
     "execution_count": 44,
     "metadata": {},
     "output_type": "execute_result"
    }
   ],
   "source": [
    "twitter_archive_master['rating'].describe()"
   ]
  },
  {
   "cell_type": "code",
   "execution_count": 45,
   "metadata": {},
   "outputs": [
    {
     "data": {
      "image/png": "[encoded data removed]",
      "text/plain": [
       "<Figure size 432x288 with 1 Axes>"
      ]
     },
     "metadata": {
      "needs_background": "light"
     },
     "output_type": "display_data"
    }
   ],
   "source": [
    "indexer = twitter_archive_master['rating'].between(0, twitter_archive_master['rating'].quantile(.95))\n",
    "twitter_archive_master.loc[indexer, ['rating']].plot(kind='hist', y='rating', bins=30);\n",
    "plt.savefig('normalized_grades_without_outliers.png')"
   ]
  },
  {
   "cell_type": "markdown",
   "metadata": {
    "slideshow": {
     "slide_type": "slide"
    }
   },
   "source": [
    "### Analysis\n",
    "\n",
    "* The time span o fhe tweets is roundabout two years since November 2015\n",
    "* The majority of the tweets (850) occured up until January 2016 \n",
    "* The tweet coverate is only available until March 2016\n",
    "* Most (normalized) ratings are below 0.2, so there are some extremely high rated dogs\n",
    "* The rating increases overal over the last years\n",
    "\n",
    "### Visualization\n",
    "\n",
    "## Report\n",
    "\n",
    "### How many accounts does each tweet reach?\n",
    "\n",
    "### What are the Dogtionary classifications\n",
    "\n",
    "### What are the ratings of the Dogs?"
   ]
  }
 ],
 "metadata": {
  "celltoolbar": "Slideshow",
  "kernelspec": {
   "display_name": "Python [conda env:.conda-udacity] *",
   "language": "python",
   "name": "conda-env-.conda-udacity-py"
  },
  "language_info": {
   "codemirror_mode": {
    "name": "ipython",
    "version": 3
   },
   "file_extension": ".py",
   "mimetype": "text/x-python",
   "name": "python",
   "nbconvert_exporter": "python",
   "pygments_lexer": "ipython3",
   "version": "3.6.10"
  }
 },
 "nbformat": 4,
 "nbformat_minor": 4
}

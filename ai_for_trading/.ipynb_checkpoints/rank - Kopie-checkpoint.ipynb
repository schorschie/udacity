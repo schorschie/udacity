{
 "cells": [
  {
   "cell_type": "markdown",
   "metadata": {},
   "source": [
    "# Ranking"
   ]
  },
  {
   "cell_type": "markdown",
   "metadata": {},
   "source": [
    "## Install packages"
   ]
  },
  {
   "cell_type": "code",
   "execution_count": 1,
   "metadata": {},
   "outputs": [],
   "source": [
    "import sys"
   ]
  },
  {
   "cell_type": "code",
   "execution_count": 3,
   "metadata": {},
   "outputs": [
    {
     "name": "stdout",
     "output_type": "stream",
     "text": [
      "Collecting alphalens==0.3.2\n",
      "  Using cached alphalens-0.3.2.tar.gz (18.9 MB)\n",
      "Collecting colour==0.1.5\n",
      "  Using cached colour-0.1.5-py2.py3-none-any.whl (23 kB)\n",
      "Collecting cvxpy==1.0.3\n",
      "  Using cached cvxpy-1.0.3.tar.gz (880 kB)\n",
      "Requirement already satisfied: cycler==0.10.0 in c:\\users\\grzeg\\anaconda3\\envs\\udacity\\lib\\site-packages (from -r requirements.txt (line 4)) (0.10.0)\n",
      "Collecting numpy==1.14.5\n",
      "  Downloading numpy-1.14.5-cp36-none-win_amd64.whl (13.4 MB)\n",
      "Collecting pandas==0.18.1\n",
      "  Using cached pandas-0.18.1.tar.gz (7.3 MB)\n",
      "Collecting plotly==2.2.3\n",
      "  Using cached plotly-2.2.3.tar.gz (1.1 MB)\n",
      "Collecting pyparsing==2.2.0\n",
      "  Using cached pyparsing-2.2.0-py2.py3-none-any.whl (56 kB)\n",
      "Collecting python-dateutil==2.6.1\n",
      "  Using cached python_dateutil-2.6.1-py2.py3-none-any.whl (194 kB)\n",
      "Collecting pytz==2017.3\n",
      "  Using cached pytz-2017.3-py2.py3-none-any.whl (511 kB)\n",
      "Collecting requests==2.18.4\n",
      "  Using cached requests-2.18.4-py2.py3-none-any.whl (88 kB)\n",
      "Collecting scipy==1.0.0\n",
      "  Downloading scipy-1.0.0-cp36-none-win_amd64.whl (30.8 MB)\n",
      "Collecting scikit-learn==0.19.1\n",
      "  Downloading scikit_learn-0.19.1-cp36-cp36m-win_amd64.whl (4.3 MB)\n",
      "Collecting six==1.11.0\n",
      "  Using cached six-1.11.0-py2.py3-none-any.whl (10 kB)\n",
      "Collecting tqdm==4.19.5\n",
      "  Using cached tqdm-4.19.5-py2.py3-none-any.whl (51 kB)\n",
      "Collecting zipline===1.2.0\n",
      "  Using cached zipline-1.2.0.tar.gz (659 kB)\n",
      "Collecting graphviz==0.9\n",
      "  Using cached graphviz-0.9-py2.py3-none-any.whl (16 kB)\n",
      "Requirement already satisfied: matplotlib>=1.4.0 in c:\\users\\grzeg\\anaconda3\\envs\\udacity\\lib\\site-packages (from alphalens==0.3.2->-r requirements.txt (line 1)) (3.1.3)\n",
      "Requirement already satisfied: seaborn>=0.6.0 in c:\\users\\grzeg\\anaconda3\\envs\\udacity\\lib\\site-packages (from alphalens==0.3.2->-r requirements.txt (line 1)) (0.10.0)\n",
      "Requirement already satisfied: statsmodels>=0.6.1 in c:\\users\\grzeg\\anaconda3\\envs\\udacity\\lib\\site-packages (from alphalens==0.3.2->-r requirements.txt (line 1)) (0.12.1)\n",
      "Requirement already satisfied: IPython>=3.2.3 in c:\\users\\grzeg\\anaconda3\\envs\\udacity\\lib\\site-packages (from alphalens==0.3.2->-r requirements.txt (line 1)) (7.13.0)\n",
      "Collecting osqp\n",
      "  Downloading osqp-0.6.1-cp36-cp36m-win_amd64.whl (156 kB)\n",
      "Collecting ecos>=2\n",
      "  Downloading ecos-2.0.7.post1-cp36-cp36m-win_amd64.whl (67 kB)\n",
      "Collecting scs>=1.1.3\n",
      "  Using cached scs-2.1.2.tar.gz (3.5 MB)\n",
      "Collecting multiprocess\n",
      "  Downloading multiprocess-0.70.11.1-py36-none-any.whl (101 kB)\n",
      "Collecting fastcache\n",
      "  Downloading fastcache-1.1.0.tar.gz (20 kB)\n",
      "Requirement already satisfied: toolz in c:\\users\\grzeg\\anaconda3\\envs\\udacity\\lib\\site-packages (from cvxpy==1.0.3->-r requirements.txt (line 3)) (0.11.1)\n",
      "Requirement already satisfied: decorator>=4.0.6 in c:\\users\\grzeg\\anaconda3\\envs\\udacity\\lib\\site-packages (from plotly==2.2.3->-r requirements.txt (line 7)) (4.4.2)\n",
      "Requirement already satisfied: nbformat>=4.2 in c:\\users\\grzeg\\anaconda3\\envs\\udacity\\lib\\site-packages (from plotly==2.2.3->-r requirements.txt (line 7)) (5.0.4)\n",
      "Collecting urllib3<1.23,>=1.21.1\n",
      "  Using cached urllib3-1.22-py2.py3-none-any.whl (132 kB)\n",
      "Requirement already satisfied: certifi>=2017.4.17 in c:\\users\\grzeg\\anaconda3\\envs\\udacity\\lib\\site-packages (from requests==2.18.4->-r requirements.txt (line 11)) (2020.6.20)\n",
      "Requirement already satisfied: chardet<3.1.0,>=3.0.2 in c:\\users\\grzeg\\anaconda3\\envs\\udacity\\lib\\site-packages (from requests==2.18.4->-r requirements.txt (line 11)) (3.0.4)\n",
      "Collecting idna<2.7,>=2.5\n",
      "  Using cached idna-2.6-py2.py3-none-any.whl (56 kB)\n",
      "Requirement already satisfied: pip>=7.1.0 in c:\\users\\grzeg\\anaconda3\\envs\\udacity\\lib\\site-packages (from zipline===1.2.0->-r requirements.txt (line 16)) (20.0.2)\n",
      "Requirement already satisfied: setuptools>18.0 in c:\\users\\grzeg\\anaconda3\\envs\\udacity\\lib\\site-packages (from zipline===1.2.0->-r requirements.txt (line 16)) (46.1.1.post20200323)\n",
      "Requirement already satisfied: Logbook>=0.12.5 in c:\\users\\grzeg\\anaconda3\\envs\\udacity\\lib\\site-packages (from zipline===1.2.0->-r requirements.txt (line 16)) (1.5.3)\n",
      "Requirement already satisfied: requests-file>=1.4.1 in c:\\users\\grzeg\\anaconda3\\envs\\udacity\\lib\\site-packages (from zipline===1.2.0->-r requirements.txt (line 16)) (1.5.1)\n",
      "Collecting pandas-datareader<0.6,>=0.2.1\n",
      "  Using cached pandas_datareader-0.5.0-py2.py3-none-any.whl (74 kB)\n",
      "Requirement already satisfied: patsy>=0.4.0 in c:\\users\\grzeg\\anaconda3\\envs\\udacity\\lib\\site-packages (from zipline===1.2.0->-r requirements.txt (line 16)) (0.5.1)\n",
      "Requirement already satisfied: Cython>=0.25.2 in c:\\users\\grzeg\\anaconda3\\envs\\udacity\\lib\\site-packages (from zipline===1.2.0->-r requirements.txt (line 16)) (0.29.21)\n",
      "Requirement already satisfied: cyordereddict>=0.2.2 in c:\\users\\grzeg\\anaconda3\\envs\\udacity\\lib\\site-packages (from zipline===1.2.0->-r requirements.txt (line 16)) (1.0.0)\n",
      "Requirement already satisfied: bottleneck>=1.0.0 in c:\\users\\grzeg\\anaconda3\\envs\\udacity\\lib\\site-packages (from zipline===1.2.0->-r requirements.txt (line 16)) (1.3.2)\n",
      "Requirement already satisfied: contextlib2>=0.4.0 in c:\\users\\grzeg\\anaconda3\\envs\\udacity\\lib\\site-packages (from zipline===1.2.0->-r requirements.txt (line 16)) (0.6.0.post1)\n",
      "Requirement already satisfied: networkx<2.0,>=1.9.1 in c:\\users\\grzeg\\anaconda3\\envs\\udacity\\lib\\site-packages (from zipline===1.2.0->-r requirements.txt (line 16)) (1.11)\n",
      "Requirement already satisfied: numexpr>=2.6.1 in c:\\users\\grzeg\\anaconda3\\envs\\udacity\\lib\\site-packages (from zipline===1.2.0->-r requirements.txt (line 16)) (2.7.1)\n",
      "Requirement already satisfied: bcolz<1,>=0.12.1 in c:\\users\\grzeg\\anaconda3\\envs\\udacity\\lib\\site-packages (from zipline===1.2.0->-r requirements.txt (line 16)) (0.12.1)\n",
      "Requirement already satisfied: click>=4.0.0 in c:\\users\\grzeg\\anaconda3\\envs\\udacity\\lib\\site-packages (from zipline===1.2.0->-r requirements.txt (line 16)) (7.1.2)\n",
      "Requirement already satisfied: multipledispatch>=0.4.8 in c:\\users\\grzeg\\anaconda3\\envs\\udacity\\lib\\site-packages (from zipline===1.2.0->-r requirements.txt (line 16)) (0.6.0)\n",
      "Requirement already satisfied: MarkupSafe>=0.23 in c:\\users\\grzeg\\anaconda3\\envs\\udacity\\lib\\site-packages (from zipline===1.2.0->-r requirements.txt (line 16)) (1.1.1)\n",
      "Requirement already satisfied: Mako>=1.0.1 in c:\\users\\grzeg\\anaconda3\\envs\\udacity\\lib\\site-packages (from zipline===1.2.0->-r requirements.txt (line 16)) (1.1.3)\n",
      "Requirement already satisfied: sqlalchemy>=1.0.8 in c:\\users\\grzeg\\anaconda3\\envs\\udacity\\lib\\site-packages (from zipline===1.2.0->-r requirements.txt (line 16)) (1.3.15)\n",
      "Requirement already satisfied: alembic>=0.7.7 in c:\\users\\grzeg\\anaconda3\\envs\\udacity\\lib\\site-packages (from zipline===1.2.0->-r requirements.txt (line 16)) (1.4.3)\n",
      "Requirement already satisfied: sortedcontainers>=1.4.4 in c:\\users\\grzeg\\anaconda3\\envs\\udacity\\lib\\site-packages (from zipline===1.2.0->-r requirements.txt (line 16)) (2.3.0)\n",
      "Requirement already satisfied: intervaltree>=2.1.0 in c:\\users\\grzeg\\anaconda3\\envs\\udacity\\lib\\site-packages (from zipline===1.2.0->-r requirements.txt (line 16)) (3.1.0)\n",
      "Requirement already satisfied: lru-dict>=1.1.4 in c:\\users\\grzeg\\anaconda3\\envs\\udacity\\lib\\site-packages (from zipline===1.2.0->-r requirements.txt (line 16)) (1.1.6)\n",
      "Requirement already satisfied: empyrical>=0.4.2 in c:\\users\\grzeg\\anaconda3\\envs\\udacity\\lib\\site-packages (from zipline===1.2.0->-r requirements.txt (line 16)) (0.5.5)\n",
      "Requirement already satisfied: tables>=3.3.0 in c:\\users\\grzeg\\anaconda3\\envs\\udacity\\lib\\site-packages (from zipline===1.2.0->-r requirements.txt (line 16)) (3.6.1)\n",
      "Requirement already satisfied: kiwisolver>=1.0.1 in c:\\users\\grzeg\\anaconda3\\envs\\udacity\\lib\\site-packages (from matplotlib>=1.4.0->alphalens==0.3.2->-r requirements.txt (line 1)) (1.1.0)\n",
      "Requirement already satisfied: jedi>=0.10 in c:\\users\\grzeg\\anaconda3\\envs\\udacity\\lib\\site-packages (from IPython>=3.2.3->alphalens==0.3.2->-r requirements.txt (line 1)) (0.16.0)\n",
      "Requirement already satisfied: traitlets>=4.2 in c:\\users\\grzeg\\anaconda3\\envs\\udacity\\lib\\site-packages (from IPython>=3.2.3->alphalens==0.3.2->-r requirements.txt (line 1)) (4.3.3)\n",
      "Requirement already satisfied: backcall in c:\\users\\grzeg\\anaconda3\\envs\\udacity\\lib\\site-packages (from IPython>=3.2.3->alphalens==0.3.2->-r requirements.txt (line 1)) (0.1.0)\n",
      "Requirement already satisfied: pygments in c:\\users\\grzeg\\anaconda3\\envs\\udacity\\lib\\site-packages (from IPython>=3.2.3->alphalens==0.3.2->-r requirements.txt (line 1)) (2.6.1)\n",
      "Requirement already satisfied: prompt-toolkit!=3.0.0,!=3.0.1,<3.1.0,>=2.0.0 in c:\\users\\grzeg\\anaconda3\\envs\\udacity\\lib\\site-packages (from IPython>=3.2.3->alphalens==0.3.2->-r requirements.txt (line 1)) (3.0.4)\n",
      "Requirement already satisfied: pickleshare in c:\\users\\grzeg\\anaconda3\\envs\\udacity\\lib\\site-packages (from IPython>=3.2.3->alphalens==0.3.2->-r requirements.txt (line 1)) (0.7.5)\n",
      "Requirement already satisfied: colorama; sys_platform == \"win32\" in c:\\users\\grzeg\\anaconda3\\envs\\udacity\\lib\\site-packages (from IPython>=3.2.3->alphalens==0.3.2->-r requirements.txt (line 1)) (0.4.3)\n",
      "Collecting future\n",
      "  Downloading future-0.18.2.tar.gz (829 kB)\n",
      "Collecting dill>=0.3.3\n",
      "  Using cached dill-0.3.3-py2.py3-none-any.whl (81 kB)\n",
      "Requirement already satisfied: ipython-genutils in c:\\users\\grzeg\\anaconda3\\envs\\udacity\\lib\\site-packages (from nbformat>=4.2->plotly==2.2.3->-r requirements.txt (line 7)) (0.2.0)\n",
      "Requirement already satisfied: jsonschema!=2.5.0,>=2.4 in c:\\users\\grzeg\\anaconda3\\envs\\udacity\\lib\\site-packages (from nbformat>=4.2->plotly==2.2.3->-r requirements.txt (line 7)) (3.2.0)\n",
      "Requirement already satisfied: jupyter-core in c:\\users\\grzeg\\anaconda3\\envs\\udacity\\lib\\site-packages (from nbformat>=4.2->plotly==2.2.3->-r requirements.txt (line 7)) (4.6.1)\n",
      "Collecting requests-ftp\n",
      "  Using cached requests-ftp-0.3.1.tar.gz (7.8 kB)\n",
      "Requirement already satisfied: python-editor>=0.3 in c:\\users\\grzeg\\anaconda3\\envs\\udacity\\lib\\site-packages (from alembic>=0.7.7->zipline===1.2.0->-r requirements.txt (line 16)) (1.0.4)\n",
      "Requirement already satisfied: parso>=0.5.2 in c:\\users\\grzeg\\anaconda3\\envs\\udacity\\lib\\site-packages (from jedi>=0.10->IPython>=3.2.3->alphalens==0.3.2->-r requirements.txt (line 1)) (0.6.2)\n",
      "Requirement already satisfied: wcwidth in c:\\users\\grzeg\\anaconda3\\envs\\udacity\\lib\\site-packages (from prompt-toolkit!=3.0.0,!=3.0.1,<3.1.0,>=2.0.0->IPython>=3.2.3->alphalens==0.3.2->-r requirements.txt (line 1)) (0.1.9)\n",
      "Requirement already satisfied: pyrsistent>=0.14.0 in c:\\users\\grzeg\\anaconda3\\envs\\udacity\\lib\\site-packages (from jsonschema!=2.5.0,>=2.4->nbformat>=4.2->plotly==2.2.3->-r requirements.txt (line 7)) (0.16.0)\n",
      "Requirement already satisfied: attrs>=17.4.0 in c:\\users\\grzeg\\anaconda3\\envs\\udacity\\lib\\site-packages (from jsonschema!=2.5.0,>=2.4->nbformat>=4.2->plotly==2.2.3->-r requirements.txt (line 7)) (19.3.0)\n",
      "Requirement already satisfied: importlib-metadata; python_version < \"3.8\" in c:\\users\\grzeg\\anaconda3\\envs\\udacity\\lib\\site-packages (from jsonschema!=2.5.0,>=2.4->nbformat>=4.2->plotly==2.2.3->-r requirements.txt (line 7)) (1.5.0)\n",
      "Requirement already satisfied: pywin32>=1.0; sys_platform == \"win32\" in c:\\users\\grzeg\\anaconda3\\envs\\udacity\\lib\\site-packages (from jupyter-core->nbformat>=4.2->plotly==2.2.3->-r requirements.txt (line 7)) (227)\n",
      "Requirement already satisfied: zipp>=0.5 in c:\\users\\grzeg\\anaconda3\\envs\\udacity\\lib\\site-packages (from importlib-metadata; python_version < \"3.8\"->jsonschema!=2.5.0,>=2.4->nbformat>=4.2->plotly==2.2.3->-r requirements.txt (line 7)) (2.2.0)\n",
      "Building wheels for collected packages: alphalens, cvxpy, pandas, plotly, zipline, scs, fastcache, future, requests-ftp\n",
      "  Building wheel for alphalens (setup.py): started\n",
      "  Building wheel for alphalens (setup.py): finished with status 'done'\n",
      "  Created wheel for alphalens: filename=alphalens-0.3.2-py3-none-any.whl size=18881523 sha256=5aabbb41485f6cc86126a2a4509496de6247c6b8a3af984b40a8afd4ad4632d7\n",
      "  Stored in directory: c:\\users\\grzeg\\appdata\\local\\pip\\cache\\wheels\\1c\\9e\\b8\\a502db514b9cf748687129d96fb1f8156f47ef6ab450abf4d0\n",
      "  Building wheel for cvxpy (setup.py): started\n",
      "  Building wheel for cvxpy (setup.py): finished with status 'done'\n",
      "  Created wheel for cvxpy: filename=cvxpy-1.0.3-cp36-cp36m-win_amd64.whl size=635609 sha256=1f31c5024a4fde9bf280115835ace0bcbcd35b77be8a1191956e563df37e41e0\n",
      "  Stored in directory: c:\\users\\grzeg\\appdata\\local\\pip\\cache\\wheels\\f6\\f9\\8a\\e5153a07fee191fb3e7ed1ef181c3275d3ee3c094df585741d\n",
      "  Building wheel for pandas (setup.py): started\n",
      "  Building wheel for pandas (setup.py): finished with status 'done'\n",
      "  Created wheel for pandas: filename=pandas-0.18.1-cp36-cp36m-win_amd64.whl size=6405396 sha256=ff57806c8ceeee7c223deedb49327e675d5e8286e7f40dc5e48ed96bfdaf8ad5\n",
      "  Stored in directory: c:\\users\\grzeg\\appdata\\local\\pip\\cache\\wheels\\32\\15\\fe\\873be370134a62a116784ac2e08df00bad7ef4bec708e1f73c\n",
      "  Building wheel for plotly (setup.py): started\n",
      "  Building wheel for plotly (setup.py): finished with status 'done'\n",
      "  Created wheel for plotly: filename=plotly-2.2.3-py3-none-any.whl size=1122407 sha256=7ab86ab9c32819449485ccb87d7cfb60de22e000ec2cb70066ca24a65f5d0548\n",
      "  Stored in directory: c:\\users\\grzeg\\appdata\\local\\pip\\cache\\wheels\\3b\\63\\08\\bfacfd43d79c1851c5d03a6e8c27582203c5746fe00579b5db\n",
      "  Building wheel for zipline (setup.py): started\n",
      "  Building wheel for zipline (setup.py): finished with status 'done'\n",
      "  Created wheel for zipline: filename=zipline-1.2.0-cp36-cp36m-win_amd64.whl size=1711076 sha256=d1c9a876fce65ea43526f6b42284f58f39911939afeea1a9f04379fadbd98098\n",
      "  Stored in directory: c:\\users\\grzeg\\appdata\\local\\pip\\cache\\wheels\\05\\13\\88\\164e4ac4e2662016300b12a0ab0920780bbb725120ccdb858a\n"
     ]
    },
    {
     "name": "stderr",
     "output_type": "stream",
     "text": [
      "  WARNING: Subprocess output does not appear to be encoded as cp1252\n",
      "ERROR: statsmodels 0.12.1 has requirement numpy>=1.15, but you'll have numpy 1.14.5 which is incompatible.\n",
      "ERROR: statsmodels 0.12.1 has requirement pandas>=0.21, but you'll have pandas 0.18.1 which is incompatible.\n",
      "ERROR: statsmodels 0.12.1 has requirement scipy>=1.1, but you'll have scipy 1.0.0 which is incompatible.\n",
      "ERROR: seaborn 0.10.0 has requirement pandas>=0.22.0, but you'll have pandas 0.18.1 which is incompatible.\n",
      "ERROR: seaborn 0.10.0 has requirement scipy>=1.0.1, but you'll have scipy 1.0.0 which is incompatible.\n",
      "ERROR: astroid 2.3.3 has requirement six~=1.12, but you'll have six 1.11.0 which is incompatible.\n",
      "ERROR: astroid 2.3.3 has requirement wrapt==1.11.*, but you'll have wrapt 1.12.1 which is incompatible.\n"
     ]
    },
    {
     "name": "stdout",
     "output_type": "stream",
     "text": [
      "  Building wheel for scs (setup.py): started\n",
      "  Building wheel for scs (setup.py): finished with status 'done'\n",
      "  Created wheel for scs: filename=scs-2.1.2-cp36-cp36m-win_amd64.whl size=119549 sha256=3f56160e2971b04dd95d303db07f179278ec7ced20c5c593b903f94542036a0e\n",
      "  Stored in directory: c:\\users\\grzeg\\appdata\\local\\pip\\cache\\wheels\\50\\02\\c2\\0708708e215645196adc1ea78c7dc776b173a37a86deb6a7e7\n",
      "  Building wheel for fastcache (setup.py): started\n",
      "  Building wheel for fastcache (setup.py): finished with status 'done'\n",
      "  Created wheel for fastcache: filename=fastcache-1.1.0-cp36-cp36m-win_amd64.whl size=20629 sha256=4d0bcd9ba795f6e9be77c2ce07d17d45156644e210b99295e56279054a3c6667\n",
      "  Stored in directory: c:\\users\\grzeg\\appdata\\local\\pip\\cache\\wheels\\e5\\04\\07\\8deac05af87ab0c90c44179cdcee614092573ec1a82256d656\n",
      "  Building wheel for future (setup.py): started\n",
      "  Building wheel for future (setup.py): finished with status 'done'\n",
      "  Created wheel for future: filename=future-0.18.2-py3-none-any.whl size=491062 sha256=8cbb1e1b2a4ca3c379f87e9ea5567b4b10f81f25986df8026427652f14e5a6c4\n",
      "  Stored in directory: c:\\users\\grzeg\\appdata\\local\\pip\\cache\\wheels\\6e\\9c\\ed\\4499c9865ac1002697793e0ae05ba6be33553d098f3347fb94\n",
      "  Building wheel for requests-ftp (setup.py): started\n",
      "  Building wheel for requests-ftp (setup.py): finished with status 'done'\n",
      "  Created wheel for requests-ftp: filename=requests_ftp-0.3.1-py3-none-any.whl size=8177 sha256=e66ce53b9abc254c88561fcc0109bd997ecccbf06a9c027daaffccbea99b8f90\n",
      "  Stored in directory: c:\\users\\grzeg\\appdata\\local\\pip\\cache\\wheels\\ea\\e4\\5d\\72f7aad2c589cd6b0fa0c38feda872115bff8512a46d6c7b74\n",
      "Successfully built alphalens cvxpy pandas plotly zipline scs fastcache future requests-ftp\n",
      "Installing collected packages: numpy, six, python-dateutil, pytz, pandas, scipy, alphalens, colour, future, osqp, ecos, scs, dill, multiprocess, fastcache, cvxpy, urllib3, idna, requests, plotly, pyparsing, scikit-learn, tqdm, requests-ftp, pandas-datareader, zipline, graphviz\n",
      "  Attempting uninstall: numpy\n",
      "    Found existing installation: numpy 1.18.1\n",
      "    Uninstalling numpy-1.18.1:\n",
      "      Successfully uninstalled numpy-1.18.1\n",
      "  Attempting uninstall: six\n",
      "    Found existing installation: six 1.14.0\n",
      "    Uninstalling six-1.14.0:\n",
      "      Successfully uninstalled six-1.14.0\n",
      "  Attempting uninstall: python-dateutil\n",
      "    Found existing installation: python-dateutil 2.8.1\n",
      "    Uninstalling python-dateutil-2.8.1:\n",
      "      Successfully uninstalled python-dateutil-2.8.1\n",
      "  Attempting uninstall: pytz\n",
      "    Found existing installation: pytz 2019.3\n",
      "    Uninstalling pytz-2019.3:\n",
      "      Successfully uninstalled pytz-2019.3\n",
      "  Attempting uninstall: pandas\n",
      "    Found existing installation: pandas 0.22.0\n",
      "    Uninstalling pandas-0.22.0:\n",
      "      Successfully uninstalled pandas-0.22.0\n",
      "  Attempting uninstall: scipy\n",
      "    Found existing installation: scipy 1.4.1\n",
      "    Uninstalling scipy-1.4.1:\n",
      "      Successfully uninstalled scipy-1.4.1\n",
      "  Attempting uninstall: urllib3\n",
      "    Found existing installation: urllib3 1.26.2\n",
      "    Uninstalling urllib3-1.26.2:\n",
      "      Successfully uninstalled urllib3-1.26.2\n",
      "  Attempting uninstall: idna\n",
      "    Found existing installation: idna 2.10\n",
      "    Uninstalling idna-2.10:\n",
      "      Successfully uninstalled idna-2.10\n",
      "  Attempting uninstall: requests\n",
      "    Found existing installation: requests 2.25.0\n",
      "    Uninstalling requests-2.25.0:\n",
      "      Successfully uninstalled requests-2.25.0\n",
      "  Attempting uninstall: pyparsing\n",
      "    Found existing installation: pyparsing 2.4.6\n",
      "    Uninstalling pyparsing-2.4.6:\n",
      "      Successfully uninstalled pyparsing-2.4.6\n",
      "  Attempting uninstall: pandas-datareader\n",
      "    Found existing installation: pandas-datareader 0.9.0\n",
      "    Uninstalling pandas-datareader-0.9.0:\n",
      "      Successfully uninstalled pandas-datareader-0.9.0\n",
      "  Attempting uninstall: zipline\n",
      "    Found existing installation: zipline 1.3.0\n",
      "    Uninstalling zipline-1.3.0:\n",
      "      Successfully uninstalled zipline-1.3.0\n",
      "  Attempting uninstall: graphviz\n",
      "    Found existing installation: graphviz 0.15\n",
      "    Uninstalling graphviz-0.15:\n",
      "      Successfully uninstalled graphviz-0.15\n",
      "Successfully installed alphalens-0.3.2 colour-0.1.5 cvxpy-1.0.3 dill-0.3.3 ecos-2.0.7.post1 fastcache-1.1.0 future-0.18.2 graphviz-0.9 idna-2.6 multiprocess-0.70.11.1 numpy-1.14.5 osqp-0.6.1 pandas-0.18.1 pandas-datareader-0.5.0 plotly-2.2.3 pyparsing-2.2.0 python-dateutil-2.6.1 pytz-2017.3 requests-2.18.4 requests-ftp-0.3.1 scikit-learn-0.19.1 scipy-1.0.0 scs-2.1.2 six-1.11.0 tqdm-4.19.5 urllib3-1.22 zipline-1.2.0\n"
     ]
    }
   ],
   "source": [
    "!{sys.executable} -m pip install -r requirements.txt"
   ]
  },
  {
   "cell_type": "code",
   "execution_count": 4,
   "metadata": {},
   "outputs": [
    {
     "ename": "ModuleNotFoundError",
     "evalue": "No module named 'numpy.core._multiarray_umath'",
     "output_type": "error",
     "traceback": [
      "\u001b[1;31m---------------------------------------------------------------------------\u001b[0m",
      "\u001b[1;31mImportError\u001b[0m                               Traceback (most recent call last)",
      "\u001b[1;32m~\\Anaconda3\\envs\\udacity\\lib\\site-packages\\cvxpy\\cvxcore\\python\\cvxcore.py\u001b[0m in \u001b[0;36mswig_import_helper\u001b[1;34m()\u001b[0m\n\u001b[0;32m     17\u001b[0m         \u001b[1;32mtry\u001b[0m\u001b[1;33m:\u001b[0m\u001b[1;33m\u001b[0m\u001b[1;33m\u001b[0m\u001b[0m\n\u001b[1;32m---> 18\u001b[1;33m             \u001b[0mfp\u001b[0m\u001b[1;33m,\u001b[0m \u001b[0mpathname\u001b[0m\u001b[1;33m,\u001b[0m \u001b[0mdescription\u001b[0m \u001b[1;33m=\u001b[0m \u001b[0mimp\u001b[0m\u001b[1;33m.\u001b[0m\u001b[0mfind_module\u001b[0m\u001b[1;33m(\u001b[0m\u001b[1;34m'_cvxcore'\u001b[0m\u001b[1;33m,\u001b[0m \u001b[1;33m[\u001b[0m\u001b[0mdirname\u001b[0m\u001b[1;33m(\u001b[0m\u001b[0m__file__\u001b[0m\u001b[1;33m)\u001b[0m\u001b[1;33m]\u001b[0m\u001b[1;33m)\u001b[0m\u001b[1;33m\u001b[0m\u001b[1;33m\u001b[0m\u001b[0m\n\u001b[0m\u001b[0;32m     19\u001b[0m         \u001b[1;32mexcept\u001b[0m \u001b[0mImportError\u001b[0m\u001b[1;33m:\u001b[0m\u001b[1;33m\u001b[0m\u001b[1;33m\u001b[0m\u001b[0m\n",
      "\u001b[1;32m~\\Anaconda3\\envs\\udacity\\lib\\imp.py\u001b[0m in \u001b[0;36mfind_module\u001b[1;34m(name, path)\u001b[0m\n\u001b[0;32m    296\u001b[0m     \u001b[1;32melse\u001b[0m\u001b[1;33m:\u001b[0m\u001b[1;33m\u001b[0m\u001b[1;33m\u001b[0m\u001b[0m\n\u001b[1;32m--> 297\u001b[1;33m         \u001b[1;32mraise\u001b[0m \u001b[0mImportError\u001b[0m\u001b[1;33m(\u001b[0m\u001b[0m_ERR_MSG\u001b[0m\u001b[1;33m.\u001b[0m\u001b[0mformat\u001b[0m\u001b[1;33m(\u001b[0m\u001b[0mname\u001b[0m\u001b[1;33m)\u001b[0m\u001b[1;33m,\u001b[0m \u001b[0mname\u001b[0m\u001b[1;33m=\u001b[0m\u001b[0mname\u001b[0m\u001b[1;33m)\u001b[0m\u001b[1;33m\u001b[0m\u001b[1;33m\u001b[0m\u001b[0m\n\u001b[0m\u001b[0;32m    298\u001b[0m \u001b[1;33m\u001b[0m\u001b[0m\n",
      "\u001b[1;31mImportError\u001b[0m: No module named '_cvxcore'",
      "\nDuring handling of the above exception, another exception occurred:\n",
      "\u001b[1;31mModuleNotFoundError\u001b[0m                       Traceback (most recent call last)",
      "\u001b[1;31mModuleNotFoundError\u001b[0m: No module named 'numpy.core._multiarray_umath'"
     ]
    },
    {
     "ename": "ImportError",
     "evalue": "numpy.core.multiarray failed to import",
     "output_type": "error",
     "traceback": [
      "\u001b[1;31m---------------------------------------------------------------------------\u001b[0m",
      "\u001b[1;31mImportError\u001b[0m                               Traceback (most recent call last)",
      "\u001b[1;32m~\\Anaconda3\\envs\\udacity\\lib\\site-packages\\cvxpy\\cvxcore\\python\\cvxcore.py\u001b[0m in \u001b[0;36mswig_import_helper\u001b[1;34m()\u001b[0m\n\u001b[0;32m     17\u001b[0m         \u001b[1;32mtry\u001b[0m\u001b[1;33m:\u001b[0m\u001b[1;33m\u001b[0m\u001b[1;33m\u001b[0m\u001b[0m\n\u001b[1;32m---> 18\u001b[1;33m             \u001b[0mfp\u001b[0m\u001b[1;33m,\u001b[0m \u001b[0mpathname\u001b[0m\u001b[1;33m,\u001b[0m \u001b[0mdescription\u001b[0m \u001b[1;33m=\u001b[0m \u001b[0mimp\u001b[0m\u001b[1;33m.\u001b[0m\u001b[0mfind_module\u001b[0m\u001b[1;33m(\u001b[0m\u001b[1;34m'_cvxcore'\u001b[0m\u001b[1;33m,\u001b[0m \u001b[1;33m[\u001b[0m\u001b[0mdirname\u001b[0m\u001b[1;33m(\u001b[0m\u001b[0m__file__\u001b[0m\u001b[1;33m)\u001b[0m\u001b[1;33m]\u001b[0m\u001b[1;33m)\u001b[0m\u001b[1;33m\u001b[0m\u001b[1;33m\u001b[0m\u001b[0m\n\u001b[0m\u001b[0;32m     19\u001b[0m         \u001b[1;32mexcept\u001b[0m \u001b[0mImportError\u001b[0m\u001b[1;33m:\u001b[0m\u001b[1;33m\u001b[0m\u001b[1;33m\u001b[0m\u001b[0m\n",
      "\u001b[1;32m~\\Anaconda3\\envs\\udacity\\lib\\imp.py\u001b[0m in \u001b[0;36mfind_module\u001b[1;34m(name, path)\u001b[0m\n\u001b[0;32m    296\u001b[0m     \u001b[1;32melse\u001b[0m\u001b[1;33m:\u001b[0m\u001b[1;33m\u001b[0m\u001b[1;33m\u001b[0m\u001b[0m\n\u001b[1;32m--> 297\u001b[1;33m         \u001b[1;32mraise\u001b[0m \u001b[0mImportError\u001b[0m\u001b[1;33m(\u001b[0m\u001b[0m_ERR_MSG\u001b[0m\u001b[1;33m.\u001b[0m\u001b[0mformat\u001b[0m\u001b[1;33m(\u001b[0m\u001b[0mname\u001b[0m\u001b[1;33m)\u001b[0m\u001b[1;33m,\u001b[0m \u001b[0mname\u001b[0m\u001b[1;33m=\u001b[0m\u001b[0mname\u001b[0m\u001b[1;33m)\u001b[0m\u001b[1;33m\u001b[0m\u001b[1;33m\u001b[0m\u001b[0m\n\u001b[0m\u001b[0;32m    298\u001b[0m \u001b[1;33m\u001b[0m\u001b[0m\n",
      "\u001b[1;31mImportError\u001b[0m: No module named '_cvxcore'",
      "\nDuring handling of the above exception, another exception occurred:\n",
      "\u001b[1;31mImportError\u001b[0m                               Traceback (most recent call last)",
      "\u001b[1;32m<ipython-input-4-ee3148f7f345>\u001b[0m in \u001b[0;36m<module>\u001b[1;34m\u001b[0m\n\u001b[1;32m----> 1\u001b[1;33m \u001b[1;32mimport\u001b[0m \u001b[0mcvxpy\u001b[0m \u001b[1;32mas\u001b[0m \u001b[0mcvx\u001b[0m\u001b[1;33m\u001b[0m\u001b[1;33m\u001b[0m\u001b[0m\n\u001b[0m\u001b[0;32m      2\u001b[0m \u001b[1;32mimport\u001b[0m \u001b[0mnumpy\u001b[0m \u001b[1;32mas\u001b[0m \u001b[0mnp\u001b[0m\u001b[1;33m\u001b[0m\u001b[1;33m\u001b[0m\u001b[0m\n\u001b[0;32m      3\u001b[0m \u001b[1;32mimport\u001b[0m \u001b[0mpandas\u001b[0m \u001b[1;32mas\u001b[0m \u001b[0mpd\u001b[0m\u001b[1;33m\u001b[0m\u001b[1;33m\u001b[0m\u001b[0m\n\u001b[0;32m      4\u001b[0m \u001b[1;32mimport\u001b[0m \u001b[0mtime\u001b[0m\u001b[1;33m\u001b[0m\u001b[1;33m\u001b[0m\u001b[0m\n\u001b[0;32m      5\u001b[0m \u001b[1;32mimport\u001b[0m \u001b[0mos\u001b[0m\u001b[1;33m\u001b[0m\u001b[1;33m\u001b[0m\u001b[0m\n",
      "\u001b[1;32m~\\Anaconda3\\envs\\udacity\\lib\\site-packages\\cvxpy\\__init__.py\u001b[0m in \u001b[0;36m<module>\u001b[1;34m\u001b[0m\n\u001b[0;32m     19\u001b[0m \u001b[1;33m\u001b[0m\u001b[0m\n\u001b[0;32m     20\u001b[0m \u001b[0m__version__\u001b[0m \u001b[1;33m=\u001b[0m \u001b[1;34m\"1.0.3\"\u001b[0m\u001b[1;33m\u001b[0m\u001b[1;33m\u001b[0m\u001b[0m\n\u001b[1;32m---> 21\u001b[1;33m \u001b[1;32mfrom\u001b[0m \u001b[0mcvxpy\u001b[0m\u001b[1;33m.\u001b[0m\u001b[0matoms\u001b[0m \u001b[1;32mimport\u001b[0m \u001b[1;33m*\u001b[0m\u001b[1;33m\u001b[0m\u001b[1;33m\u001b[0m\u001b[0m\n\u001b[0m\u001b[0;32m     22\u001b[0m \u001b[1;32mfrom\u001b[0m \u001b[0mcvxpy\u001b[0m\u001b[1;33m.\u001b[0m\u001b[0mconstraints\u001b[0m \u001b[1;32mimport\u001b[0m \u001b[0mNonPos\u001b[0m\u001b[1;33m,\u001b[0m \u001b[0mZero\u001b[0m\u001b[1;33m,\u001b[0m \u001b[0mSOC\u001b[0m\u001b[1;33m,\u001b[0m \u001b[0mPSD\u001b[0m\u001b[1;33m\u001b[0m\u001b[1;33m\u001b[0m\u001b[0m\n\u001b[0;32m     23\u001b[0m \u001b[1;32mfrom\u001b[0m \u001b[0mcvxpy\u001b[0m\u001b[1;33m.\u001b[0m\u001b[0mexpressions\u001b[0m\u001b[1;33m.\u001b[0m\u001b[0mvariable\u001b[0m \u001b[1;32mimport\u001b[0m \u001b[0mVariable\u001b[0m\u001b[1;33m\u001b[0m\u001b[1;33m\u001b[0m\u001b[0m\n",
      "\u001b[1;32m~\\Anaconda3\\envs\\udacity\\lib\\site-packages\\cvxpy\\atoms\\__init__.py\u001b[0m in \u001b[0;36m<module>\u001b[1;34m\u001b[0m\n\u001b[0;32m     18\u001b[0m \"\"\"\n\u001b[0;32m     19\u001b[0m \u001b[1;33m\u001b[0m\u001b[0m\n\u001b[1;32m---> 20\u001b[1;33m \u001b[1;32mfrom\u001b[0m \u001b[0mcvxpy\u001b[0m\u001b[1;33m.\u001b[0m\u001b[0matoms\u001b[0m\u001b[1;33m.\u001b[0m\u001b[0mgeo_mean\u001b[0m \u001b[1;32mimport\u001b[0m \u001b[0mgeo_mean\u001b[0m\u001b[1;33m\u001b[0m\u001b[1;33m\u001b[0m\u001b[0m\n\u001b[0m\u001b[0;32m     21\u001b[0m \u001b[1;32mfrom\u001b[0m \u001b[0mcvxpy\u001b[0m\u001b[1;33m.\u001b[0m\u001b[0matoms\u001b[0m\u001b[1;33m.\u001b[0m\u001b[0mharmonic_mean\u001b[0m \u001b[1;32mimport\u001b[0m \u001b[0mharmonic_mean\u001b[0m\u001b[1;33m\u001b[0m\u001b[1;33m\u001b[0m\u001b[0m\n\u001b[0;32m     22\u001b[0m \u001b[1;32mfrom\u001b[0m \u001b[0mcvxpy\u001b[0m\u001b[1;33m.\u001b[0m\u001b[0matoms\u001b[0m\u001b[1;33m.\u001b[0m\u001b[0mlambda_max\u001b[0m \u001b[1;32mimport\u001b[0m \u001b[0mlambda_max\u001b[0m\u001b[1;33m\u001b[0m\u001b[1;33m\u001b[0m\u001b[0m\n",
      "\u001b[1;32m~\\Anaconda3\\envs\\udacity\\lib\\site-packages\\cvxpy\\atoms\\geo_mean.py\u001b[0m in \u001b[0;36m<module>\u001b[1;34m\u001b[0m\n\u001b[0;32m     21\u001b[0m \u001b[1;32mimport\u001b[0m \u001b[0mnumpy\u001b[0m \u001b[1;32mas\u001b[0m \u001b[0mnp\u001b[0m\u001b[1;33m\u001b[0m\u001b[1;33m\u001b[0m\u001b[0m\n\u001b[0;32m     22\u001b[0m \u001b[1;32mimport\u001b[0m \u001b[0mscipy\u001b[0m\u001b[1;33m.\u001b[0m\u001b[0msparse\u001b[0m \u001b[1;32mas\u001b[0m \u001b[0msp\u001b[0m\u001b[1;33m\u001b[0m\u001b[1;33m\u001b[0m\u001b[0m\n\u001b[1;32m---> 23\u001b[1;33m from cvxpy.utilities.power_tools import (fracify, decompose, approx_error, lower_bound,\n\u001b[0m\u001b[0;32m     24\u001b[0m                                          over_bound, prettydict)\n\u001b[0;32m     25\u001b[0m \u001b[1;33m\u001b[0m\u001b[0m\n",
      "\u001b[1;32m~\\Anaconda3\\envs\\udacity\\lib\\site-packages\\cvxpy\\utilities\\power_tools.py\u001b[0m in \u001b[0;36m<module>\u001b[1;34m\u001b[0m\n\u001b[0;32m     19\u001b[0m \u001b[1;33m\u001b[0m\u001b[0m\n\u001b[0;32m     20\u001b[0m \u001b[1;32mfrom\u001b[0m \u001b[0mfractions\u001b[0m \u001b[1;32mimport\u001b[0m \u001b[0mFraction\u001b[0m\u001b[1;33m\u001b[0m\u001b[1;33m\u001b[0m\u001b[0m\n\u001b[1;32m---> 21\u001b[1;33m \u001b[1;32mfrom\u001b[0m \u001b[0mcvxpy\u001b[0m\u001b[1;33m.\u001b[0m\u001b[0matoms\u001b[0m\u001b[1;33m.\u001b[0m\u001b[0maffine\u001b[0m\u001b[1;33m.\u001b[0m\u001b[0mreshape\u001b[0m \u001b[1;32mimport\u001b[0m \u001b[0mreshape\u001b[0m\u001b[1;33m\u001b[0m\u001b[1;33m\u001b[0m\u001b[0m\n\u001b[0m\u001b[0;32m     22\u001b[0m \u001b[1;32mfrom\u001b[0m \u001b[0mcvxpy\u001b[0m\u001b[1;33m.\u001b[0m\u001b[0matoms\u001b[0m\u001b[1;33m.\u001b[0m\u001b[0maffine\u001b[0m\u001b[1;33m.\u001b[0m\u001b[0mvstack\u001b[0m \u001b[1;32mimport\u001b[0m \u001b[0mvstack\u001b[0m\u001b[1;33m\u001b[0m\u001b[1;33m\u001b[0m\u001b[0m\n\u001b[0;32m     23\u001b[0m \u001b[1;32mfrom\u001b[0m \u001b[0mcvxpy\u001b[0m\u001b[1;33m.\u001b[0m\u001b[0mconstraints\u001b[0m\u001b[1;33m.\u001b[0m\u001b[0msecond_order\u001b[0m \u001b[1;32mimport\u001b[0m \u001b[0mSOC\u001b[0m\u001b[1;33m\u001b[0m\u001b[1;33m\u001b[0m\u001b[0m\n",
      "\u001b[1;32m~\\Anaconda3\\envs\\udacity\\lib\\site-packages\\cvxpy\\atoms\\affine\\reshape.py\u001b[0m in \u001b[0;36m<module>\u001b[1;34m\u001b[0m\n\u001b[0;32m     18\u001b[0m \"\"\"\n\u001b[0;32m     19\u001b[0m \u001b[1;33m\u001b[0m\u001b[0m\n\u001b[1;32m---> 20\u001b[1;33m \u001b[1;32mfrom\u001b[0m \u001b[0mcvxpy\u001b[0m\u001b[1;33m.\u001b[0m\u001b[0matoms\u001b[0m\u001b[1;33m.\u001b[0m\u001b[0maffine\u001b[0m\u001b[1;33m.\u001b[0m\u001b[0maffine_atom\u001b[0m \u001b[1;32mimport\u001b[0m \u001b[0mAffAtom\u001b[0m\u001b[1;33m\u001b[0m\u001b[1;33m\u001b[0m\u001b[0m\n\u001b[0m\u001b[0;32m     21\u001b[0m \u001b[1;32mimport\u001b[0m \u001b[0mcvxpy\u001b[0m\u001b[1;33m.\u001b[0m\u001b[0mlin_ops\u001b[0m\u001b[1;33m.\u001b[0m\u001b[0mlin_utils\u001b[0m \u001b[1;32mas\u001b[0m \u001b[0mlu\u001b[0m\u001b[1;33m\u001b[0m\u001b[1;33m\u001b[0m\u001b[0m\n\u001b[0;32m     22\u001b[0m \u001b[1;32mimport\u001b[0m \u001b[0mnumpy\u001b[0m \u001b[1;32mas\u001b[0m \u001b[0mnp\u001b[0m\u001b[1;33m\u001b[0m\u001b[1;33m\u001b[0m\u001b[0m\n",
      "\u001b[1;32m~\\Anaconda3\\envs\\udacity\\lib\\site-packages\\cvxpy\\atoms\\affine\\affine_atom.py\u001b[0m in \u001b[0;36m<module>\u001b[1;34m\u001b[0m\n\u001b[0;32m     23\u001b[0m \u001b[1;32mfrom\u001b[0m \u001b[0mcvxpy\u001b[0m\u001b[1;33m.\u001b[0m\u001b[0matoms\u001b[0m\u001b[1;33m.\u001b[0m\u001b[0matom\u001b[0m \u001b[1;32mimport\u001b[0m \u001b[0mAtom\u001b[0m\u001b[1;33m\u001b[0m\u001b[1;33m\u001b[0m\u001b[0m\n\u001b[0;32m     24\u001b[0m \u001b[1;32mfrom\u001b[0m \u001b[0mcvxpy\u001b[0m\u001b[1;33m.\u001b[0m\u001b[0mexpressions\u001b[0m\u001b[1;33m.\u001b[0m\u001b[0mconstants\u001b[0m \u001b[1;32mimport\u001b[0m \u001b[0mConstant\u001b[0m\u001b[1;33m\u001b[0m\u001b[1;33m\u001b[0m\u001b[0m\n\u001b[1;32m---> 25\u001b[1;33m \u001b[1;32mfrom\u001b[0m \u001b[0mcvxpy\u001b[0m\u001b[1;33m.\u001b[0m\u001b[0mcvxcore\u001b[0m\u001b[1;33m.\u001b[0m\u001b[0mpython\u001b[0m \u001b[1;32mimport\u001b[0m \u001b[0mcanonInterface\u001b[0m\u001b[1;33m\u001b[0m\u001b[1;33m\u001b[0m\u001b[0m\n\u001b[0m\u001b[0;32m     26\u001b[0m \u001b[1;32mfrom\u001b[0m \u001b[0mfastcache\u001b[0m \u001b[1;32mimport\u001b[0m \u001b[0mclru_cache\u001b[0m\u001b[1;33m\u001b[0m\u001b[1;33m\u001b[0m\u001b[0m\n\u001b[0;32m     27\u001b[0m \u001b[1;32mimport\u001b[0m \u001b[0mscipy\u001b[0m\u001b[1;33m.\u001b[0m\u001b[0msparse\u001b[0m \u001b[1;32mas\u001b[0m \u001b[0msp\u001b[0m\u001b[1;33m\u001b[0m\u001b[1;33m\u001b[0m\u001b[0m\n",
      "\u001b[1;32m~\\Anaconda3\\envs\\udacity\\lib\\site-packages\\cvxpy\\cvxcore\\python\\canonInterface.py\u001b[0m in \u001b[0;36m<module>\u001b[1;34m\u001b[0m\n\u001b[0;32m     30\u001b[0m \u001b[1;33m\u001b[0m\u001b[0m\n\u001b[0;32m     31\u001b[0m \u001b[1;32mfrom\u001b[0m \u001b[0mcvxpy\u001b[0m\u001b[1;33m.\u001b[0m\u001b[0mlin_ops\u001b[0m \u001b[1;32mimport\u001b[0m \u001b[0mlin_op\u001b[0m \u001b[1;32mas\u001b[0m \u001b[0mlo\u001b[0m\u001b[1;33m\u001b[0m\u001b[1;33m\u001b[0m\u001b[0m\n\u001b[1;32m---> 32\u001b[1;33m \u001b[1;32mimport\u001b[0m \u001b[0mcvxpy\u001b[0m\u001b[1;33m.\u001b[0m\u001b[0mcvxcore\u001b[0m\u001b[1;33m.\u001b[0m\u001b[0mpython\u001b[0m\u001b[1;33m.\u001b[0m\u001b[0mcvxcore\u001b[0m \u001b[1;32mas\u001b[0m \u001b[0mcvxcore\u001b[0m\u001b[1;33m\u001b[0m\u001b[1;33m\u001b[0m\u001b[0m\n\u001b[0m\u001b[0;32m     33\u001b[0m \u001b[1;32mimport\u001b[0m \u001b[0mnumbers\u001b[0m\u001b[1;33m\u001b[0m\u001b[1;33m\u001b[0m\u001b[0m\n\u001b[0;32m     34\u001b[0m \u001b[1;32mimport\u001b[0m \u001b[0mnumpy\u001b[0m \u001b[1;32mas\u001b[0m \u001b[0mnp\u001b[0m\u001b[1;33m\u001b[0m\u001b[1;33m\u001b[0m\u001b[0m\n",
      "\u001b[1;32m~\\Anaconda3\\envs\\udacity\\lib\\site-packages\\cvxpy\\cvxcore\\python\\cvxcore.py\u001b[0m in \u001b[0;36m<module>\u001b[1;34m\u001b[0m\n\u001b[0;32m     26\u001b[0m                 \u001b[0mfp\u001b[0m\u001b[1;33m.\u001b[0m\u001b[0mclose\u001b[0m\u001b[1;33m(\u001b[0m\u001b[1;33m)\u001b[0m\u001b[1;33m\u001b[0m\u001b[1;33m\u001b[0m\u001b[0m\n\u001b[0;32m     27\u001b[0m             \u001b[1;32mreturn\u001b[0m \u001b[0m_mod\u001b[0m\u001b[1;33m\u001b[0m\u001b[1;33m\u001b[0m\u001b[0m\n\u001b[1;32m---> 28\u001b[1;33m     \u001b[0m_cvxcore\u001b[0m \u001b[1;33m=\u001b[0m \u001b[0mswig_import_helper\u001b[0m\u001b[1;33m(\u001b[0m\u001b[1;33m)\u001b[0m\u001b[1;33m\u001b[0m\u001b[1;33m\u001b[0m\u001b[0m\n\u001b[0m\u001b[0;32m     29\u001b[0m     \u001b[1;32mdel\u001b[0m \u001b[0mswig_import_helper\u001b[0m\u001b[1;33m\u001b[0m\u001b[1;33m\u001b[0m\u001b[0m\n\u001b[0;32m     30\u001b[0m \u001b[1;32melse\u001b[0m\u001b[1;33m:\u001b[0m\u001b[1;33m\u001b[0m\u001b[1;33m\u001b[0m\u001b[0m\n",
      "\u001b[1;32m~\\Anaconda3\\envs\\udacity\\lib\\site-packages\\cvxpy\\cvxcore\\python\\cvxcore.py\u001b[0m in \u001b[0;36mswig_import_helper\u001b[1;34m()\u001b[0m\n\u001b[0;32m     18\u001b[0m             \u001b[0mfp\u001b[0m\u001b[1;33m,\u001b[0m \u001b[0mpathname\u001b[0m\u001b[1;33m,\u001b[0m \u001b[0mdescription\u001b[0m \u001b[1;33m=\u001b[0m \u001b[0mimp\u001b[0m\u001b[1;33m.\u001b[0m\u001b[0mfind_module\u001b[0m\u001b[1;33m(\u001b[0m\u001b[1;34m'_cvxcore'\u001b[0m\u001b[1;33m,\u001b[0m \u001b[1;33m[\u001b[0m\u001b[0mdirname\u001b[0m\u001b[1;33m(\u001b[0m\u001b[0m__file__\u001b[0m\u001b[1;33m)\u001b[0m\u001b[1;33m]\u001b[0m\u001b[1;33m)\u001b[0m\u001b[1;33m\u001b[0m\u001b[1;33m\u001b[0m\u001b[0m\n\u001b[0;32m     19\u001b[0m         \u001b[1;32mexcept\u001b[0m \u001b[0mImportError\u001b[0m\u001b[1;33m:\u001b[0m\u001b[1;33m\u001b[0m\u001b[1;33m\u001b[0m\u001b[0m\n\u001b[1;32m---> 20\u001b[1;33m             \u001b[1;32mimport\u001b[0m \u001b[0m_cvxcore\u001b[0m\u001b[1;33m\u001b[0m\u001b[1;33m\u001b[0m\u001b[0m\n\u001b[0m\u001b[0;32m     21\u001b[0m             \u001b[1;32mreturn\u001b[0m \u001b[0m_cvxcore\u001b[0m\u001b[1;33m\u001b[0m\u001b[1;33m\u001b[0m\u001b[0m\n\u001b[0;32m     22\u001b[0m         \u001b[1;32mif\u001b[0m \u001b[0mfp\u001b[0m \u001b[1;32mis\u001b[0m \u001b[1;32mnot\u001b[0m \u001b[1;32mNone\u001b[0m\u001b[1;33m:\u001b[0m\u001b[1;33m\u001b[0m\u001b[1;33m\u001b[0m\u001b[0m\n",
      "\u001b[1;31mImportError\u001b[0m: numpy.core.multiarray failed to import"
     ]
    }
   ],
   "source": [
    "import cvxpy as cvx\n",
    "import numpy as np\n",
    "import pandas as pd\n",
    "import time\n",
    "import os\n",
    "import quiz_helper\n",
    "import matplotlib.pyplot as plt"
   ]
  },
  {
   "cell_type": "code",
   "execution_count": null,
   "metadata": {},
   "outputs": [],
   "source": [
    "%matplotlib inline\n",
    "plt.style.use('ggplot')\n",
    "plt.rcParams['figure.figsize'] = (14, 8)"
   ]
  },
  {
   "cell_type": "markdown",
   "metadata": {},
   "source": [
    "### data bundle"
   ]
  },
  {
   "cell_type": "code",
   "execution_count": null,
   "metadata": {},
   "outputs": [],
   "source": [
    "import os\n",
    "import quiz_helper\n",
    "from zipline.data import bundles"
   ]
  },
  {
   "cell_type": "code",
   "execution_count": null,
   "metadata": {},
   "outputs": [],
   "source": [
    "os.environ['ZIPLINE_ROOT'] = os.path.join(os.getcwd(), '..', '..','data','module_4_quizzes_eod')\n",
    "ingest_func = bundles.csvdir.csvdir_equities(['daily'], quiz_helper.EOD_BUNDLE_NAME)\n",
    "bundles.register(quiz_helper.EOD_BUNDLE_NAME, ingest_func)\n",
    "print('Data Registered')"
   ]
  },
  {
   "cell_type": "markdown",
   "metadata": {},
   "source": [
    "### Build pipeline engine"
   ]
  },
  {
   "cell_type": "code",
   "execution_count": null,
   "metadata": {},
   "outputs": [],
   "source": [
    "from zipline.pipeline import Pipeline\n",
    "from zipline.pipeline.factors import AverageDollarVolume\n",
    "from zipline.utils.calendars import get_calendar\n",
    "\n",
    "universe = AverageDollarVolume(window_length=120).top(500) \n",
    "trading_calendar = get_calendar('NYSE') \n",
    "bundle_data = bundles.load(quiz_helper.EOD_BUNDLE_NAME)\n",
    "engine = quiz_helper.build_pipeline_engine(bundle_data, trading_calendar)"
   ]
  },
  {
   "cell_type": "markdown",
   "metadata": {},
   "source": [
    "### View Data¶\n",
    "With the pipeline engine built, let's get the stocks at the end of the period in the universe we're using. We'll use these tickers to generate the returns data for the our risk model."
   ]
  },
  {
   "cell_type": "code",
   "execution_count": null,
   "metadata": {},
   "outputs": [],
   "source": [
    "universe_end_date = pd.Timestamp('2016-01-05', tz='UTC')\n",
    "\n",
    "universe_tickers = engine\\\n",
    "    .run_pipeline(\n",
    "        Pipeline(screen=universe),\n",
    "        universe_end_date,\n",
    "        universe_end_date)\\\n",
    "    .index.get_level_values(1)\\\n",
    "    .values.tolist()\n",
    "    \n",
    "universe_tickers"
   ]
  },
  {
   "cell_type": "markdown",
   "metadata": {},
   "source": [
    "# Get Returns data"
   ]
  },
  {
   "cell_type": "code",
   "execution_count": null,
   "metadata": {},
   "outputs": [],
   "source": [
    "from zipline.data.data_portal import DataPortal\n",
    "\n",
    "data_portal = DataPortal(\n",
    "    bundle_data.asset_finder,\n",
    "    trading_calendar=trading_calendar,\n",
    "    first_trading_day=bundle_data.equity_daily_bar_reader.first_trading_day,\n",
    "    equity_minute_reader=None,\n",
    "    equity_daily_reader=bundle_data.equity_daily_bar_reader,\n",
    "    adjustment_reader=bundle_data.adjustment_reader)"
   ]
  },
  {
   "cell_type": "markdown",
   "metadata": {},
   "source": [
    "## Get pricing data helper function"
   ]
  },
  {
   "cell_type": "code",
   "execution_count": null,
   "metadata": {},
   "outputs": [],
   "source": [
    "def get_pricing(data_portal, trading_calendar, assets, start_date, end_date, field='close'):\n",
    "    end_dt = pd.Timestamp(end_date.strftime('%Y-%m-%d'), tz='UTC', offset='C')\n",
    "    start_dt = pd.Timestamp(start_date.strftime('%Y-%m-%d'), tz='UTC', offset='C')\n",
    "\n",
    "    end_loc = trading_calendar.closes.index.get_loc(end_dt)\n",
    "    start_loc = trading_calendar.closes.index.get_loc(start_dt)\n",
    "\n",
    "    return data_portal.get_history_window(\n",
    "        assets=assets,\n",
    "        end_dt=end_dt,\n",
    "        bar_count=end_loc - start_loc,\n",
    "        frequency='1d',\n",
    "        field=field,\n",
    "        data_frequency='daily')"
   ]
  },
  {
   "cell_type": "markdown",
   "metadata": {},
   "source": [
    "## get pricing data into a dataframe"
   ]
  },
  {
   "cell_type": "code",
   "execution_count": null,
   "metadata": {},
   "outputs": [],
   "source": [
    "returns_df = \\\n",
    "    get_pricing(\n",
    "        data_portal,\n",
    "        trading_calendar,\n",
    "        universe_tickers,\n",
    "        universe_end_date - pd.DateOffset(years=5),\n",
    "        universe_end_date)\\\n",
    "    .pct_change()[1:].fillna(0) #convert prices into returns\n",
    "\n",
    "returns_df"
   ]
  },
  {
   "cell_type": "markdown",
   "metadata": {},
   "source": [
    "## Sector data helper function\n",
    "We'll create an object for you, which defines a sector for each stock.  The sectors are represented by integers.  We inherit from the Classifier class.  [Documentation for Classifier](https://www.quantopian.com/posts/pipeline-classifiers-are-here), and the [source code for Classifier](https://github.com/quantopian/zipline/blob/master/zipline/pipeline/classifiers/classifier.py)"
   ]
  },
  {
   "cell_type": "code",
   "execution_count": null,
   "metadata": {},
   "outputs": [],
   "source": [
    "from zipline.pipeline.classifiers import Classifier\n",
    "from zipline.utils.numpy_utils import int64_dtype\n",
    "class Sector(Classifier):\n",
    "    dtype = int64_dtype\n",
    "    window_length = 0\n",
    "    inputs = ()\n",
    "    missing_value = -1\n",
    "\n",
    "    def __init__(self):\n",
    "        self.data = np.load('../../data/project_4_sector/data.npy')\n",
    "\n",
    "    def _compute(self, arrays, dates, assets, mask):\n",
    "        return np.where(\n",
    "            mask,\n",
    "            self.data[assets],\n",
    "            self.missing_value,\n",
    "        )"
   ]
  },
  {
   "cell_type": "code",
   "execution_count": null,
   "metadata": {},
   "outputs": [],
   "source": [
    "sector = Sector()"
   ]
  },
  {
   "cell_type": "markdown",
   "metadata": {},
   "source": [
    "## We'll use 2 years of data to calculate the factor"
   ]
  },
  {
   "cell_type": "markdown",
   "metadata": {},
   "source": [
    "**Note:** Going back 2 years falls on a day when the market is closed. Pipeline package doesn't handle start or end dates that don't fall on days when the market is open. To fix this, we went back 2 extra days to fall on the next day when the market is open."
   ]
  },
  {
   "cell_type": "code",
   "execution_count": null,
   "metadata": {},
   "outputs": [],
   "source": [
    "factor_start_date = universe_end_date - pd.DateOffset(years=2, days=2)\n",
    "factor_start_date"
   ]
  },
  {
   "cell_type": "markdown",
   "metadata": {},
   "source": [
    "## Explore the rank function\n",
    "\n",
    "The Returns class inherits from zipline.pipeline.factors.factor.  \n",
    "[The documentation for rank is located here](https://www.zipline.io/appendix.html#zipline.pipeline.factors.Factor.rank), and is also pasted below:\n",
    "\n",
    "```\n",
    "rank(method='ordinal', ascending=True, mask=sentinel('NotSpecified'), groupby=sentinel('NotSpecified'))[source]\n",
    "Construct a new Factor representing the sorted rank of each column within each row.\n",
    "\n",
    "Parameters:\t\n",
    "method (str, {'ordinal', 'min', 'max', 'dense', 'average'}) – The method used to assign ranks to tied elements. See scipy.stats.rankdata for a full description of the semantics for each ranking method. Default is ‘ordinal’.\n",
    "ascending (bool, optional) – Whether to return sorted rank in ascending or descending order. Default is True.\n",
    "mask (zipline.pipeline.Filter, optional) – A Filter representing assets to consider when computing ranks. If mask is supplied, ranks are computed ignoring any asset/date pairs for which mask produces a value of False.\n",
    "groupby (zipline.pipeline.Classifier, optional) – A classifier defining partitions over which to perform ranking.\n",
    "Returns:\t\n",
    "ranks – A new factor that will compute the ranking of the data produced by self.\n",
    "\n",
    "Return type:\t\n",
    "zipline.pipeline.factors.Rank\n",
    "```"
   ]
  },
  {
   "cell_type": "markdown",
   "metadata": {},
   "source": [
    "## Quiz 1\n",
    "Create a factor of one year returns, demeaned, and ranked"
   ]
  },
  {
   "cell_type": "markdown",
   "metadata": {},
   "source": [
    "## Answer 1 here"
   ]
  },
  {
   "cell_type": "code",
   "execution_count": null,
   "metadata": {},
   "outputs": [],
   "source": [
    "from zipline.pipeline.factors import Returns\n",
    "#TODO\n",
    "# create a pipeline called p\n",
    "p = Pipeline(screen=universe)\n",
    "# create a factor of one year returns, deman by sector, then rank\n",
    "\n",
    "# add the factor to the pipeline\n"
   ]
  },
  {
   "cell_type": "markdown",
   "metadata": {},
   "source": [
    "## visualize the pipeline"
   ]
  },
  {
   "cell_type": "code",
   "execution_count": null,
   "metadata": {},
   "outputs": [],
   "source": [
    "p.show_graph(format='png')"
   ]
  },
  {
   "cell_type": "markdown",
   "metadata": {},
   "source": [
    "## run pipeline and view the factor data"
   ]
  },
  {
   "cell_type": "code",
   "execution_count": null,
   "metadata": {},
   "outputs": [],
   "source": [
    "df = engine.run_pipeline(p, factor_start_date, universe_end_date)"
   ]
  },
  {
   "cell_type": "code",
   "execution_count": null,
   "metadata": {},
   "outputs": [],
   "source": [
    "df.head()"
   ]
  },
  {
   "cell_type": "markdown",
   "metadata": {},
   "source": [
    "## Quiz 2\n",
    "What do you notice about the factor values?"
   ]
  },
  {
   "cell_type": "markdown",
   "metadata": {},
   "source": [
    "## Answer 2 here:"
   ]
  },
  {
   "cell_type": "markdown",
   "metadata": {},
   "source": [
    "## Solution notebook\n",
    "[The solution notebook is here.](rank_solution.ipynb)"
   ]
  },
  {
   "cell_type": "code",
   "execution_count": null,
   "metadata": {},
   "outputs": [],
   "source": []
  }
 ],
 "metadata": {
  "kernelspec": {
   "display_name": "Python 3",
   "language": "python",
   "name": "python3"
  },
  "language_info": {
   "codemirror_mode": {
    "name": "ipython",
    "version": 3
   },
   "file_extension": ".py",
   "mimetype": "text/x-python",
   "name": "python",
   "nbconvert_exporter": "python",
   "pygments_lexer": "ipython3",
   "version": "3.6.10"
  }
 },
 "nbformat": 4,
 "nbformat_minor": 2
}

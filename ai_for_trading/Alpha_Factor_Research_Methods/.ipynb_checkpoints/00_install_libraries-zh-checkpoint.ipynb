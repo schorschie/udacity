{
 "cells": [
  {
   "cell_type": "markdown",
   "metadata": {},
   "source": [
    "## 安装库\n",
    "\n",
    "第一次安装这些 python 库需要一些时间，但是对于这节课的所有编程练习只需安装一次。请在单独的标签页中运行以下代码，并继续观看视频。当你学习到第一个编程练习时，如果此 notebook 已安装完毕，你将无需等待安装，可以直接开始运行该练习中的代码。"
   ]
  },
  {
   "cell_type": "code",
   "execution_count": null,
   "metadata": {},
   "outputs": [],
   "source": [
    "import sys\n",
    "!{sys.executable} -m pip install -r requirements.txt"
   ]
  }
 ],
 "metadata": {},
 "nbformat": 4,
 "nbformat_minor": 2
}

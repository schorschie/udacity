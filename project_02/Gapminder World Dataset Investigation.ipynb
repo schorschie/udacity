{
 "cells": [
  {
   "cell_type": "markdown",
   "metadata": {
    "slideshow": {
     "slide_type": "slide"
    }
   },
   "source": [
    "# Investigate some indicators in differen countries\n",
    "\n",
    "## Table of Contents\n",
    "<ul>\n",
    "<li><a href=\"#intro\">Introduction</a></li>\n",
    "<li><a href=\"#wrangling\">Data Wrangling</a></li>\n",
    "<li><a href=\"#eda\">Exploratory Data Analysis</a></li>\n",
    "<li><a href=\"#conclusions\">Conclusions</a></li>\n",
    "</ul>"
   ]
  },
  {
   "cell_type": "code",
   "execution_count": 66,
   "metadata": {},
   "outputs": [],
   "source": [
    "# Imports\n",
    "import pandas as pd\n",
    "import numpy as np\n",
    "import matplotlib.pyplot as plt\n",
    "%matplotlib inline"
   ]
  },
  {
   "cell_type": "markdown",
   "metadata": {},
   "source": [
    "<a id='intro'></a>\n",
    "## Introduction\n",
    "\n",
    "From the given data set options I chose 6 datasets from the [Gapminder World](https://www.google.com/url?q=http://www.gapminder.org/data/&sa=D&ust=1532469042121000):\n",
    "\n",
    "* Children per woman total fertility\n",
    "* Child mortality 0-5 years olds dying per 1000 born\n",
    "* CO_2 emissions in tonnes per person\n",
    "* Income per person inflation adjusted\n",
    "* Life expectancy years\n",
    "* Murger per 100000 people\n",
    "\n",
    "To easy the further process the dataframes named and are stored in a dictionary."
   ]
  },
  {
   "cell_type": "code",
   "execution_count": 67,
   "metadata": {},
   "outputs": [],
   "source": [
    "# Read CSV Files, name them and store them in a dictionary\n",
    "files = {'fertility' : 'children_per_woman_total_fertility.csv',\n",
    "        'child_mortality': 'child_mortality_0_5_year_olds_dying_per_1000_born.csv',\n",
    "        'income' : 'income_per_person_gdppercapita_ppp_inflation_adjusted.csv',\n",
    "      #  'c02_emissions': 'co2_emissions_tonnes_per_person.csv',\n",
    "        'life_expectancy': 'life_expectancy_years.csv'}#,\n",
    "      #  'murders' : 'murder_per_100000_people.csv'}\n",
    "dfs = {}\n",
    "for key, value in files.items():\n",
    "    dfs[key] = pd.read_csv(value, index_col=0).T\n",
    "    dfs[key].rename_axis('year', inplace=True)\n",
    "    # Transpose, so that columns are countries and the index is years.\n"
   ]
  },
  {
   "cell_type": "markdown",
   "metadata": {},
   "source": [
    "<a id='wrangling'></a>\n",
    "## Data Wrangling\n",
    "\n",
    "The CSV files provide the given data for each country (row) and many years (columns). To unifiy the given data I already transposed the csv files, so that the countries appear in the columns and the years in  the index."
   ]
  },
  {
   "cell_type": "markdown",
   "metadata": {
    "collapsed": true
   },
   "source": [
    "### Shapes of the DataFrames\n",
    "\n",
    "First step I investigate the shapes of the frames, which will most likely not be the same and try to unify them later."
   ]
  },
  {
   "cell_type": "code",
   "execution_count": 68,
   "metadata": {},
   "outputs": [
    {
     "name": "stdout",
     "output_type": "stream",
     "text": [
      "Shape of fertility is (301, 184)\n",
      "Shape of child_mortality is (301, 195)\n",
      "Shape of income is (241, 193)\n",
      "Shape of life_expectancy is (301, 187)\n"
     ]
    }
   ],
   "source": [
    "for key, df in dfs.items():\n",
    "    print('Shape of ' + key + ' is ' + str(df.shape))"
   ]
  },
  {
   "cell_type": "markdown",
   "metadata": {},
   "source": [
    "Code above shows, that initial thought was right. Therefore it is testet, which columns are common in all Frames.\n",
    "#### Columns"
   ]
  },
  {
   "cell_type": "code",
   "execution_count": 69,
   "metadata": {},
   "outputs": [
    {
     "name": "stdout",
     "output_type": "stream",
     "text": [
      "['Afghanistan', 'Albania', 'Algeria', 'Angola', 'Antigua and Barbuda', 'Argentina', 'Armenia', 'Australia', 'Austria', 'Azerbaijan', 'Bahamas', 'Bahrain', 'Bangladesh', 'Barbados', 'Belarus', 'Belgium', 'Belize', 'Benin', 'Bhutan', 'Bolivia', 'Bosnia and Herzegovina', 'Botswana', 'Brazil', 'Brunei', 'Bulgaria', 'Burkina Faso', 'Burundi', 'Cambodia', 'Cameroon', 'Canada', 'Cape Verde', 'Central African Republic', 'Chad', 'Chile', 'China', 'Colombia', 'Comoros', 'Congo, Dem. Rep.', 'Congo, Rep.', 'Costa Rica', \"Cote d'Ivoire\", 'Croatia', 'Cuba', 'Cyprus', 'Czech Republic', 'Denmark', 'Djibouti', 'Dominican Republic', 'Ecuador', 'Egypt', 'El Salvador', 'Equatorial Guinea', 'Eritrea', 'Estonia', 'Ethiopia', 'Fiji', 'Finland', 'France', 'Gabon', 'Gambia', 'Georgia', 'Germany', 'Ghana', 'Greece', 'Grenada', 'Guatemala', 'Guinea', 'Guinea-Bissau', 'Guyana', 'Haiti', 'Honduras', 'Hungary', 'Iceland', 'India', 'Indonesia', 'Iran', 'Iraq', 'Ireland', 'Israel', 'Italy', 'Jamaica', 'Japan', 'Jordan', 'Kazakhstan', 'Kenya', 'Kiribati', 'Kuwait', 'Kyrgyz Republic', 'Lao', 'Latvia', 'Lebanon', 'Lesotho', 'Liberia', 'Libya', 'Lithuania', 'Luxembourg', 'Madagascar', 'Malawi', 'Malaysia', 'Maldives', 'Mali', 'Malta', 'Mauritania', 'Mauritius', 'Mexico', 'Micronesia, Fed. Sts.', 'Moldova', 'Mongolia', 'Montenegro', 'Morocco', 'Mozambique', 'Myanmar', 'Namibia', 'Nepal', 'Netherlands', 'New Zealand', 'Nicaragua', 'Niger', 'Nigeria', 'North Korea', 'North Macedonia', 'Norway', 'Oman', 'Pakistan', 'Palestine', 'Panama', 'Papua New Guinea', 'Paraguay', 'Peru', 'Philippines', 'Poland', 'Portugal', 'Qatar', 'Romania', 'Russia', 'Rwanda', 'Samoa', 'Sao Tome and Principe', 'Saudi Arabia', 'Senegal', 'Serbia', 'Seychelles', 'Sierra Leone', 'Singapore', 'Slovak Republic', 'Slovenia', 'Solomon Islands', 'Somalia', 'South Africa', 'South Korea', 'South Sudan', 'Spain', 'Sri Lanka', 'St. Lucia', 'St. Vincent and the Grenadines', 'Sudan', 'Suriname', 'Swaziland', 'Sweden', 'Switzerland', 'Syria', 'Tajikistan', 'Tanzania', 'Thailand', 'Timor-Leste', 'Togo', 'Tonga', 'Trinidad and Tobago', 'Tunisia', 'Turkey', 'Turkmenistan', 'Uganda', 'Ukraine', 'United Arab Emirates', 'United Kingdom', 'United States', 'Uruguay', 'Uzbekistan', 'Vanuatu', 'Venezuela', 'Vietnam', 'Yemen', 'Zambia', 'Zimbabwe']\n"
     ]
    }
   ],
   "source": [
    "dataframe_list = list(files.keys())\n",
    "common_columns = set(dfs[dataframe_list.pop()].columns)\n",
    "\n",
    "for key in dataframe_list:\n",
    "    common_columns = sorted(set.intersection(set(common_columns),\n",
    "                                             set(dfs[key].columns)))\n",
    "print(common_columns)"
   ]
  },
  {
   "cell_type": "markdown",
   "metadata": {},
   "source": [
    "The list ist still quite long, so from these the following countries are chosen:\n",
    "\n",
    "* Germany (my home country)\n",
    "* Poland (my ancestors country, and a former soviet union country now in the EU)\n",
    "* Ukraine (a former soviet union country not in the EU)\n",
    "* Russia (former soviet union)\n",
    "* Switzerland (managed to convince the whole world to bring them teir money)\n",
    "* United States"
   ]
  },
  {
   "cell_type": "code",
   "execution_count": 70,
   "metadata": {},
   "outputs": [],
   "source": [
    "common_columns = ['Germany', 'Poland', 'Ukraine', 'Russia', 'Switzerland', 'United States']\n",
    "dfs_common_columns = {}\n",
    "for key, df in dfs.items():\n",
    "    dfs_common_columns[key] = df[common_columns]"
   ]
  },
  {
   "cell_type": "markdown",
   "metadata": {},
   "source": [
    "### Data Cleaning \n",
    "#### Column Names\n",
    "\n",
    "The column names are replaced with small caps and `_` for spaces:"
   ]
  },
  {
   "cell_type": "code",
   "execution_count": 71,
   "metadata": {},
   "outputs": [
    {
     "data": {
      "text/html": [
       "<div>\n",
       "<style scoped>\n",
       "    .dataframe tbody tr th:only-of-type {\n",
       "        vertical-align: middle;\n",
       "    }\n",
       "\n",
       "    .dataframe tbody tr th {\n",
       "        vertical-align: top;\n",
       "    }\n",
       "\n",
       "    .dataframe thead th {\n",
       "        text-align: right;\n",
       "    }\n",
       "</style>\n",
       "<table border=\"1\" class=\"dataframe\">\n",
       "  <thead>\n",
       "    <tr style=\"text-align: right;\">\n",
       "      <th>country</th>\n",
       "      <th>Germany</th>\n",
       "      <th>Poland</th>\n",
       "      <th>Ukraine</th>\n",
       "      <th>Russia</th>\n",
       "      <th>Switzerland</th>\n",
       "      <th>United States</th>\n",
       "    </tr>\n",
       "    <tr>\n",
       "      <th>year</th>\n",
       "      <th></th>\n",
       "      <th></th>\n",
       "      <th></th>\n",
       "      <th></th>\n",
       "      <th></th>\n",
       "      <th></th>\n",
       "    </tr>\n",
       "  </thead>\n",
       "  <tbody>\n",
       "    <tr>\n",
       "      <th>1800</th>\n",
       "      <td>38.4</td>\n",
       "      <td>35.9</td>\n",
       "      <td>36.6</td>\n",
       "      <td>29.6</td>\n",
       "      <td>38.0</td>\n",
       "      <td>39.4</td>\n",
       "    </tr>\n",
       "    <tr>\n",
       "      <th>1801</th>\n",
       "      <td>38.4</td>\n",
       "      <td>35.9</td>\n",
       "      <td>36.6</td>\n",
       "      <td>29.6</td>\n",
       "      <td>38.0</td>\n",
       "      <td>39.4</td>\n",
       "    </tr>\n",
       "    <tr>\n",
       "      <th>1802</th>\n",
       "      <td>38.4</td>\n",
       "      <td>35.9</td>\n",
       "      <td>36.6</td>\n",
       "      <td>29.6</td>\n",
       "      <td>38.0</td>\n",
       "      <td>39.4</td>\n",
       "    </tr>\n",
       "    <tr>\n",
       "      <th>1803</th>\n",
       "      <td>38.4</td>\n",
       "      <td>35.9</td>\n",
       "      <td>36.6</td>\n",
       "      <td>29.6</td>\n",
       "      <td>38.0</td>\n",
       "      <td>39.4</td>\n",
       "    </tr>\n",
       "    <tr>\n",
       "      <th>1804</th>\n",
       "      <td>38.4</td>\n",
       "      <td>35.9</td>\n",
       "      <td>36.6</td>\n",
       "      <td>29.6</td>\n",
       "      <td>38.0</td>\n",
       "      <td>39.4</td>\n",
       "    </tr>\n",
       "    <tr>\n",
       "      <th>...</th>\n",
       "      <td>...</td>\n",
       "      <td>...</td>\n",
       "      <td>...</td>\n",
       "      <td>...</td>\n",
       "      <td>...</td>\n",
       "      <td>...</td>\n",
       "    </tr>\n",
       "    <tr>\n",
       "      <th>2096</th>\n",
       "      <td>90.2</td>\n",
       "      <td>88.2</td>\n",
       "      <td>81.1</td>\n",
       "      <td>83.3</td>\n",
       "      <td>93.1</td>\n",
       "      <td>88.1</td>\n",
       "    </tr>\n",
       "    <tr>\n",
       "      <th>2097</th>\n",
       "      <td>90.3</td>\n",
       "      <td>88.3</td>\n",
       "      <td>81.3</td>\n",
       "      <td>83.4</td>\n",
       "      <td>93.3</td>\n",
       "      <td>88.2</td>\n",
       "    </tr>\n",
       "    <tr>\n",
       "      <th>2098</th>\n",
       "      <td>90.4</td>\n",
       "      <td>88.4</td>\n",
       "      <td>81.4</td>\n",
       "      <td>83.5</td>\n",
       "      <td>93.4</td>\n",
       "      <td>88.3</td>\n",
       "    </tr>\n",
       "    <tr>\n",
       "      <th>2099</th>\n",
       "      <td>90.5</td>\n",
       "      <td>88.5</td>\n",
       "      <td>81.5</td>\n",
       "      <td>83.6</td>\n",
       "      <td>93.5</td>\n",
       "      <td>88.4</td>\n",
       "    </tr>\n",
       "    <tr>\n",
       "      <th>2100</th>\n",
       "      <td>90.7</td>\n",
       "      <td>88.6</td>\n",
       "      <td>81.6</td>\n",
       "      <td>83.7</td>\n",
       "      <td>93.6</td>\n",
       "      <td>88.5</td>\n",
       "    </tr>\n",
       "  </tbody>\n",
       "</table>\n",
       "<p>301 rows × 6 columns</p>\n",
       "</div>"
      ],
      "text/plain": [
       "country  Germany  Poland  Ukraine  Russia  Switzerland  United States\n",
       "year                                                                 \n",
       "1800        38.4    35.9     36.6    29.6         38.0           39.4\n",
       "1801        38.4    35.9     36.6    29.6         38.0           39.4\n",
       "1802        38.4    35.9     36.6    29.6         38.0           39.4\n",
       "1803        38.4    35.9     36.6    29.6         38.0           39.4\n",
       "1804        38.4    35.9     36.6    29.6         38.0           39.4\n",
       "...          ...     ...      ...     ...          ...            ...\n",
       "2096        90.2    88.2     81.1    83.3         93.1           88.1\n",
       "2097        90.3    88.3     81.3    83.4         93.3           88.2\n",
       "2098        90.4    88.4     81.4    83.5         93.4           88.3\n",
       "2099        90.5    88.5     81.5    83.6         93.5           88.4\n",
       "2100        90.7    88.6     81.6    83.7         93.6           88.5\n",
       "\n",
       "[301 rows x 6 columns]"
      ]
     },
     "execution_count": 71,
     "metadata": {},
     "output_type": "execute_result"
    }
   ],
   "source": [
    "dfs_common_columns[key] "
   ]
  },
  {
   "cell_type": "code",
   "execution_count": 72,
   "metadata": {
    "scrolled": true
   },
   "outputs": [
    {
     "data": {
      "text/html": [
       "<div>\n",
       "<style scoped>\n",
       "    .dataframe tbody tr th:only-of-type {\n",
       "        vertical-align: middle;\n",
       "    }\n",
       "\n",
       "    .dataframe tbody tr th {\n",
       "        vertical-align: top;\n",
       "    }\n",
       "\n",
       "    .dataframe thead th {\n",
       "        text-align: right;\n",
       "    }\n",
       "</style>\n",
       "<table border=\"1\" class=\"dataframe\">\n",
       "  <thead>\n",
       "    <tr style=\"text-align: right;\">\n",
       "      <th>country</th>\n",
       "      <th>germany</th>\n",
       "      <th>poland</th>\n",
       "      <th>ukraine</th>\n",
       "      <th>russia</th>\n",
       "      <th>switzerland</th>\n",
       "      <th>united_states</th>\n",
       "    </tr>\n",
       "    <tr>\n",
       "      <th>year</th>\n",
       "      <th></th>\n",
       "      <th></th>\n",
       "      <th></th>\n",
       "      <th></th>\n",
       "      <th></th>\n",
       "      <th></th>\n",
       "    </tr>\n",
       "  </thead>\n",
       "  <tbody>\n",
       "    <tr>\n",
       "      <th>1800</th>\n",
       "      <td>38.4</td>\n",
       "      <td>35.9</td>\n",
       "      <td>36.6</td>\n",
       "      <td>29.6</td>\n",
       "      <td>38.0</td>\n",
       "      <td>39.4</td>\n",
       "    </tr>\n",
       "  </tbody>\n",
       "</table>\n",
       "</div>"
      ],
      "text/plain": [
       "country  germany  poland  ukraine  russia  switzerland  united_states\n",
       "year                                                                 \n",
       "1800        38.4    35.9     36.6    29.6         38.0           39.4"
      ]
     },
     "execution_count": 72,
     "metadata": {},
     "output_type": "execute_result"
    }
   ],
   "source": [
    "dfs_clean_headings = {}\n",
    "for key, df in dfs_common_columns.items():\n",
    "    df = df.rename(columns=lambda x : x.strip().lower().replace(\" \", \"_\"))\n",
    "    dfs_clean_headings[key] = df\n",
    "    \n",
    "dfs_clean_headings[key].head(1)# display only the last one"
   ]
  },
  {
   "cell_type": "markdown",
   "metadata": {
    "collapsed": true
   },
   "source": [
    "#### Types\n",
    "Now checking for the types of data."
   ]
  },
  {
   "cell_type": "code",
   "execution_count": 73,
   "metadata": {
    "scrolled": true
   },
   "outputs": [
    {
     "name": "stdout",
     "output_type": "stream",
     "text": [
      "fertility\n",
      "<class 'pandas.core.frame.DataFrame'>\n",
      "Index: 301 entries, 1800 to 2100\n",
      "Data columns (total 6 columns):\n",
      " #   Column         Non-Null Count  Dtype  \n",
      "---  ------         --------------  -----  \n",
      " 0   germany        301 non-null    float64\n",
      " 1   poland         301 non-null    float64\n",
      " 2   ukraine        301 non-null    float64\n",
      " 3   russia         301 non-null    float64\n",
      " 4   switzerland    301 non-null    float64\n",
      " 5   united_states  301 non-null    float64\n",
      "dtypes: float64(6)\n",
      "memory usage: 16.5+ KB\n",
      "child_mortality\n",
      "<class 'pandas.core.frame.DataFrame'>\n",
      "Index: 301 entries, 1800 to 2100\n",
      "Data columns (total 6 columns):\n",
      " #   Column         Non-Null Count  Dtype  \n",
      "---  ------         --------------  -----  \n",
      " 0   germany        301 non-null    float64\n",
      " 1   poland         301 non-null    float64\n",
      " 2   ukraine        301 non-null    float64\n",
      " 3   russia         301 non-null    float64\n",
      " 4   switzerland    301 non-null    float64\n",
      " 5   united_states  301 non-null    float64\n",
      "dtypes: float64(6)\n",
      "memory usage: 16.5+ KB\n",
      "income\n",
      "<class 'pandas.core.frame.DataFrame'>\n",
      "Index: 241 entries, 1800 to 2040\n",
      "Data columns (total 6 columns):\n",
      " #   Column         Non-Null Count  Dtype\n",
      "---  ------         --------------  -----\n",
      " 0   germany        241 non-null    int64\n",
      " 1   poland         241 non-null    int64\n",
      " 2   ukraine        241 non-null    int64\n",
      " 3   russia         241 non-null    int64\n",
      " 4   switzerland    241 non-null    int64\n",
      " 5   united_states  241 non-null    int64\n",
      "dtypes: int64(6)\n",
      "memory usage: 13.2+ KB\n",
      "life_expectancy\n",
      "<class 'pandas.core.frame.DataFrame'>\n",
      "Index: 301 entries, 1800 to 2100\n",
      "Data columns (total 6 columns):\n",
      " #   Column         Non-Null Count  Dtype  \n",
      "---  ------         --------------  -----  \n",
      " 0   germany        301 non-null    float64\n",
      " 1   poland         301 non-null    float64\n",
      " 2   ukraine        301 non-null    float64\n",
      " 3   russia         301 non-null    float64\n",
      " 4   switzerland    301 non-null    float64\n",
      " 5   united_states  301 non-null    float64\n",
      "dtypes: float64(6)\n",
      "memory usage: 16.5+ KB\n"
     ]
    }
   ],
   "source": [
    "for key, df in dfs_clean_headings.items():\n",
    "    print(key)\n",
    "    df.info()"
   ]
  },
  {
   "cell_type": "markdown",
   "metadata": {},
   "source": [
    "All data seems ok. All values are floats, except for the income, whicch are integers. That is ok, now for the index:"
   ]
  },
  {
   "cell_type": "code",
   "execution_count": 74,
   "metadata": {
    "scrolled": true
   },
   "outputs": [
    {
     "name": "stdout",
     "output_type": "stream",
     "text": [
      "The type of the index of fertility is <class 'str'>\n",
      "The type of the index of child_mortality is <class 'str'>\n",
      "The type of the index of income is <class 'str'>\n",
      "The type of the index of life_expectancy is <class 'str'>\n"
     ]
    }
   ],
   "source": [
    "for key, df in dfs_clean_headings.items():\n",
    "    print('The type of the index of ' + key + ' is ' + str(type(df.index[0])))"
   ]
  },
  {
   "cell_type": "markdown",
   "metadata": {},
   "source": [
    "All indices of the frames are strings, they are set to integer now:"
   ]
  },
  {
   "cell_type": "code",
   "execution_count": 75,
   "metadata": {},
   "outputs": [
    {
     "name": "stdout",
     "output_type": "stream",
     "text": [
      "The type of the index of fertility is <class 'numpy.int64'>\n",
      "The type of the index of child_mortality is <class 'numpy.int64'>\n",
      "The type of the index of income is <class 'numpy.int64'>\n",
      "The type of the index of life_expectancy is <class 'numpy.int64'>\n"
     ]
    }
   ],
   "source": [
    "for key, _ in dfs_clean_headings.items():\n",
    "    dfs_clean_headings[key].index = dfs_clean_headings[key].index.astype(int)\n",
    "    print('The type of the index of ' + key + ' is ' + str(type(dfs_clean_headings[key].index[0])))\n",
    "    "
   ]
  },
  {
   "cell_type": "markdown",
   "metadata": {},
   "source": [
    "#### Double rows\n",
    "Now are there any duplicate rows? If so, drop them!"
   ]
  },
  {
   "cell_type": "code",
   "execution_count": 77,
   "metadata": {
    "scrolled": false
   },
   "outputs": [
    {
     "name": "stdout",
     "output_type": "stream",
     "text": [
      "Duplicate rows in Frame fertility: 20\n",
      "Duplicate rows in Frame fertility: 0\n",
      "Duplicate rows in Frame child_mortality: 34\n",
      "Duplicate rows in Frame child_mortality: 0\n",
      "Duplicate rows in Frame income: 0\n",
      "Duplicate rows in Frame life_expectancy: 62\n",
      "Duplicate rows in Frame life_expectancy: 0\n"
     ]
    }
   ],
   "source": [
    "for key, df in dfs_clean_headings.items():\n",
    "    num_duplicates = sum(df.duplicated())\n",
    "    print('Duplicate rows in Frame ' + key + ': ' + str(num_duplicates))\n",
    "    if num_duplicates > 0:\n",
    "        df.drop_duplicates(inplace=True)\n",
    "        num_duplicates = sum(df.duplicated())\n",
    "        print('Duplicate rows in Frame ' + key + ': ' + str(num_duplicates))\n",
    "        dfs_clean_headings[key] = df\n"
   ]
  },
  {
   "cell_type": "markdown",
   "metadata": {},
   "source": [
    "Now, there are no duplicates in the frames.\n",
    "\n",
    "#### Rows\n",
    "\n",
    "Now since there where duplicate rows, lets do a cleaning for the common rows. "
   ]
  },
  {
   "cell_type": "code",
   "execution_count": 78,
   "metadata": {
    "scrolled": true
   },
   "outputs": [
    {
     "name": "stdout",
     "output_type": "stream",
     "text": [
      "['1800', '1801', '1802', '1803', '1804', '1805', '1806', '1807', '1808', '1809', '1810', '1811', '1812', '1813', '1814', '1815', '1816', '1817', '1818', '1819', '1820', '1821', '1822', '1823', '1824', '1825', '1826', '1827', '1828', '1829', '1830', '1831', '1832', '1833', '1834', '1835', '1836', '1837', '1838', '1839', '1840', '1841', '1842', '1843', '1844', '1845', '1846', '1847', '1848', '1849', '1850', '1851', '1852', '1853', '1854', '1855', '1856', '1857', '1858', '1859', '1860', '1861', '1862', '1863', '1864', '1865', '1866', '1867', '1868', '1869', '1870', '1871', '1872', '1873', '1874', '1875', '1876', '1877', '1878', '1879', '1880', '1881', '1882', '1883', '1884', '1885', '1886', '1887', '1888', '1889', '1890', '1891', '1892', '1893', '1894', '1895', '1896', '1897', '1898', '1899', '1900', '1901', '1902', '1903', '1904', '1905', '1906', '1907', '1908', '1909', '1910', '1911', '1912', '1913', '1914', '1915', '1916', '1917', '1918', '1919', '1920', '1921', '1922', '1923', '1924', '1925', '1926', '1927', '1928', '1929', '1930', '1931', '1932', '1933', '1934', '1935', '1936', '1937', '1938', '1939', '1940', '1941', '1942', '1943', '1944', '1945', '1946', '1947', '1948', '1949', '1950', '1951', '1952', '1953', '1954', '1955', '1956', '1957', '1958', '1959', '1960', '1961', '1962', '1963', '1964', '1965', '1966', '1967', '1968', '1969', '1970', '1971', '1972', '1973', '1974', '1975', '1976', '1977', '1978', '1979', '1980', '1981', '1982', '1983', '1984', '1985', '1986', '1987', '1988', '1989', '1990', '1991', '1992', '1993', '1994', '1995', '1996', '1997', '1998', '1999', '2000', '2001', '2002', '2003', '2004', '2005', '2006', '2007', '2008', '2009', '2010', '2011', '2012', '2013', '2014', '2015', '2016', '2017', '2018', '2019', '2020', '2021', '2022', '2023', '2024', '2025', '2026', '2027', '2028', '2029', '2030', '2031', '2032', '2033', '2034', '2035', '2036', '2037', '2038', '2039', '2040']\n"
     ]
    }
   ],
   "source": [
    "dataframe_list = list(files.keys())\n",
    "common_rows = set(dfs[dataframe_list.pop()].index)\n",
    "\n",
    "for key in dataframe_list:\n",
    "    common_rows = sorted(set.intersection(set(common_rows),\n",
    "                                          set(dfs[key].index)))\n",
    "print(common_rows)"
   ]
  },
  {
   "cell_type": "markdown",
   "metadata": {},
   "source": [
    "The common years in the data frames are from 1800 to 2040, which represents the last 220 years and a forecast. This seems to much, therefore the set is limited from 1900 until 2020. The index are strings will be cleaned later.\n",
    "\n",
    "The next cell shortens the index and shows, that now all frames are equally sized."
   ]
  },
  {
   "cell_type": "code",
   "execution_count": 80,
   "metadata": {
    "scrolled": true
   },
   "outputs": [
    {
     "data": {
      "text/html": [
       "<div>\n",
       "<style scoped>\n",
       "    .dataframe tbody tr th:only-of-type {\n",
       "        vertical-align: middle;\n",
       "    }\n",
       "\n",
       "    .dataframe tbody tr th {\n",
       "        vertical-align: top;\n",
       "    }\n",
       "\n",
       "    .dataframe thead th {\n",
       "        text-align: right;\n",
       "    }\n",
       "</style>\n",
       "<table border=\"1\" class=\"dataframe\">\n",
       "  <thead>\n",
       "    <tr style=\"text-align: right;\">\n",
       "      <th>country</th>\n",
       "      <th>germany</th>\n",
       "      <th>poland</th>\n",
       "      <th>ukraine</th>\n",
       "      <th>russia</th>\n",
       "      <th>switzerland</th>\n",
       "      <th>united_states</th>\n",
       "    </tr>\n",
       "    <tr>\n",
       "      <th>year</th>\n",
       "      <th></th>\n",
       "      <th></th>\n",
       "      <th></th>\n",
       "      <th></th>\n",
       "      <th></th>\n",
       "      <th></th>\n",
       "    </tr>\n",
       "  </thead>\n",
       "  <tbody>\n",
       "    <tr>\n",
       "      <th>1900</th>\n",
       "      <td>4.93</td>\n",
       "      <td>5.49</td>\n",
       "      <td>6.69</td>\n",
       "      <td>7.36</td>\n",
       "      <td>3.83</td>\n",
       "      <td>3.85</td>\n",
       "    </tr>\n",
       "  </tbody>\n",
       "</table>\n",
       "</div>"
      ],
      "text/plain": [
       "country  germany  poland  ukraine  russia  switzerland  united_states\n",
       "year                                                                 \n",
       "1900        4.93    5.49     6.69    7.36         3.83           3.85"
      ]
     },
     "metadata": {},
     "output_type": "display_data"
    },
    {
     "data": {
      "text/html": [
       "<div>\n",
       "<style scoped>\n",
       "    .dataframe tbody tr th:only-of-type {\n",
       "        vertical-align: middle;\n",
       "    }\n",
       "\n",
       "    .dataframe tbody tr th {\n",
       "        vertical-align: top;\n",
       "    }\n",
       "\n",
       "    .dataframe thead th {\n",
       "        text-align: right;\n",
       "    }\n",
       "</style>\n",
       "<table border=\"1\" class=\"dataframe\">\n",
       "  <thead>\n",
       "    <tr style=\"text-align: right;\">\n",
       "      <th>country</th>\n",
       "      <th>germany</th>\n",
       "      <th>poland</th>\n",
       "      <th>ukraine</th>\n",
       "      <th>russia</th>\n",
       "      <th>switzerland</th>\n",
       "      <th>united_states</th>\n",
       "    </tr>\n",
       "    <tr>\n",
       "      <th>year</th>\n",
       "      <th></th>\n",
       "      <th></th>\n",
       "      <th></th>\n",
       "      <th></th>\n",
       "      <th></th>\n",
       "      <th></th>\n",
       "    </tr>\n",
       "  </thead>\n",
       "  <tbody>\n",
       "    <tr>\n",
       "      <th>2020</th>\n",
       "      <td>1.49</td>\n",
       "      <td>1.29</td>\n",
       "      <td>1.59</td>\n",
       "      <td>1.77</td>\n",
       "      <td>1.56</td>\n",
       "      <td>1.89</td>\n",
       "    </tr>\n",
       "  </tbody>\n",
       "</table>\n",
       "</div>"
      ],
      "text/plain": [
       "country  germany  poland  ukraine  russia  switzerland  united_states\n",
       "year                                                                 \n",
       "2020        1.49    1.29     1.59    1.77         1.56           1.89"
      ]
     },
     "metadata": {},
     "output_type": "display_data"
    },
    {
     "name": "stdout",
     "output_type": "stream",
     "text": [
      "Shape of fertility is (121, 6)\n"
     ]
    },
    {
     "data": {
      "text/html": [
       "<div>\n",
       "<style scoped>\n",
       "    .dataframe tbody tr th:only-of-type {\n",
       "        vertical-align: middle;\n",
       "    }\n",
       "\n",
       "    .dataframe tbody tr th {\n",
       "        vertical-align: top;\n",
       "    }\n",
       "\n",
       "    .dataframe thead th {\n",
       "        text-align: right;\n",
       "    }\n",
       "</style>\n",
       "<table border=\"1\" class=\"dataframe\">\n",
       "  <thead>\n",
       "    <tr style=\"text-align: right;\">\n",
       "      <th>country</th>\n",
       "      <th>germany</th>\n",
       "      <th>poland</th>\n",
       "      <th>ukraine</th>\n",
       "      <th>russia</th>\n",
       "      <th>switzerland</th>\n",
       "      <th>united_states</th>\n",
       "    </tr>\n",
       "    <tr>\n",
       "      <th>year</th>\n",
       "      <th></th>\n",
       "      <th></th>\n",
       "      <th></th>\n",
       "      <th></th>\n",
       "      <th></th>\n",
       "      <th></th>\n",
       "    </tr>\n",
       "  </thead>\n",
       "  <tbody>\n",
       "    <tr>\n",
       "      <th>1900</th>\n",
       "      <td>372.0</td>\n",
       "      <td>317.0</td>\n",
       "      <td>360.0</td>\n",
       "      <td>409.0</td>\n",
       "      <td>197.0</td>\n",
       "      <td>232.0</td>\n",
       "    </tr>\n",
       "  </tbody>\n",
       "</table>\n",
       "</div>"
      ],
      "text/plain": [
       "country  germany  poland  ukraine  russia  switzerland  united_states\n",
       "year                                                                 \n",
       "1900       372.0   317.0    360.0   409.0        197.0          232.0"
      ]
     },
     "metadata": {},
     "output_type": "display_data"
    },
    {
     "data": {
      "text/html": [
       "<div>\n",
       "<style scoped>\n",
       "    .dataframe tbody tr th:only-of-type {\n",
       "        vertical-align: middle;\n",
       "    }\n",
       "\n",
       "    .dataframe tbody tr th {\n",
       "        vertical-align: top;\n",
       "    }\n",
       "\n",
       "    .dataframe thead th {\n",
       "        text-align: right;\n",
       "    }\n",
       "</style>\n",
       "<table border=\"1\" class=\"dataframe\">\n",
       "  <thead>\n",
       "    <tr style=\"text-align: right;\">\n",
       "      <th>country</th>\n",
       "      <th>germany</th>\n",
       "      <th>poland</th>\n",
       "      <th>ukraine</th>\n",
       "      <th>russia</th>\n",
       "      <th>switzerland</th>\n",
       "      <th>united_states</th>\n",
       "    </tr>\n",
       "    <tr>\n",
       "      <th>year</th>\n",
       "      <th></th>\n",
       "      <th></th>\n",
       "      <th></th>\n",
       "      <th></th>\n",
       "      <th></th>\n",
       "      <th></th>\n",
       "    </tr>\n",
       "  </thead>\n",
       "  <tbody>\n",
       "    <tr>\n",
       "      <th>2020</th>\n",
       "      <td>3.24</td>\n",
       "      <td>4.13</td>\n",
       "      <td>8.18</td>\n",
       "      <td>6.52</td>\n",
       "      <td>3.91</td>\n",
       "      <td>6.62</td>\n",
       "    </tr>\n",
       "  </tbody>\n",
       "</table>\n",
       "</div>"
      ],
      "text/plain": [
       "country  germany  poland  ukraine  russia  switzerland  united_states\n",
       "year                                                                 \n",
       "2020        3.24    4.13     8.18    6.52         3.91           6.62"
      ]
     },
     "metadata": {},
     "output_type": "display_data"
    },
    {
     "name": "stdout",
     "output_type": "stream",
     "text": [
      "Shape of child_mortality is (121, 6)\n"
     ]
    },
    {
     "data": {
      "text/html": [
       "<div>\n",
       "<style scoped>\n",
       "    .dataframe tbody tr th:only-of-type {\n",
       "        vertical-align: middle;\n",
       "    }\n",
       "\n",
       "    .dataframe tbody tr th {\n",
       "        vertical-align: top;\n",
       "    }\n",
       "\n",
       "    .dataframe thead th {\n",
       "        text-align: right;\n",
       "    }\n",
       "</style>\n",
       "<table border=\"1\" class=\"dataframe\">\n",
       "  <thead>\n",
       "    <tr style=\"text-align: right;\">\n",
       "      <th>country</th>\n",
       "      <th>germany</th>\n",
       "      <th>poland</th>\n",
       "      <th>ukraine</th>\n",
       "      <th>russia</th>\n",
       "      <th>switzerland</th>\n",
       "      <th>united_states</th>\n",
       "    </tr>\n",
       "    <tr>\n",
       "      <th>year</th>\n",
       "      <th></th>\n",
       "      <th></th>\n",
       "      <th></th>\n",
       "      <th></th>\n",
       "      <th></th>\n",
       "      <th></th>\n",
       "    </tr>\n",
       "  </thead>\n",
       "  <tbody>\n",
       "    <tr>\n",
       "      <th>1900</th>\n",
       "      <td>6030</td>\n",
       "      <td>3300</td>\n",
       "      <td>1650</td>\n",
       "      <td>3090</td>\n",
       "      <td>13800</td>\n",
       "      <td>6250</td>\n",
       "    </tr>\n",
       "  </tbody>\n",
       "</table>\n",
       "</div>"
      ],
      "text/plain": [
       "country  germany  poland  ukraine  russia  switzerland  united_states\n",
       "year                                                                 \n",
       "1900        6030    3300     1650    3090        13800           6250"
      ]
     },
     "metadata": {},
     "output_type": "display_data"
    },
    {
     "data": {
      "text/html": [
       "<div>\n",
       "<style scoped>\n",
       "    .dataframe tbody tr th:only-of-type {\n",
       "        vertical-align: middle;\n",
       "    }\n",
       "\n",
       "    .dataframe tbody tr th {\n",
       "        vertical-align: top;\n",
       "    }\n",
       "\n",
       "    .dataframe thead th {\n",
       "        text-align: right;\n",
       "    }\n",
       "</style>\n",
       "<table border=\"1\" class=\"dataframe\">\n",
       "  <thead>\n",
       "    <tr style=\"text-align: right;\">\n",
       "      <th>country</th>\n",
       "      <th>germany</th>\n",
       "      <th>poland</th>\n",
       "      <th>ukraine</th>\n",
       "      <th>russia</th>\n",
       "      <th>switzerland</th>\n",
       "      <th>united_states</th>\n",
       "    </tr>\n",
       "    <tr>\n",
       "      <th>year</th>\n",
       "      <th></th>\n",
       "      <th></th>\n",
       "      <th></th>\n",
       "      <th></th>\n",
       "      <th></th>\n",
       "      <th></th>\n",
       "    </tr>\n",
       "  </thead>\n",
       "  <tbody>\n",
       "    <tr>\n",
       "      <th>2020</th>\n",
       "      <td>46700</td>\n",
       "      <td>30900</td>\n",
       "      <td>8770</td>\n",
       "      <td>26200</td>\n",
       "      <td>59100</td>\n",
       "      <td>57500</td>\n",
       "    </tr>\n",
       "  </tbody>\n",
       "</table>\n",
       "</div>"
      ],
      "text/plain": [
       "country  germany  poland  ukraine  russia  switzerland  united_states\n",
       "year                                                                 \n",
       "2020       46700   30900     8770   26200        59100          57500"
      ]
     },
     "metadata": {},
     "output_type": "display_data"
    },
    {
     "name": "stdout",
     "output_type": "stream",
     "text": [
      "Shape of income is (121, 6)\n"
     ]
    },
    {
     "data": {
      "text/html": [
       "<div>\n",
       "<style scoped>\n",
       "    .dataframe tbody tr th:only-of-type {\n",
       "        vertical-align: middle;\n",
       "    }\n",
       "\n",
       "    .dataframe tbody tr th {\n",
       "        vertical-align: top;\n",
       "    }\n",
       "\n",
       "    .dataframe thead th {\n",
       "        text-align: right;\n",
       "    }\n",
       "</style>\n",
       "<table border=\"1\" class=\"dataframe\">\n",
       "  <thead>\n",
       "    <tr style=\"text-align: right;\">\n",
       "      <th>country</th>\n",
       "      <th>germany</th>\n",
       "      <th>poland</th>\n",
       "      <th>ukraine</th>\n",
       "      <th>russia</th>\n",
       "      <th>switzerland</th>\n",
       "      <th>united_states</th>\n",
       "    </tr>\n",
       "    <tr>\n",
       "      <th>year</th>\n",
       "      <th></th>\n",
       "      <th></th>\n",
       "      <th></th>\n",
       "      <th></th>\n",
       "      <th></th>\n",
       "      <th></th>\n",
       "    </tr>\n",
       "  </thead>\n",
       "  <tbody>\n",
       "    <tr>\n",
       "      <th>1900</th>\n",
       "      <td>43.9</td>\n",
       "      <td>40.5</td>\n",
       "      <td>36.4</td>\n",
       "      <td>30.8</td>\n",
       "      <td>47.5</td>\n",
       "      <td>49.0</td>\n",
       "    </tr>\n",
       "  </tbody>\n",
       "</table>\n",
       "</div>"
      ],
      "text/plain": [
       "country  germany  poland  ukraine  russia  switzerland  united_states\n",
       "year                                                                 \n",
       "1900        43.9    40.5     36.4    30.8         47.5           49.0"
      ]
     },
     "metadata": {},
     "output_type": "display_data"
    },
    {
     "data": {
      "text/html": [
       "<div>\n",
       "<style scoped>\n",
       "    .dataframe tbody tr th:only-of-type {\n",
       "        vertical-align: middle;\n",
       "    }\n",
       "\n",
       "    .dataframe tbody tr th {\n",
       "        vertical-align: top;\n",
       "    }\n",
       "\n",
       "    .dataframe thead th {\n",
       "        text-align: right;\n",
       "    }\n",
       "</style>\n",
       "<table border=\"1\" class=\"dataframe\">\n",
       "  <thead>\n",
       "    <tr style=\"text-align: right;\">\n",
       "      <th>country</th>\n",
       "      <th>germany</th>\n",
       "      <th>poland</th>\n",
       "      <th>ukraine</th>\n",
       "      <th>russia</th>\n",
       "      <th>switzerland</th>\n",
       "      <th>united_states</th>\n",
       "    </tr>\n",
       "    <tr>\n",
       "      <th>year</th>\n",
       "      <th></th>\n",
       "      <th></th>\n",
       "      <th></th>\n",
       "      <th></th>\n",
       "      <th></th>\n",
       "      <th></th>\n",
       "    </tr>\n",
       "  </thead>\n",
       "  <tbody>\n",
       "    <tr>\n",
       "      <th>2020</th>\n",
       "      <td>81.1</td>\n",
       "      <td>78.5</td>\n",
       "      <td>70.9</td>\n",
       "      <td>72.7</td>\n",
       "      <td>84.4</td>\n",
       "      <td>78.6</td>\n",
       "    </tr>\n",
       "  </tbody>\n",
       "</table>\n",
       "</div>"
      ],
      "text/plain": [
       "country  germany  poland  ukraine  russia  switzerland  united_states\n",
       "year                                                                 \n",
       "2020        81.1    78.5     70.9    72.7         84.4           78.6"
      ]
     },
     "metadata": {},
     "output_type": "display_data"
    },
    {
     "name": "stdout",
     "output_type": "stream",
     "text": [
      "Shape of life_expectancy is (121, 6)\n"
     ]
    }
   ],
   "source": [
    "dfs_common_rows_and_columns = {}\n",
    "for key, _ in dfs_clean_headings.items():\n",
    "    dfs_common_rows_and_columns[key] = dfs_clean_headings[key].loc['1900' : '2020']\n",
    "    display(dfs_common_rows_and_columns[key].head(1))\n",
    "    display(dfs_common_rows_and_columns[key].tail(1))\n",
    "    print('Shape of ' + key + ' is ' + str(dfs_common_rows_and_columns[key].shape))\n",
    "\n"
   ]
  },
  {
   "cell_type": "markdown",
   "metadata": {},
   "source": [
    "#### NaN Values\n",
    "Are there any nan values in the frames?"
   ]
  },
  {
   "cell_type": "code",
   "execution_count": 81,
   "metadata": {
    "scrolled": true
   },
   "outputs": [
    {
     "name": "stdout",
     "output_type": "stream",
     "text": [
      "\n",
      "fertility\n",
      "=========\n",
      "country\n",
      "germany          0\n",
      "poland           0\n",
      "ukraine          0\n",
      "russia           0\n",
      "switzerland      0\n",
      "united_states    0\n",
      "dtype: int64\n",
      "\n",
      "child_mortality\n",
      "===============\n",
      "country\n",
      "germany          0\n",
      "poland           0\n",
      "ukraine          0\n",
      "russia           0\n",
      "switzerland      0\n",
      "united_states    0\n",
      "dtype: int64\n",
      "\n",
      "income\n",
      "======\n",
      "country\n",
      "germany          0\n",
      "poland           0\n",
      "ukraine          0\n",
      "russia           0\n",
      "switzerland      0\n",
      "united_states    0\n",
      "dtype: int64\n",
      "\n",
      "life_expectancy\n",
      "===============\n",
      "country\n",
      "germany          0\n",
      "poland           0\n",
      "ukraine          0\n",
      "russia           0\n",
      "switzerland      0\n",
      "united_states    0\n",
      "dtype: int64\n"
     ]
    }
   ],
   "source": [
    "for key, df in dfs_common_rows_and_columns.items():\n",
    "    print('\\n' + key)\n",
    "    print('=' * len(key))\n",
    "    print(np.sum(df.isna()))"
   ]
  },
  {
   "cell_type": "markdown",
   "metadata": {},
   "source": [
    "### Safe Frames"
   ]
  },
  {
   "cell_type": "code",
   "execution_count": 82,
   "metadata": {},
   "outputs": [],
   "source": [
    "for key, df in dfs_common_rows_and_columns.items():\n",
    "    df.to_csv(key + '.csv', index=True)"
   ]
  },
  {
   "cell_type": "markdown",
   "metadata": {},
   "source": [
    "<a id='eda'></a>\n",
    "## Exploratory Data Analysis\n",
    "### Load Frames"
   ]
  },
  {
   "cell_type": "code",
   "execution_count": 83,
   "metadata": {},
   "outputs": [],
   "source": [
    "final_df = {}\n",
    "for name in files.keys():\n",
    "    final_df[name] = pd.read_csv(name + '.csv', index_col=0)"
   ]
  },
  {
   "cell_type": "markdown",
   "metadata": {},
   "source": [
    "## Overview over all generated Data\n",
    "the next section shows some line plots over all data given in the data frames:"
   ]
  },
  {
   "cell_type": "code",
   "execution_count": 84,
   "metadata": {
    "scrolled": false
   },
   "outputs": [
    {
     "data": {
      "image/png": "[encoded data removed]",
      "text/plain": [
       "<Figure size 1080x1080 with 4 Axes>"
      ]
     },
     "metadata": {
      "needs_background": "light"
     },
     "output_type": "display_data"
    }
   ],
   "source": [
    "fig = plt.figure(figsize=(15,15))\n",
    "for idx, (key, df) in enumerate(final_df.items()):\n",
    "    ax = fig.add_subplot(3, 2, idx+1)\n",
    "    df.plot(ax=ax)\n",
    "    plt.grid(True)\n",
    "    plt.ylabel(files[key].split('.')[0])\n",
    "    plt.title(key)"
   ]
  },
  {
   "cell_type": "markdown",
   "metadata": {},
   "source": [
    "Looking at the some conclusions can be drawn directly:\n",
    "\n",
    "* The first (1914-1918) and second (1939-1945) World War had a severe impact on the fertility, child mortality and life expectancy.\n",
    "* The most severe impact, even worse that World War II on life expectency in the soviet union was the so called [Holodomor](https://en.wikipedia.org/wiki/Holodomor) in 1932-1933\n",
    "* The end of the soviet union decreased the income of the former soviet states to the level of the 1960s.\n",
    "* The child moratlity data of Russia between 1915 and 1945 looks like someone extrapolated it. \n",
    "\n",
    "\n",
    "\n",
    "Additionally I investigate further questions:\n",
    "\n",
    "* Is there a correlation between `income` and `life_expectancy`?\n",
    "* Is there a correlation between `child_mortality` and `fertility`?\n",
    "* Which Country had the biggest relative increas in `income`?\n",
    "* How have `fertility` rates changed between 1900 and 2000?"
   ]
  },
  {
   "cell_type": "markdown",
   "metadata": {},
   "source": [
    "### Is there a correlation between income and life expectancy?"
   ]
  },
  {
   "cell_type": "markdown",
   "metadata": {},
   "source": [
    "### Is there a correlation between child_mortality and fertility?"
   ]
  },
  {
   "cell_type": "markdown",
   "metadata": {},
   "source": [
    "### Which Country had the biggest relative increase in income between 1900 and 2000?"
   ]
  },
  {
   "cell_type": "markdown",
   "metadata": {},
   "source": [
    "### How have `fertility` rates changed between 1900 and 2000?"
   ]
  },
  {
   "cell_type": "markdown",
   "metadata": {},
   "source": [
    "<a id='conclusions'></a>\n",
    "## Conclusions\n",
    "\n",
    "* Is there a correlation between `income` and `life_expectancy`?\n",
    "* Is there a correlation between `child_mortality` and `fertility`?\n",
    "* Which Country had the biggest relative increas in `income`?\n",
    "* How have `fertility` rates changed between 1900 and 2000?"
   ]
  }
 ],
 "metadata": {
  "celltoolbar": "Slideshow",
  "kernelspec": {
   "display_name": "Python 3",
   "language": "python",
   "name": "python3"
  },
  "language_info": {
   "codemirror_mode": {
    "name": "ipython",
    "version": 3
   },
   "file_extension": ".py",
   "mimetype": "text/x-python",
   "name": "python",
   "nbconvert_exporter": "python",
   "pygments_lexer": "ipython3",
   "version": "3.6.10"
  }
 },
 "nbformat": 4,
 "nbformat_minor": 2
}
